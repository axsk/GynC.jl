{
 "cells": [
  {
   "cell_type": "code",
   "execution_count": null,
   "metadata": {
    "collapsed": false,
    "scrolled": true
   },
   "outputs": [],
   "source": [
    "using JLD\n",
    "include(\"Gync.jl\");\n",
    "parms, y0 = loadparms()\n",
    "data = loadpfizer();"
   ]
  },
  {
   "cell_type": "code",
   "execution_count": null,
   "metadata": {
    "collapsed": false,
    "scrolled": false
   },
   "outputs": [],
   "source": [
    "SIGMA_RHO = 0.1\n",
    "SIGMA_Y0  = 0.1\n",
    "SIGMA_PARMS = 10\n",
    "SIGMA_PROPOSAL = 0.05\n",
    "adapt = :all\n",
    "stepsize = 100\n",
    "sampler = :amm\n",
    "persons = 1:3\n",
    "samplingnodes = [:sparms, :y0]\n",
    "\n",
    "jldname = \"smp $sampler ad $adapt pr imd-flat per $(length(persons))-r$SIGMA_RHO-sy$SIGMA_Y0-spar$SIGMA_PARMS-spro$SIGMA_PROPOSAL.jld\"\n",
    "\n",
    "d = eye(length(SAMPLEPARMS)+length(y0))\n",
    "proposalvariance = d * log(1+(SIGMA_PROPOSAL^2));\n",
    "\n",
    "samplers = Dict(\n",
    "    :amm=>[AMM(samplingnodes, proposalvariance, adapt=adapt)], \n",
    "    :amwg=>[AMWG(samplingnodes,diag(proposalvariance); target=0.44)])\n",
    "\n",
    "mcs = []\n",
    "for person in persons\n",
    "    m, inp, ini = gyncmodel(data[person], parms, y0)\n",
    "    setsamplers!(m, samplers[sampler])\n",
    "    \n",
    "    push!(mcs, mcmc(m, inp, ini, stepsize, burnin=0, verbose = false, thin = 1))\n",
    "end\n",
    "\n",
    "#samplelength(mc) = max(floor(Int, size(mc, 1)/5), 2_000)\n",
    "\n",
    "println(jldname)\n",
    "while size(mcs[1],1) < 1_000_000\n",
    "    @time for i in 1:length(persons)\n",
    "        mcs[persons[i]] = mcmc(mcs[persons[i]], stepsize, verbose=false)\n",
    "    end\n",
    "    @time save(jldname, \"mc\", [mc.value for mc in mcs])    \n",
    "    println(size(mcs[1]))\n",
    "end"
   ]
  }
 ],
 "metadata": {
  "kernelspec": {
   "display_name": "Julia 0.4.0",
   "language": "julia",
   "name": "julia-0.4"
  },
  "language_info": {
   "file_extension": ".jl",
   "mimetype": "application/julia",
   "name": "julia",
   "version": "0.4.1"
  }
 },
 "nbformat": 4,
 "nbformat_minor": 0
}
