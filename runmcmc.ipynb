{
 "cells": [
  {
   "cell_type": "code",
   "execution_count": 2,
   "metadata": {
    "collapsed": false
   },
   "outputs": [],
   "source": [
    "using JLD\n",
    "include(\"gyncycle.jl\");"
   ]
  },
  {
   "cell_type": "code",
   "execution_count": 3,
   "metadata": {
    "collapsed": false
   },
   "outputs": [],
   "source": [
    "SIGMA_RHO = 0.1\n",
    "SIGMA_Y0 = 100\n",
    "SIGMA_PARMS = 100;\n",
    "SIGMA_PROPOSAL = 0.1\n",
    "\n",
    "parms, y0 = loadparms()\n",
    "samplingnodes = [:sparms, :y0]\n",
    "data = loadpfizer()\n",
    "persons = 1:length(data)\n",
    "\n",
    "proposalvariance = eye(length(SAMPLEPARMS)+length(y0)) * log(1+(SIGMA_PROPOSAL^2));"
   ]
  },
  {
   "cell_type": "code",
   "execution_count": null,
   "metadata": {
    "collapsed": false
   },
   "outputs": [],
   "source": [
    "mc = []\n",
    "for person in persons\n",
    "    m, inp, ini = gyncmodel(data[person], parms, y0)\n",
    "    setsamplers!(m, [AMM(samplingnodes, proposalvariance, adapt=:none)])\n",
    "    \n",
    "    push!(mc, mcmc(m, inp, ini, 1000, burnin=0, verbose = false, thin = 1))\n",
    "end\n",
    "\n",
    "while size(mc[1],1) < 1_000_000\n",
    "    save(\"13pers-adaptive-correctedhill-0.1-100-100-0.1-flatprior.jld\", \"mc\" , [mc[person].value for person in persons])\n",
    "    for person in persons\n",
    "        mc[person] = mcmc(mc[person], 1_000, verbose=false)\n",
    "    end    \n",
    "end"
   ]
  }
 ],
 "metadata": {
  "kernelspec": {
   "display_name": "Julia 0.4.0",
   "language": "julia",
   "name": "julia-0.4"
  },
  "language_info": {
   "file_extension": ".jl",
   "mimetype": "application/julia",
   "name": "julia",
   "version": "0.4.1"
  }
 },
 "nbformat": 4,
 "nbformat_minor": 0
}
