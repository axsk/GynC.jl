{
 "cells": [
  {
   "cell_type": "code",
   "execution_count": 1,
   "metadata": {
    "collapsed": false
   },
   "outputs": [],
   "source": [
    "using JLD\n",
    "include(\"gyncycle.jl\");"
   ]
  },
  {
   "cell_type": "code",
   "execution_count": 2,
   "metadata": {
    "collapsed": false
   },
   "outputs": [],
   "source": [
    "SIGMA_RHO = 0.3\n",
    "SIGMA_Y0 = 10\n",
    "SIGMA_PARMS = 10\n",
    "SIGMA_PROPOSAL = 0.01\n",
    "adapt = :all\n",
    "\n",
    "parms, y0 = loadparms()\n",
    "samplingnodes = [:sparms, :y0]\n",
    "data = loadpfizer()\n",
    "persons = 1:3\n",
    "\n",
    "proposalvariance = eye(length(SAMPLEPARMS)+length(y0)) * log(1+(SIGMA_PROPOSAL^2));"
   ]
  },
  {
   "cell_type": "code",
   "execution_count": null,
   "metadata": {
    "collapsed": false,
    "scrolled": false
   },
   "outputs": [],
   "source": [
    "mcs = []\n",
    "for person in persons\n",
    "    m, inp, ini = gyncmodel(data[person], parms, y0)\n",
    "    setsamplers!(m, [AMM(samplingnodes, proposalvariance, adapt=:all)])\n",
    "    \n",
    "    push!(mcs, mcmc(m, inp, ini, 1000, burnin=0, verbose = false, thin = 1))\n",
    "end\n",
    "\n",
    "#samplelength(mc) = max(floor(Int, size(mc, 1)/5), 2_000)\n",
    "jldname = \"out/p$(length(persons))-adapt$adapt-r$SIGMA_RHO-sy$SIGMA_Y0-spar$SIGMA_PARMS-spro$SIGMA_PROPOSAL-2truncflatprior.jld\"\n",
    "\n",
    "while size(mcs[1],1) < 1_000_000\n",
    "    @time save(jldname, \"mc\" , [mc.value for mc in mcs])    \n",
    "    @time for p in 1:length(persons)\n",
    "        mcs[p] = mcmc(mcs[p], 1_000, verbose=false)\n",
    "    end\n",
    "    println(size(mcs[1]))\n",
    "end"
   ]
  }
 ],
 "metadata": {
  "kernelspec": {
   "display_name": "Julia 0.4.0",
   "language": "julia",
   "name": "julia-0.4"
  },
  "language_info": {
   "file_extension": ".jl",
   "mimetype": "application/julia",
   "name": "julia",
   "version": "0.4.1"
  }
 },
 "nbformat": 4,
 "nbformat_minor": 0
}
