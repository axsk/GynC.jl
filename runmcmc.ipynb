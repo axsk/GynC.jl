{
 "cells": [
  {
   "cell_type": "code",
   "execution_count": 9,
   "metadata": {
    "collapsed": false
   },
   "outputs": [],
   "source": [
    "using JLD\n",
    "include(\"gyncycle.jl\");"
   ]
  },
  {
   "cell_type": "code",
   "execution_count": 88,
   "metadata": {
    "collapsed": false
   },
   "outputs": [],
   "source": [
    "hillind = [4, 6, 10, 18, 20, 22, 26, 33, 36, 39, 43, 47, 49, 52, 55, 59, 65, 95, 98, 101, 103]\n",
    "SAMPLEPARMS = deleteat!(collect(1:103), hillind)\n",
    "\n",
    "SIGMA_RHO = 0.2\n",
    "SIGMA_Y0 = 1000\n",
    "SIGMA_PARMS = 1000;\n",
    "persons = 1:3\n",
    "\n",
    "parms, y0 = loadparms()\n",
    "samplingnodes = [:sparms, :y0]\n",
    "data = loadpfizer()\n",
    "proposalvariance = diagm(abs2(vcat(parms[SAMPLEPARMS], y0) * 0.1));"
   ]
  },
  {
   "cell_type": "code",
   "execution_count": null,
   "metadata": {
    "collapsed": false,
    "scrolled": true
   },
   "outputs": [
    {
     "name": "stdout",
     "output_type": "stream",
     "text": [
      " 36.918311 seconds (2.01 M allocations: 1.357 GB, 0.34% gc time)\n",
      " 65.826863 seconds (2.35 M allocations: 1.445 GB, 0.21% gc time)\n",
      " 51.427897 seconds (2.23 M allocations: 1.419 GB, 0.26% gc time)\n",
      " 26.627117 seconds (2.05 M allocations: 1.363 GB, 0.49% gc time)\n",
      " 66.585053 seconds (2.20 M allocations: 1.409 GB, 0.21% gc time)\n",
      " 45.294433 seconds (2.22 M allocations: 1.408 GB, 0.30% gc time)\n",
      " 30.674437 seconds (2.14 M allocations: 1.390 GB, 0.43% gc time)\n",
      " 57.942963 seconds (2.16 M allocations: 1.394 GB, 0.23% gc time)\n",
      " 48.696691 seconds (2.13 M allocations: 1.390 GB, 0.28% gc time)\n",
      " 26.139199 seconds (2.10 M allocations: 1.385 GB, 0.51% gc time)\n",
      " 60.866708 seconds (2.13 M allocations: 1.391 GB, 0.22% gc time)\n",
      " 44.947812 seconds (2.18 M allocations: 1.401 GB, 0.30% gc time)\n",
      " 26.544559 seconds (2.11 M allocations: 1.382 GB, 0.51% gc time)\n",
      " 71.493065 seconds (2.07 M allocations: 1.369 GB, 0.18% gc time)\n",
      " 46.496860 seconds (2.21 M allocations: 1.407 GB, 0.30% gc time)\n",
      " 35.255457 seconds (2.11 M allocations: 1.387 GB, 0.39% gc time)\n",
      " 48.908027 seconds (2.14 M allocations: 1.395 GB, 0.28% gc time)\n",
      " 47.945879 seconds (2.17 M allocations: 1.395 GB, 0.28% gc time)\n",
      " 42"
     ]
    }
   ],
   "source": [
    "mc = []\n",
    "for person in persons\n",
    "    m, inp, ini = gyncmodel(data[person], parms, y0)\n",
    "    setsamplers!(m, [AMM(samplingnodes, proposalvariance, adapt=:all)])\n",
    "    \n",
    "    @time push!(mc, mcmc(m, inp, ini, 1000, burnin=0, verbose = false, thin = 10))\n",
    "end\n",
    "\n",
    "while size(mc[1],1) < 1_000_000\n",
    "    for person in persons\n",
    "        @time mc[person] = mcmc(mc[person], 1000, verbose=false)        \n",
    "        save(\"walks.jld\", \"mc\" , [mc[person].value for person in persons])\n",
    "    end\n",
    "end"
   ]
  }
 ],
 "metadata": {
  "kernelspec": {
   "display_name": "Julia 0.4.0",
   "language": "julia",
   "name": "julia-0.4"
  },
  "language_info": {
   "file_extension": ".jl",
   "mimetype": "application/julia",
   "name": "julia",
   "version": "0.4.1"
  }
 },
 "nbformat": 4,
 "nbformat_minor": 0
}
