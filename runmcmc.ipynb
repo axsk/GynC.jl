{
 "cells": [
  {
   "cell_type": "code",
   "execution_count": 47,
   "metadata": {
    "collapsed": false
   },
   "outputs": [],
   "source": [
    "using JLD\n",
    "include(\"gyncycle.jl\");"
   ]
  },
  {
   "cell_type": "code",
   "execution_count": 2,
   "metadata": {
    "collapsed": false
   },
   "outputs": [],
   "source": [
    "SIGMA_RHO = 0.3\n",
    "SIGMA_Y0 = 10\n",
    "SIGMA_PARMS = 10\n",
    "SIGMA_PROPOSAL = 0.05\n",
    "adapt = :none\n",
    "\n",
    "parms, y0 = loadparms()\n",
    "samplingnodes = [:sparms, :y0]\n",
    "data = loadpfizer()\n",
    "persons = 1:length(data)\n",
    "persons = [1]\n",
    "\n",
    "proposalvariance = eye(length(SAMPLEPARMS)+length(y0)) * log(1+(SIGMA_PROPOSAL^2));"
   ]
  },
  {
   "cell_type": "code",
   "execution_count": 48,
   "metadata": {
    "collapsed": false,
    "scrolled": false
   },
   "outputs": [
    {
     "name": "stdout",
     "output_type": "stream",
     "text": [
      "arg 247232.83594573775\n",
      "calcin\n",
      "i 0 f-13.417419970963048\n",
      "store to 1\n",
      "\n",
      "arg 248410.00000000006\n",
      "calcin\n",
      "i 0 f-13.535615308282894\n",
      "store to 2\n",
      "\n",
      "arg 247970.96155954743\n",
      "calcin\n",
      "i 0 f-12.58006101134434\n",
      "store to 3\n",
      "\n",
      "arg 247232.83594573775\n",
      "test1\n",
      "i 1 fc -13.417419970963048\n",
      "store to 1\n",
      "\n",
      "arg 231891.20140918408\n",
      "test0\n",
      "calcin\n",
      "i 0 f-12.455857462120385\n",
      "store to 2\n",
      "\n",
      "arg 247970.96155954743\n",
      "test3\n",
      "i 3 fc -12.58006101134434\n",
      "store to 3\n",
      "\n",
      "arg 211145.8510060165\n",
      "test0\n",
      "calcin\n",
      "i 0 f-11.717558096165787\n",
      "store to 1\n",
      "\n",
      "arg 231891.20140918408\n",
      "test2\n",
      "i 2 fc -12.455857462120385\n",
      "store to 2\n",
      "\n",
      "arg 210228.63613508068\n",
      "test0\n",
      "calcin\n",
      "i 0 f-13.631655336907546\n",
      "store to 3\n",
      "\n",
      "arg 211145.8510060165\n",
      "test1\n",
      "i 1 fc -11.717558096165787\n",
      "store to 1\n",
      "\n",
      "arg 217354.84444054638\n",
      "test0\n",
      "calcin\n",
      "i 0 f-11.59707202802761\n",
      "store to 2\n",
      "\n",
      "arg 211145.8510060165\n",
      "test1\n",
      "i 1 fc -11.717558096165787\n",
      "store to 3\n",
      "\n",
      "arg 213726.73714586173\n",
      "test0\n",
      "calcin\n",
      "i 0 f-13.078239659957125\n",
      "store to 1\n",
      "\n",
      "arg 217354.84444054638\n",
      "test2\n",
      "i 2 fc -11.59707202802761\n",
      "store to 2\n",
      "\n",
      "arg 207286.13348374056\n",
      "test0\n",
      "calcin\n",
      "i 0 f-13.067315432620312\n",
      "store to 3\n",
      "\n",
      "arg 213726.73714586173\n",
      "test1\n",
      "i 1 fc -13.078239659957125\n",
      "store to 1\n",
      "\n",
      "arg 194386.23871011072\n",
      "test0\n",
      "calcin\n",
      "i 0 f-13.77125904509114\n",
      "store to 2\n",
      "\n",
      "arg 207286.13348374056\n",
      "test3\n",
      "i 3 fc -13.067315432620312\n",
      "store to 3\n",
      "\n",
      "arg 208674.62811970426\n",
      "test0\n",
      "calcin\n",
      "i 0 f-11.317473104005474\n",
      "store to 1\n",
      "\n",
      "arg 207286.13348374056\n",
      "test3\n",
      "i 3 fc -13.067315432620312\n",
      "store to 2\n",
      "\n",
      "  0.427119 seconds (159.50 k allocations: 14.092 MB)\n"
     ]
    }
   ],
   "source": [
    "mc = []\n",
    "for person in persons\n",
    "    m, inp, ini = gyncmodel(data[person], parms, y0)\n",
    "    setsamplers!(m, [AMM(samplingnodes, proposalvariance, adapt=:all)])\n",
    "    \n",
    "    @time push!(mc, mcmc(m, inp, ini, 10, burnin=0, verbose = false, thin = 1))\n",
    "end"
   ]
  },
  {
   "cell_type": "code",
   "execution_count": null,
   "metadata": {
    "collapsed": false
   },
   "outputs": [],
   "source": [
    "while size(mc[1],1) < 1_000_000\n",
    "    save(\"$(length(persons))pers-adapt$adapt-$SIGMA_RHO-$SIGMA_Y0-$SIGMA_PARMS-$SIGMA_PROPOSAL-truncflatprior.jld\", \"mc\" , [mc[person].value for person in persons])\n",
    "    for person in persons\n",
    "        mc[person] = mcmc(mc[person], 1_000, verbose=false)\n",
    "    end    \n",
    "end"
   ]
  }
 ],
 "metadata": {
  "kernelspec": {
   "display_name": "Julia 0.4.0",
   "language": "julia",
   "name": "julia-0.4"
  },
  "language_info": {
   "file_extension": ".jl",
   "mimetype": "application/julia",
   "name": "julia",
   "version": "0.4.1"
  }
 },
 "nbformat": 4,
 "nbformat_minor": 0
}
