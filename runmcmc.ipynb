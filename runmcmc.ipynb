{
 "cells": [
  {
   "cell_type": "code",
   "execution_count": 1,
   "metadata": {
    "collapsed": false
   },
   "outputs": [],
   "source": [
    "using JLD\n",
    "include(\"gyncycle.jl\");"
   ]
  },
  {
   "cell_type": "code",
   "execution_count": 15,
   "metadata": {
    "collapsed": false
   },
   "outputs": [],
   "source": [
    "hillind = [4, 6, 10, 18, 20, 22, 26, 33, 36, 39, 43, 47, 49, 52, 55, 59, 65, 95, 98, 101, 103]\n",
    "SAMPLEPARMS = deleteat!(collect(1:103), hillind)\n",
    "\n",
    "SIGMA_RHO = 0.2\n",
    "SIGMA_Y0 = 10\n",
    "SIGMA_PARMS = 10;\n",
    "persons = 1:3\n",
    "\n",
    "s=0.01\n",
    "\n",
    "parms, y0 = loadparms()\n",
    "samplingnodes = [:sparms, :y0]\n",
    "data = loadpfizer()\n",
    "proposalvariance = diagm(1./vcat(parms[SAMPLEPARMS], y0));\n",
    "proposalvariance = eye(length(SAMPLEPARMS)+length(y0)) * log(1+(s*s));"
   ]
  },
  {
   "cell_type": "code",
   "execution_count": 14,
   "metadata": {
    "collapsed": false
   },
   "outputs": [
    {
     "data": {
      "text/plain": [
       "0.0"
      ]
     },
     "execution_count": 14,
     "metadata": {},
     "output_type": "execute_result"
    }
   ],
   "source": [
    "log(1)"
   ]
  },
  {
   "cell_type": "code",
   "execution_count": null,
   "metadata": {
    "collapsed": false
   },
   "outputs": [
    {
     "name": "stdout",
     "output_type": "stream",
     "text": [
      "  "
     ]
    }
   ],
   "source": [
    "mc = []\n",
    "for person in persons\n",
    "    m, inp, ini = gyncmodel(data[person], parms, y0)\n",
    "    setsamplers!(m, [AMM(samplingnodes, proposalvariance, adapt=:none)])\n",
    "    \n",
    "    push!(mc, mcmc(m, inp, ini, 100, burnin=0, verbose = false, thin = 1))\n",
    "end\n",
    "\n",
    "while size(mc[1],1) < 1_000_000\n",
    "    for person in persons\n",
    "        @time mc[person] = mcmc(mc[person], 100, verbose=false)        \n",
    "    end\n",
    "    save(\"lognorm-notimeshift.jld\", \"mc\" , [mc[person].value for person in persons])\n",
    "end"
   ]
  }
 ],
 "metadata": {
  "kernelspec": {
   "display_name": "Julia 0.4.0",
   "language": "julia",
   "name": "julia-0.4"
  },
  "language_info": {
   "file_extension": ".jl",
   "mimetype": "application/julia",
   "name": "julia",
   "version": "0.4.1"
  }
 },
 "nbformat": 4,
 "nbformat_minor": 0
}
