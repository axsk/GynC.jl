{
 "cells": [
  {
   "cell_type": "code",
   "execution_count": 1,
   "metadata": {
    "collapsed": true
   },
   "outputs": [],
   "source": [
    "using Gync, Vega"
   ]
  },
  {
   "cell_type": "code",
   "execution_count": 2,
   "metadata": {
    "collapsed": false
   },
   "outputs": [
    {
     "name": "stdout",
     "output_type": "stream",
     "text": [
      "MCMC Simulation of 10000 Iterations x 1 Chain...\n",
      "\n",
      "Chain 1:   0% [1:18:11 of 1:18:16 remaining]\n",
      "Chain 1:  10% [0:07:02 of 0:07:48 remaining]\n",
      "Chain 1:  20% [0:06:00 of 0:07:30 remaining]\n",
      "Chain 1:  30% [0:05:18 of 0:07:35 remaining]\n",
      "Chain 1:  40% [0:04:38 of 0:07:43 remaining]\n",
      "Chain 1:  50% [0:03:55 of 0:07:49 remaining]\n",
      "Chain 1:  60% [0:03:10 of 0:07:54 remaining]\n",
      "Chain 1:  70% [0:02:23 of 0:07:58 remaining]\n",
      "Chain 1:  80% [0:01:36 of 0:08:00 remaining]\n",
      "Chain 1:  90% [0:00:48 of 0:08:02 remaining]\n",
      "Chain 1: 100% [0:00:00 of 0:08:04 remaining]\n",
      "\n"
     ]
    }
   ],
   "source": [
    "iters = 20000\n",
    "rho = 0.1\n",
    "sigmay0 = 3\n",
    "sigmap  = 2\n",
    "\n",
    "config = ModelConfig(Subject(:lausanne, 1), rho, sigmay0, sigmap)\n",
    "\n",
    "sim = runsim(config, 10_000, relprop=0.1);"
   ]
  },
  {
   "cell_type": "code",
   "execution_count": 7,
   "metadata": {
    "collapsed": false
   },
   "outputs": [
    {
     "name": "stdout",
     "output_type": "stream",
     "text": [
      "  "
     ]
    },
    {
     "data": {
      "text/html": [
       "\n",
       "<body>\n",
       "  <div id=\"vgu6c\"></div>\n",
       "</body>\n",
       "\n",
       "  <script type=\"text/javascript\">\n",
       "\n",
       "      require.config({\n",
       "        paths: {\n",
       "          d3: \"https://vega.github.io/vega-editor/vendor/d3.min\",\n",
       "          vega: \"https://vega.github.io/vega/vega.min\",\n",
       "          cloud: \"https://vega.github.io/vega-editor/vendor/d3.layout.cloud\",\n",
       "          topojson: \"https://vega.github.io/vega-editor/vendor/topojson\"\n",
       "        }\n",
       "      });\n",
       "\n",
       "      require([\"d3\", \"topojson\", \"cloud\"], function(d3, topojson, cloud){\n",
       "\n",
       "          window.d3 = d3;\n",
       "          window.topojson = topojson;\n",
       "          window.d3.layout.cloud = cloud;\n",
       "\n",
       "                require([\"vega\"], function(vg) {\n",
       "\n",
       "                vg.parse.spec({\"name\":\"Vega Visualization\",\"height\":450,\"padding\":\"auto\",\"marks\":[{\"properties\":{\"enter\":{\"x\":{\"field\":\"x\",\"scale\":\"x\"},\"y2\":{\"field\":\"y2\",\"scale\":\"y\"},\"width\":{\"offset\":0,\"scale\":\"x\",\"band\":true},\"fill\":{\"field\":\"group\",\"scale\":\"group\"},\"y\":{\"field\":\"y\",\"scale\":\"y\"}}},\"from\":{\"data\":\"table_ucbhx\"},\"type\":\"rect\"},{\"properties\":{\"enter\":{\"align\":{\"value\":\"center\"},\"fontWeight\":{\"value\":\"bold\"},\"x\":{\"value\":225.0},\"font\":{\"value\":\"\"},\"fontSize\":{\"value\":16},\"fill\":{\"value\":\"black\"},\"baseline\":{\"value\":\"top\"},\"text\":{\"value\":\"parms[8]\"},\"y\":{\"value\":-40}}},\"from\":{\"value\":\"parms[8]\"},\"type\":\"text\"}],\"axes\":[{\"layer\":\"front\",\"properties\":{\"title\":{\"fontSize\":{\"value\":14}}},\"title\":\"x\",\"grid\":false,\"type\":\"x\",\"scale\":\"x\"},{\"layer\":\"front\",\"properties\":{\"title\":{\"fontSize\":{\"value\":14}}},\"title\":\"y\",\"grid\":false,\"type\":\"y\",\"scale\":\"y\"}],\"data\":[{\"name\":\"table_ucbhx\",\"values\":[{\"x\":5.0,\"y2\":0,\"group\":1,\"y\":6.0},{\"x\":5.05,\"y2\":0,\"group\":1,\"y\":0.0},{\"x\":5.1,\"y2\":0,\"group\":1,\"y\":0.0},{\"x\":5.15,\"y2\":0,\"group\":1,\"y\":0.0},{\"x\":5.2,\"y2\":0,\"group\":1,\"y\":0.0},{\"x\":5.25,\"y2\":0,\"group\":1,\"y\":0.0},{\"x\":5.3,\"y2\":0,\"group\":1,\"y\":0.0},{\"x\":5.35,\"y2\":0,\"group\":1,\"y\":0.0},{\"x\":5.4,\"y2\":0,\"group\":1,\"y\":0.0},{\"x\":5.45,\"y2\":0,\"group\":1,\"y\":48.0},{\"x\":5.5,\"y2\":0,\"group\":1,\"y\":206.0},{\"x\":5.55,\"y2\":0,\"group\":1,\"y\":265.0},{\"x\":5.6,\"y2\":0,\"group\":1,\"y\":69.0},{\"x\":5.65,\"y2\":0,\"group\":1,\"y\":160.0},{\"x\":5.7,\"y2\":0,\"group\":1,\"y\":86.0},{\"x\":5.75,\"y2\":0,\"group\":1,\"y\":28.0},{\"x\":5.8,\"y2\":0,\"group\":1,\"y\":57.0},{\"x\":5.85,\"y2\":0,\"group\":1,\"y\":52.0},{\"x\":5.9,\"y2\":0,\"group\":1,\"y\":90.0},{\"x\":5.95,\"y2\":0,\"group\":1,\"y\":250.0},{\"x\":6.0,\"y2\":0,\"group\":1,\"y\":6625.0},{\"x\":6.05,\"y2\":0,\"group\":1,\"y\":1358.0},{\"x\":6.1,\"y2\":0,\"group\":1,\"y\":506.0},{\"x\":6.15,\"y2\":0,\"group\":1,\"y\":157.0},{\"x\":6.2,\"y2\":0,\"group\":1,\"y\":37.0}]}],\"scales\":[{\"name\":\"x\",\"range\":\"width\",\"domain\":{\"sort\":true,\"data\":\"table_ucbhx\",\"field\":\"x\"},\"type\":\"ordinal\"},{\"name\":\"y\",\"range\":\"height\",\"domain\":{\"data\":\"table_ucbhx\",\"field\":\"y\"},\"type\":\"linear\"},{\"name\":\"group\",\"range\":[\"rgb(166,206,227)\",\"rgb( 31,120,180)\",\"rgb(178,223,138)\",\"rgb( 51,160, 44)\",\"rgb(251,154,153)\",\"rgb(227, 26, 28)\",\"rgb(253,191,111)\",\"rgb(255,127,  0)\",\"rgb(202,178,214)\",\"rgb(106, 61,154)\",\"rgb(255,255,153)\",\"rgb(177, 89, 40)\"],\"domain\":{\"data\":\"table_ucbhx\",\"field\":\"group\"},\"type\":\"ordinal\"}],\"width\":450}, function(chart) { chart({el:\"#vgu6c\"}).update(); });\n",
       "\n",
       "                window.setTimeout(function() {\n",
       "                  var pnglink = document.getElementById(\"vgu6c\").getElementsByTagName(\"canvas\")[0].toDataURL(\"image/png\")\n",
       "                  document.getElementById(\"vgu6c\").insertAdjacentHTML('beforeend', '<br><a href=\"' + pnglink + '\" download>Save as PNG</a>')\n",
       "\n",
       "                }, 20);\n",
       "\n",
       "            }); //vega require end\n",
       "\n",
       "      }); //d3 require end\n",
       "\n",
       "    </script>\n",
       "\n"
      ]
     },
     "metadata": {},
     "output_type": "display_data"
    },
    {
     "data": {
      "text/html": [],
      "text/plain": []
     },
     "execution_count": 7,
     "metadata": {},
     "output_type": "execute_result"
    },
    {
     "name": "stdout",
     "output_type": "stream",
     "text": [
      "0.020775 seconds (25.06 k allocations: 961.409 KB)\n"
     ]
    }
   ],
   "source": [
    "using Vega\n",
    "import KernelDensity.kde\n",
    "\n",
    "function plot_species(c::Mamba.AbstractChains, kde=false)\n",
    "    @assert size(c,[2,3]) == (1,1)\n",
    "    \n",
    "    data = c.value|>vec\n",
    "    \n",
    "    v = kde ? plot_kde(data) : histogram(x=data, nbins = 40)\n",
    "    \n",
    "    title!(v, title=c.names[1])\n",
    "end\n",
    "\n",
    "function plot_kde(data::Vector)\n",
    "    npoints = 2^14\n",
    "    bw = maximum(data) / npoints * 5\n",
    "    k  = kde(data, npoints=npoints, bandwidth=bw)\n",
    "    \n",
    "    v=lineplot(x=k.x,y=k.density)\n",
    "    v.scales[1].zero=false\n",
    "    v\n",
    "end\n",
    "\n",
    "function slices(a,dim)\n",
    "    inds = Any[(:) for i in 1:length(size(a))]\n",
    "    map(1:size(a,dim)) do i\n",
    "        inds[dim] = i\n",
    "        getindex(a,inds...)\n",
    "    end\n",
    "end\n",
    "\n",
    "function plot(c::Mamba.AbstractChains)\n",
    "    reduce(layer,map(plot_species,slices(c,2)))\n",
    "end\n",
    "\n",
    "@time v = plot_species(sim[:,8,1])"
   ]
  },
  {
   "cell_type": "code",
   "execution_count": 8,
   "metadata": {
    "collapsed": false
   },
   "outputs": [
    {
     "data": {
      "text/plain": [
       "1-element Array{Vega.VegaScale,1}:\n",
       " Vega.VegaScale(\"x\",\"ordinal\",Vega.VegaDataRef(\"table_ucbhx\",\"x\",nothing,true),nothing,nothing,\"width\",nothing,nothing,nothing,nothing,nothing,nothing,nothing,nothing,nothing,nothing,nothing,nothing,nothing)"
      ]
     },
     "execution_count": 8,
     "metadata": {},
     "output_type": "execute_result"
    }
   ],
   "source": [
    "# snippet for easy field-value filtering\n",
    "\n",
    "import Vega: AbstractVegaType\n",
    "import Base: getindex\n",
    "\n",
    "function getindex(c::Vector{VegaScale}, kv::Pair)\n",
    "    k,v = kv\n",
    "    i=find(x->getfield(x, k) == v, c)\n",
    "    c[i]\n",
    "end\n",
    "\n",
    "v.scales[:name=>\"x\"]"
   ]
  }
 ],
 "metadata": {
  "kernelspec": {
   "display_name": "Julia 0.4.3",
   "language": "julia",
   "name": "julia-0.4"
  },
  "language_info": {
   "file_extension": ".jl",
   "mimetype": "application/julia",
   "name": "julia",
   "version": "0.4.3"
  }
 },
 "nbformat": 4,
 "nbformat_minor": 0
}
