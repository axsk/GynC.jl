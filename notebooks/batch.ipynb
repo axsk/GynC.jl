{
 "cells": [
  {
   "cell_type": "code",
   "execution_count": null,
   "metadata": {
    "collapsed": false
   },
   "outputs": [
    {
     "name": "stderr",
     "output_type": "stream",
     "text": [
      "WARNING: using Distributions.entropy in module GynC conflicts with an existing identifier.\n",
      "WARNING: using Distributions.entropy in module GynC conflicts with an existing identifier.\n",
      "WARNING: using Distributions.entropy in module GynC conflicts with an existing identifier.\n",
      "WARNING: using Distributions.entropy in module GynC conflicts with an existing identifier.\n",
      "WARNING: using Distributions.entropy in module GynC conflicts with an existing identifier.\n"
     ]
    }
   ],
   "source": [
    "addprocs(5)\n",
    "@everywhere import GynC\n",
    "\n",
    "pmap(1:5) do i\n",
    "    GynC.batch(\"pfizer$i.jld\", batchiters = 50_000, config=GynC.Config(GynC.Pfizer(i), thin=100))\n",
    "end"
   ]
  }
 ],
 "metadata": {
  "kernelspec": {
   "display_name": "Julia 0.4.5",
   "language": "julia",
   "name": "julia-0.4"
  },
  "language_info": {
   "file_extension": ".jl",
   "mimetype": "application/julia",
   "name": "julia",
   "version": "0.4.5"
  }
 },
 "nbformat": 4,
 "nbformat_minor": 0
}
