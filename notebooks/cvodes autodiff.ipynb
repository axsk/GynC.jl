{
 "cells": [
  {
   "cell_type": "code",
   "execution_count": 4,
   "metadata": {
    "collapsed": false
   },
   "outputs": [
    {
     "name": "stdout",
     "output_type": "stream",
     "text": [
      "  0.487958 seconds (319.38 k allocations: 14.363 MB, 5.17% gc time)\n"
     ]
    },
    {
     "name": "stderr",
     "output_type": "stream",
     "text": [
      "WARNING: replacing module Sensivity\n"
     ]
    },
    {
     "data": {
      "text/plain": [
       "(\n",
       "11x2 Array{Float64,2}:\n",
       "  0.0   0.0\n",
       "  1.0   0.5\n",
       "  2.0   2.0\n",
       "  3.0   4.5\n",
       "  4.0   8.0\n",
       "  5.0  12.5\n",
       "  6.0  18.0\n",
       "  7.0  24.5\n",
       "  8.0  32.0\n",
       "  9.0  40.5\n",
       " 10.0  50.0,\n",
       "\n",
       "11x2x2 Array{Float64,3}:\n",
       "[:, :, 1] =\n",
       "  0.0   0.0\n",
       "  1.0   0.5\n",
       "  2.0   2.0\n",
       "  3.0   4.5\n",
       "  4.0   8.0\n",
       "  5.0  12.5\n",
       "  6.0  18.0\n",
       "  7.0  24.5\n",
       "  8.0  32.0\n",
       "  9.0  40.5\n",
       " 10.0  50.0\n",
       "\n",
       "[:, :, 2] =\n",
       " 0.0            0.0\n",
       " 0.0            1.0\n",
       " 0.0            4.0\n",
       " 1.17882e-23    9.0\n",
       " 3.43406e-23   16.0\n",
       " 3.83905e-23   25.0\n",
       " 3.55456e-23   36.0\n",
       " 3.05636e-23   49.0\n",
       " 2.34445e-23   64.0\n",
       " 1.41883e-23   81.0\n",
       " 1.54483e-23  100.0)"
      ]
     },
     "execution_count": 4,
     "metadata": {},
     "output_type": "execute_result"
    }
   ],
   "source": [
    "include(\"../src/cvodes.jl\")\n",
    "\n",
    "function f(t,y,p,dy)\n",
    "    dy[1] = p[1] + 1\n",
    "    dy[2] = p[2]^2 * y[1]\n",
    "end\n",
    "\n",
    "@time Sensivity.cvodes(f, [0., 0], [0., 1], collect(0:1.:10), autodiff = true)"
   ]
  },
  {
   "cell_type": "code",
   "execution_count": 176,
   "metadata": {
    "collapsed": false
   },
   "outputs": [],
   "source": [
    "using GynC\n",
    "include(\"../src/gyncycle.jl\")\n",
    "\n",
    "p = copy(GynC.refallparms)\n",
    "y0 = copy(GynC.refy0)\n",
    "\n",
    "dy = Array(Float64,33)\n",
    "D! = differentiator((t, y, p, dy) -> gyncycle_rhs!(y, p, dy), 33, 114);"
   ]
  },
  {
   "cell_type": "code",
   "execution_count": 404,
   "metadata": {
    "collapsed": false,
    "scrolled": false
   },
   "outputs": [
    {
     "name": "stdout",
     "output_type": "stream",
     "text": [
      "  0.678268 seconds (3.72 M allocations: 281.786 MB, 20.17% gc time)\n"
     ]
    },
    {
     "name": "stderr",
     "output_type": "stream",
     "text": [
      "\n",
      "[CVODES ERROR]  CVode\n",
      "  At t = 15.572 and h = 9.88467e-09, the error test failed repeatedly or with |h| = hmin.\n",
      "\n"
     ]
    },
    {
     "data": {
      "text/plain": [
       "26x33x1 Array{Float64,3}:\n",
       "[:, :, 1] =\n",
       "  0.0           0.0            0.0         …     0.0           0.0        \n",
       " -3.76864e-7   -1.01809e-8     4.5384e-8         1.18825e-10   1.0822e-10 \n",
       " -4.34383e-7   -1.19773e-8     5.33068e-8        9.57076e-10   9.16658e-10\n",
       " -4.46221e-7   -1.31076e-8     5.73344e-8        2.79632e-9    2.71932e-9 \n",
       " -4.49225e-7   -1.50803e-8     6.32409e-8        5.72034e-9    5.59882e-9 \n",
       " -4.50339e-7   -1.75866e-8     6.91244e-8  …     9.96842e-9    9.78678e-9 \n",
       " -4.52661e-7   -1.88984e-8     6.97665e-8        1.60022e-8    1.57404e-8 \n",
       " -4.62752e-7   -1.81647e-8     6.46939e-8        2.35568e-8    2.32462e-8 \n",
       " -5.0443e-7    -1.81959e-8     6.42461e-8        2.97716e-8    2.95238e-8 \n",
       " -6.59649e-7   -2.50508e-8     8.88423e-8        3.23727e-8    3.22216e-8 \n",
       " -1.17663e-6   -5.15063e-8     1.83875e-7  …     3.02581e-8    3.0326e-8  \n",
       " -2.8065e-6    -1.20706e-7     4.38108e-7        6.37157e-8    5.53278e-8 \n",
       " -8.14779e-6   -4.20884e-7     1.49649e-6       -4.43193e-8   -3.59146e-8 \n",
       " -2.90996e-5   -1.81379e-6     6.30025e-6       -9.1413e-7    -8.58559e-7 \n",
       " -0.000176269  -1.50335e-5     4.87422e-5       -1.12786e-5   -1.05603e-5 \n",
       " -0.00743217   -0.00106639     0.00243329  …    -0.000442938  -0.00036464 \n",
       " -0.016179     -0.0149361     -0.0594626      -136.974        -0.00737389 \n",
       " -3.1963       29.3639       -81.8933           12.0284       12.1919     \n",
       " -5.40541      16.3606      -153.683             8.61978       8.63972    \n",
       " -6.2165        4.29529     -222.927             6.11822       6.17603    \n",
       " -6.29285       1.25046     -239.342       …     3.94406       3.98061    \n",
       " -6.29423       0.87884     -241.238             2.37565       2.4029     \n",
       " -6.32624       0.83941     -241.431             1.29627       1.31559    \n",
       " -6.36174       0.834776    -241.441             0.616965      0.628971   \n",
       " -6.37062       0.834459    -241.434             0.232228      0.239473   \n",
       " -6.33274       0.836109    -241.424       …    -0.0457783    -0.0400103  "
      ]
     },
     "execution_count": 404,
     "metadata": {},
     "output_type": "execute_result"
    }
   ],
   "source": [
    "ind = [3]\n",
    "\n",
    "yscales = maximum(sol_cvode[:,:], 1) |> vec\n",
    "tempp = convert(Vector{Any}, p)\n",
    "\n",
    "function fill(pp, ind)\n",
    "    allp[ind] = pp    \n",
    "    allp::Vector{Any}\n",
    "end\n",
    "\n",
    "t=[0:1.:31]\n",
    "\n",
    "function scaledsystem(t,ys,ps,dy)\n",
    "    y = ys .* yscales\n",
    "    tempp[ind] = ps .* p[ind]\n",
    "    gyncycle_rhs!(y, tempp, dy)\n",
    "    dy[:] = dy[:] ./ yscales\n",
    "    dy\n",
    "end\n",
    "\n",
    "@time sol_cvodes, sens = cvodes(scaledsystem, y0./yscales, ones(length(ind)), t, autodiff=true, stiff=true, solvertype=:dense, reltol = 1e-5, abstol=1e-5, reltolS = 1e-4, abstolS = 1e-5, errconS = 1)\n",
    "\n",
    "sens[1:26,:,:]"
   ]
  },
  {
   "cell_type": "code",
   "execution_count": 299,
   "metadata": {
    "collapsed": false,
    "scrolled": false
   },
   "outputs": [
    {
     "name": "stdout",
     "output_type": "stream",
     "text": [
      "  0.011321 seconds (6.45 k allocations: 197.322 KB)\n",
      "  0.042094 seconds (6 allocations: 8.875 KB)\n"
     ]
    }
   ],
   "source": [
    "# sundials vs limex\n",
    "@time sol_cvode = Sundials.cvode((t, y, dy) -> gyncycle_rhs!(y, p, dy), y0, t) #, reltol = 1e-2, abstol=1e-2)\n",
    "@time sol_limex = GynC.gync(y0, t, p);"
   ]
  },
  {
   "cell_type": "code",
   "execution_count": 284,
   "metadata": {
    "collapsed": false
   },
   "outputs": [
    {
     "data": {
      "text/plain": [
       "3-element Array{Any,1}:\n",
       " PyObject <matplotlib.lines.Line2D object at 0x7fbfebd99d10>\n",
       " PyObject <matplotlib.lines.Line2D object at 0x7fbfebd99dd0>\n",
       " PyObject <matplotlib.lines.Line2D object at 0x7fbfebe8de10>"
      ]
     },
     "execution_count": 284,
     "metadata": {},
     "output_type": "execute_result"
    }
   ],
   "source": [
    "# compare solutions\n",
    "using PyPlot\n",
    "species = 7\n",
    "PyPlot.plot(t, sol_cvode[:,species], \"<\", t, sol_cvodes[:,species], \">\", t, sol_limex[species,:] |> vec, \"^\") "
   ]
  }
 ],
 "metadata": {
  "kernelspec": {
   "display_name": "Julia 0.4.3",
   "language": "julia",
   "name": "julia-0.4"
  },
  "language_info": {
   "file_extension": ".jl",
   "mimetype": "application/julia",
   "name": "julia",
   "version": "0.4.3"
  }
 },
 "nbformat": 4,
 "nbformat_minor": 0
}
