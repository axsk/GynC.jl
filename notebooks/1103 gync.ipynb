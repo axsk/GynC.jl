{
 "cells": [
  {
   "cell_type": "code",
   "execution_count": 2,
   "metadata": {
    "collapsed": false
   },
   "outputs": [],
   "source": [
    "using GynC\n",
    "using JLD"
   ]
  },
  {
   "cell_type": "code",
   "execution_count": 4,
   "metadata": {
    "collapsed": false
   },
   "outputs": [
    {
     "data": {
      "text/plain": [
       "Dict{String,Any} with 1 entry:\n",
       "  \"samples\" => Array{Float64,2}[…"
      ]
     },
     "execution_count": 4,
     "metadata": {},
     "output_type": "execute_result"
    }
   ],
   "source": [
    "@time s=JLD.load(\"../data/0911/allsamples.jld\")[\"samples\"]"
   ]
  },
  {
   "cell_type": "code",
   "execution_count": 35,
   "metadata": {
    "collapsed": false,
    "scrolled": false
   },
   "outputs": [
    {
     "name": "stdout",
     "output_type": "stream",
     "text": [
      "length(xs) = 1035\n"
     ]
    },
    {
     "name": "stderr",
     "output_type": "stream",
     "text": [
      "WARNING: Method definition rands(Array{Array{Float64, 2}, 1}, Int64, Int64) in module Main at In[34]:2 overwritten at In[35]:2.\n"
     ]
    }
   ],
   "source": [
    "function rands(samplings::Vector{Matrix{Float64}}, n::Int, burnin::Int)\n",
    "    res = Vector{Vector{Float64}}()\n",
    "    nsamplings = length(samplings)\n",
    "    for sampling in samplings\n",
    "        nsamples = size(sampling, 1)\n",
    "        step = floor(Int,(nsamples - burnin) / n * nsamplings)\n",
    "        for i = burnin+1:step:nsamples\n",
    "            push!(res, sampling[i,:])\n",
    "        end\n",
    "    end\n",
    "    res\n",
    "end\n",
    "\n",
    "@time xs = rands(s, 1000, 100_000);\n",
    "@show length(xs);"
   ]
  },
  {
   "cell_type": "code",
   "execution_count": 51,
   "metadata": {
    "collapsed": false
   },
   "outputs": [
    {
     "name": "stdout",
     "output_type": "stream",
     "text": [
      "  6.057229 seconds (27.72 M allocations: 572.286 MB, 6.01% gc time)\n",
      "  0.068804 seconds (25.55 k allocations: 3.163 MB)\n"
     ]
    }
   ],
   "source": [
    "@time ys = map(x->reshape(GynC.forwardsol(x)[:,GynC.measuredinds], 31*4), xs);\n",
    "@time zs = map(y->y+rand(measerr), ys);"
   ]
  },
  {
   "cell_type": "code",
   "execution_count": 46,
   "metadata": {
    "collapsed": false
   },
   "outputs": [
    {
     "data": {
      "text/plain": [
       "ZeroMeanDiagNormal(\n",
       "dim: 124\n",
       "μ: [0.0,0.0,0.0,0.0,0.0,0.0,0.0,0.0,0.0,0.0  …  0.0,0.0,0.0,0.0,0.0,0.0,0.0,0.0,0.0,0.0]\n",
       "Σ: [144.0 0.0 … 0.0 0.0; 0.0 144.0 … 0.0 0.0; … ; 0.0 0.0 … 2.25 0.0; 0.0 0.0 … 0.0 2.25]\n",
       ")\n"
      ]
     },
     "execution_count": 46,
     "metadata": {},
     "output_type": "execute_result"
    }
   ],
   "source": [
    "measerr = Distributions.MvNormal(repeat(GynC.model_measerrors, inner=31))"
   ]
  },
  {
   "cell_type": "code",
   "execution_count": 58,
   "metadata": {
    "collapsed": false
   },
   "outputs": [],
   "source": [
    "m = GynC.LikelihoodModel(xs, ys, zs, [], measerr);"
   ]
  },
  {
   "cell_type": "code",
   "execution_count": 59,
   "metadata": {
    "collapsed": false
   },
   "outputs": [],
   "source": [
    "w0 = ones(length(xs)) / length(xs);"
   ]
  },
  {
   "cell_type": "code",
   "execution_count": 69,
   "metadata": {
    "collapsed": false
   },
   "outputs": [
    {
     "name": "stdout",
     "output_type": "stream",
     "text": [
      "sum(w) = 0.24999999999999967\n"
     ]
    }
   ],
   "source": [
    "ws = GynC.mple(m, w0, 3, 1, 1)\n",
    "w = ws[end];\n",
    "@show sum(w);"
   ]
  },
  {
   "cell_type": "code",
   "execution_count": 74,
   "metadata": {
    "collapsed": false
   },
   "outputs": [
    {
     "data": {
      "text/html": [
       "<img src=\"data:image/png;base64,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\" />"
      ]
     },
     "execution_count": 74,
     "metadata": {},
     "output_type": "execute_result"
    }
   ],
   "source": [
    "plot()\n",
    "for w in ws\n",
    "  k=kde(map(x->x[8], xs), weights=w)\n",
    "  plot!(k.x, k.density)\n",
    "end\n",
    "plot!()"
   ]
  },
  {
   "cell_type": "code",
   "execution_count": 130,
   "metadata": {
    "collapsed": false
   },
   "outputs": [],
   "source": [
    "type MeasErr\n",
    "    rhos\n",
    "end"
   ]
  },
  {
   "cell_type": "code",
   "execution_count": 136,
   "metadata": {
    "collapsed": false
   },
   "outputs": [
    {
     "name": "stderr",
     "output_type": "stream",
     "text": [
      "WARNING: Method definition pdf(Main.MeasErr, Array{T<:Any, 2}) in module Main at In[134]:5 overwritten at In[136]:5.\n"
     ]
    },
    {
     "data": {
      "text/plain": [
       "MeasErr(Distributions.Normal{Float64}[Distributions.Normal{Float64}(μ=12.0, σ=1.0),Distributions.Normal{Float64}(μ=1.0, σ=1.0),Distributions.Normal{Float64}(μ=40.0, σ=1.0),Distributions.Normal{Float64}(μ=1.5, σ=1.0)])"
      ]
     },
     "execution_count": 136,
     "metadata": {},
     "output_type": "execute_result"
    }
   ],
   "source": [
    "using Distributions\n",
    "import Distributions: pdf\n",
    "\n",
    "function pdf(m::MeasErr, delta::Matrix)\n",
    "  d = 0.\n",
    "  for i=1:4\n",
    "    for j=1:31\n",
    "      v = delta[j,i]\n",
    "      v == NaN && continue\n",
    "      d += pdf(m.rhos[i], v)\n",
    "    end\n",
    "  end\n",
    "  d/(4*31)\n",
    "end\n",
    "\n",
    "d = rand(31,4)\n",
    "e = MeasErr([Normal(std) for std in GynC.model_measerrors])\n"
   ]
  },
  {
   "cell_type": "code",
   "execution_count": 142,
   "metadata": {
    "collapsed": false
   },
   "outputs": [
    {
     "name": "stdout",
     "output_type": "stream",
     "text": [
      "  0.000034 seconds (501 allocations: 9.859 KB)\n"
     ]
    },
    {
     "data": {
      "text/plain": [
       "0.1388022005432155"
      ]
     },
     "execution_count": 142,
     "metadata": {},
     "output_type": "execute_result"
    }
   ],
   "source": [
    "@time pdf(e, d)"
   ]
  },
  {
   "cell_type": "code",
   "execution_count": 144,
   "metadata": {
    "collapsed": false
   },
   "outputs": [
    {
     "name": "stderr",
     "output_type": "stream",
     "text": [
      "WARNING: using BenchmarkTools.params in module Main conflicts with an existing identifier.\n"
     ]
    },
    {
     "data": {
      "text/plain": [
       "BenchmarkTools.Trial: \n",
       "  samples:          10000\n",
       "  evals/sample:     1\n",
       "  time tolerance:   5.00%\n",
       "  memory tolerance: 1.00%\n",
       "  memory estimate:  9.70 kb\n",
       "  allocs estimate:  497\n",
       "  minimum time:     22.21 μs (0.00% GC)\n",
       "  median time:      23.74 μs (0.00% GC)\n",
       "  mean time:        31.46 μs (20.56% GC)\n",
       "  maximum time:     18.61 ms (99.54% GC)"
      ]
     },
     "execution_count": 144,
     "metadata": {},
     "output_type": "execute_result"
    }
   ],
   "source": [
    "using BenchmarkTools\n",
    "@benchmark pdf(e,d)"
   ]
  },
  {
   "cell_type": "code",
   "execution_count": 145,
   "metadata": {
    "collapsed": false
   },
   "outputs": [
    {
     "data": {
      "text/plain": [
       "BenchmarkTools.Trial: \n",
       "  samples:          10000\n",
       "  evals/sample:     999\n",
       "  time tolerance:   5.00%\n",
       "  memory tolerance: 1.00%\n",
       "  memory estimate:  0.00 bytes\n",
       "  allocs estimate:  0\n",
       "  minimum time:     11.00 ns (0.00% GC)\n",
       "  median time:      11.00 ns (0.00% GC)\n",
       "  mean time:        11.19 ns (0.00% GC)\n",
       "  maximum time:     1.75 μs (0.00% GC)"
      ]
     },
     "execution_count": 145,
     "metadata": {},
     "output_type": "execute_result"
    }
   ],
   "source": [
    "n=Normal(1.)\n",
    "@benchmark pdf(Normal(1.), 1.)\n",
    "\n",
    "@benchmark pdf(Normal(1.), 1.)"
   ]
  },
  {
   "cell_type": "code",
   "execution_count": null,
   "metadata": {
    "collapsed": true
   },
   "outputs": [],
   "source": []
  }
 ],
 "metadata": {
  "kernelspec": {
   "display_name": "Julia 0.5.0",
   "language": "julia",
   "name": "julia-0.5"
  },
  "language_info": {
   "file_extension": ".jl",
   "mimetype": "application/julia",
   "name": "julia",
   "version": "0.5.0"
  }
 },
 "nbformat": 4,
 "nbformat_minor": 1
}
