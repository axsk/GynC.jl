{
 "cells": [
  {
   "cell_type": "code",
   "execution_count": 1,
   "metadata": {
    "collapsed": true
   },
   "outputs": [],
   "source": [
    "using Gync, JLD"
   ]
  },
  {
   "cell_type": "code",
   "execution_count": 2,
   "metadata": {
    "collapsed": false
   },
   "outputs": [
    {
     "name": "stdout",
     "output_type": "stream",
     "text": [
      "MCMC Simulation of 100 Iterations x 1 Chain...\n",
      "\n",
      "Chain 1:   1% [0:03:45 of 0:03:47 remaining]\n",
      "Chain 1:  10% [0:00:27 of 0:00:30 remaining]\n",
      "Chain 1:  20% [0:00:13 of 0:00:17 remaining]\n",
      "Chain 1:  31% [0:00:08 of 0:00:12 remaining]\n",
      "Chain 1:  40% [0:00:06 of 0:00:10 remaining]\n",
      "Chain 1:  50% [0:00:04 of 0:00:08 remaining]\n",
      "Chain 1:  60% [0:00:03 of 0:00:08 remaining]\n",
      "Chain 1:  70% [0:00:02 of 0:00:07 remaining]\n",
      "Chain 1:  80% [0:00:01 of 0:00:06 remaining]\n",
      "Chain 1:  90% [0:00:01 of 0:00:06 remaining]\n",
      "Chain 1: 100% [0:00:00 of 0:00:06 remaining]\n",
      "\n"
     ]
    },
    {
     "data": {
      "text/plain": [
       "10x115x1 Array{Float64,3}:\n",
       "[:, :, 1] =\n",
       " 7057.47  6947.57  185.002  2.17944  …  0.00087798   3.78975e-5  2.94864e-5\n",
       " 7057.47  6947.57  185.002  2.17944     0.00087798   3.78975e-5  2.94864e-5\n",
       " 7058.32  6813.99  170.127  2.32029     0.000951024  3.52344e-5  2.52823e-5\n",
       " 6542.29  7338.12  170.419  1.97948     0.000979322  4.55581e-5  2.56259e-5\n",
       " 6542.29  7338.12  170.419  1.97948     0.000979322  4.55581e-5  2.56259e-5\n",
       " 5617.35  7038.63  162.422  1.87444  …  0.00112207   3.88283e-5  2.05411e-5\n",
       " 5617.35  7038.63  162.422  1.87444     0.00112207   3.88283e-5  2.05411e-5\n",
       " 5617.35  7038.63  162.422  1.87444     0.00112207   3.88283e-5  2.05411e-5\n",
       " 5617.35  7038.63  162.422  1.87444     0.00112207   3.88283e-5  2.05411e-5\n",
       " 5617.35  7038.63  162.422  1.87444     0.00112207   3.88283e-5  2.05411e-5"
      ]
     },
     "execution_count": 2,
     "metadata": {},
     "output_type": "execute_result"
    }
   ],
   "source": [
    "sim = Gync.startmcmc(1,100,1,\"test.jld\", thin=10)\n",
    "load(\"test.jld\")[\"chains\"]"
   ]
  },
  {
   "cell_type": "code",
   "execution_count": 3,
   "metadata": {
    "collapsed": false,
    "scrolled": false
   },
   "outputs": [
    {
     "name": "stdout",
     "output_type": "stream",
     "text": [
      "MCMC Simulation of 100 Iterations x 1 Chain...\n",
      "\n",
      "Chain 1:   1% [0:00:02 of 0:00:02 remaining]\n",
      "Chain 1:  10% [0:00:02 of 0:00:02 remaining]\n",
      "Chain 1:  20% [0:00:02 of 0:00:02 remaining]\n",
      "Chain 1:  31% [0:00:02 of 0:00:02 remaining]\n",
      "Chain 1:  40% [0:00:02 of 0:00:03 remaining]\n",
      "Chain 1:  50% [0:00:01 of 0:00:03 remaining]\n",
      "Chain 1:  60% [0:00:01 of 0:00:03 remaining]\n",
      "Chain 1:  70% [0:00:01 of 0:00:03 remaining]\n",
      "Chain 1:  80% [0:00:01 of 0:00:03 remaining]\n",
      "Chain 1:  90% [0:00:00 of 0:00:03 remaining]\n",
      "Chain 1: 100% [0:00:00 of 0:00:03 remaining]\n",
      "\n"
     ]
    },
    {
     "data": {
      "text/plain": [
       "20x115x1 Array{Float64,3}:\n",
       "[:, :, 1] =\n",
       " 7057.47  6947.57  185.002  2.17944  …  0.00087798   3.78975e-5  2.94864e-5\n",
       " 7057.47  6947.57  185.002  2.17944     0.00087798   3.78975e-5  2.94864e-5\n",
       " 7058.32  6813.99  170.127  2.32029     0.000951024  3.52344e-5  2.52823e-5\n",
       " 6542.29  7338.12  170.419  1.97948     0.000979322  4.55581e-5  2.56259e-5\n",
       " 6542.29  7338.12  170.419  1.97948     0.000979322  4.55581e-5  2.56259e-5\n",
       " 5617.35  7038.63  162.422  1.87444  …  0.00112207   3.88283e-5  2.05411e-5\n",
       " 5617.35  7038.63  162.422  1.87444     0.00112207   3.88283e-5  2.05411e-5\n",
       " 5617.35  7038.63  162.422  1.87444     0.00112207   3.88283e-5  2.05411e-5\n",
       " 5617.35  7038.63  162.422  1.87444     0.00112207   3.88283e-5  2.05411e-5\n",
       " 5617.35  7038.63  162.422  1.87444     0.00112207   3.88283e-5  2.05411e-5\n",
       " 5617.35  7038.63  162.422  1.87444  …  0.00112207   3.88283e-5  2.05411e-5\n",
       " 5617.35  7038.63  162.422  1.87444     0.00112207   3.88283e-5  2.05411e-5\n",
       " 5617.35  7038.63  162.422  1.87444     0.00112207   3.88283e-5  2.05411e-5\n",
       " 5617.35  7038.63  162.422  1.87444     0.00112207   3.88283e-5  2.05411e-5\n",
       " 5617.35  7038.63  162.422  1.87444     0.00112207   3.88283e-5  2.05411e-5\n",
       " 5617.35  7038.63  162.422  1.87444  …  0.00112207   3.88283e-5  2.05411e-5\n",
       " 5617.35  7038.63  162.422  1.87444     0.00112207   3.88283e-5  2.05411e-5\n",
       " 5617.35  7038.63  162.422  1.87444     0.00112207   3.88283e-5  2.05411e-5\n",
       " 5617.35  7038.63  162.422  1.87444     0.00112207   3.88283e-5  2.05411e-5\n",
       " 5617.35  7038.63  162.422  1.87444     0.00112207   3.88283e-5  2.05411e-5"
      ]
     },
     "execution_count": 3,
     "metadata": {},
     "output_type": "execute_result"
    }
   ],
   "source": [
    "Gync.continuemcmc(\"test.jld\", 100, thin=10)\n",
    "load(\"test.jld\")[\"chains\"]"
   ]
  },
  {
   "cell_type": "code",
   "execution_count": null,
   "metadata": {
    "collapsed": false,
    "scrolled": false
   },
   "outputs": [],
   "source": [
    "using JLD\n",
    "include(\"Gync.jl\");\n",
    "parms, y0 = loadparms()\n",
    "data = loadpfizer();\n",
    "\n",
    "SIGMA_RHO = 0.1\n",
    "SIGMA_Y0  = 1\n",
    "SIGMA_PARMS = 20\n",
    "SIGMA_PROPOSAL = 0.1\n",
    "adapt = :all\n",
    "stepsize = 100\n",
    "sampler = :amm\n",
    "persons = 1\n",
    "samplingnodes = [:sparms, :y0]\n",
    "chains = 5\n",
    "\n",
    "\n",
    "jldname = \"$sampler $adapt ugm-flat $(length(persons))pX$(chains)c $(SIGMA_RHO)r $(SIGMA_Y0)sy $(SIGMA_PARMS)sp $(SIGMA_PROPOSAL)p.jld\"\n",
    "\n",
    "d = eye(length(SAMPLEPARMS)+length(y0))\n",
    "proposalvariance = d * log(1+(SIGMA_PROPOSAL^2));\n",
    "\n",
    "samplers = Dict(\n",
    "    :amm=>[AMM(samplingnodes, proposalvariance, adapt=adapt)], \n",
    "    :amwg=>[AMWG(samplingnodes,diag(proposalvariance); target=0.44)])\n",
    "\n",
    "mcs = []\n",
    "for person in persons\n",
    "    m, inp, ini = gyncmodel(data[person], parms, y0)\n",
    "    setsamplers!(m, samplers[sampler])\n",
    "    \n",
    "    push!(mcs, mcmc(m, inp, [ini[1] for i=1:chains], stepsize, burnin=0, verbose = false, thin = 1, chains=chains))\n",
    "end\n",
    "\n",
    "#samplelength(mc) = max(floor(Int, size(mc, 1)/5), 2_000)\n",
    "\n",
    "println(jldname)\n",
    "while size(mcs[1],1) < 1_000_000\n",
    "    @time for i in 1:length(persons)\n",
    "        mcs[persons[i]] = mcmc(mcs[persons[i]], stepsize, verbose=false)\n",
    "    end\n",
    "    @time save(jldname, \"mc\", [mc.value for mc in mcs])    \n",
    "    println(size(mcs[1]))\n",
    "end"
   ]
  }
 ],
 "metadata": {
  "kernelspec": {
   "display_name": "Julia 0.4.1",
   "language": "julia",
   "name": "julia-0.4"
  },
  "language_info": {
   "file_extension": ".jl",
   "mimetype": "application/julia",
   "name": "julia",
   "version": "0.4.1"
  }
 },
 "nbformat": 4,
 "nbformat_minor": 0
}
