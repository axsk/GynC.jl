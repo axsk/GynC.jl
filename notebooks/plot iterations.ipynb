{
 "cells": [
  {
   "cell_type": "code",
   "execution_count": 1,
   "metadata": {
    "collapsed": false
   },
   "outputs": [
    {
     "ename": "LoadError",
     "evalue": "LoadError: LoadError: LoadError: LoadError: syntax: extra token \"Plots\" after end of expression\nwhile loading /home/numerik/bzfsikor/.julia/v0.4/GynC/src/../examples/gc/plot.jl, in expression starting on line 2\nwhile loading /home/numerik/bzfsikor/.julia/v0.4/GynC/src/../examples/gc/gync.jl, in expression starting on line 30\nwhile loading /home/numerik/bzfsikor/.julia/v0.4/GynC/src/GynC.jl, in expression starting on line 9\nwhile loading In[1], in expression starting on line 1",
     "output_type": "error",
     "traceback": [
      "LoadError: LoadError: LoadError: LoadError: syntax: extra token \"Plots\" after end of expression\nwhile loading /home/numerik/bzfsikor/.julia/v0.4/GynC/src/../examples/gc/plot.jl, in expression starting on line 2\nwhile loading /home/numerik/bzfsikor/.julia/v0.4/GynC/src/../examples/gc/gync.jl, in expression starting on line 30\nwhile loading /home/numerik/bzfsikor/.julia/v0.4/GynC/src/GynC.jl, in expression starting on line 9\nwhile loading In[1], in expression starting on line 1",
      "",
      " in include at ./boot.jl:261",
      " in include_from_node1 at ./loading.jl:320",
      " in include at ./boot.jl:261",
      " in include_from_node1 at ./loading.jl:320",
      " in include at ./boot.jl:261",
      " in include_from_node1 at ./loading.jl:320",
      " in require at ./loading.jl:259"
     ]
    }
   ],
   "source": [
    "using GynC\n",
    "blas_set_num_threads(1)\n",
    "\n",
    "@time ss = [sample(Config(Lausanne(i), relprop = 0.0001), 100) for i = 1:5];"
   ]
  },
  {
   "cell_type": "code",
   "execution_count": 16,
   "metadata": {
    "collapsed": false
   },
   "outputs": [
    {
     "data": {
      "text/plain": [
       "(PyObject <matplotlib.patches.Rectangle object at 0x7f2acc0af410>,PyObject <matplotlib.patches.Rectangle object at 0x7f2acc0afa50>,PyObject <matplotlib.patches.Rectangle object at 0x7f2acc0aff50>)"
      ]
     },
     "metadata": {},
     "output_type": "display_data"
    }
   ],
   "source": [
    "using Plots\n",
    "bar(rand(3,2))\n",
    "import PyPlot\n",
    "PyPlot.bar(rand(3), rand(3)) |> display"
   ]
  },
  {
   "cell_type": "code",
   "execution_count": 2,
   "metadata": {
    "collapsed": false
   },
   "outputs": [
    {
     "ename": "LoadError",
     "evalue": "LoadError: UndefVarError: WeightedChain not defined\nwhile loading In[2], in expression starting on line 155",
     "output_type": "error",
     "traceback": [
      "LoadError: UndefVarError: WeightedChain not defined\nwhile loading In[2], in expression starting on line 155",
      ""
     ]
    }
   ],
   "source": [
    "@time w = WeightedChain(ss...);"
   ]
  },
  {
   "cell_type": "code",
   "execution_count": null,
   "metadata": {
    "collapsed": false,
    "scrolled": false
   },
   "outputs": [],
   "source": [
    "ww = deepcopy(w)\n",
    "import PyPlot\n",
    "for i=0:5\n",
    "    if i%1 == 0\n",
    "        PyPlot.figure()\n",
    "        GynC.plot(ww, 1, 10)\n",
    "    end\n",
    "    emiteration!(ww)\n",
    "end"
   ]
  },
  {
   "cell_type": "code",
   "execution_count": 3,
   "metadata": {
    "collapsed": false,
    "scrolled": false
   },
   "outputs": [
    {
     "ename": "LoadError",
     "evalue": "LoadError: UndefVarError: w not defined\nwhile loading In[3], in expression starting on line 2",
     "output_type": "error",
     "traceback": [
      "LoadError: UndefVarError: w not defined\nwhile loading In[3], in expression starting on line 2",
      ""
     ]
    }
   ],
   "source": [
    "import Plots\n",
    "x, y = GynC.weightedhist(w.samples[:,1], w.weights, 50)\n",
    "Plots.plot(x[1:end-1] + step(x),y)"
   ]
  }
 ],
 "metadata": {
  "kernelspec": {
   "display_name": "Julia 0.4.5",
   "language": "julia",
   "name": "julia-0.4"
  },
  "language_info": {
   "file_extension": ".jl",
   "mimetype": "application/julia",
   "name": "julia",
   "version": "0.4.5"
  }
 },
 "nbformat": 4,
 "nbformat_minor": 0
}
