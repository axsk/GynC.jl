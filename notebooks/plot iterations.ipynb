{
 "cells": [
  {
   "cell_type": "code",
   "execution_count": null,
   "metadata": {
    "collapsed": true
   },
   "outputs": [],
   "source": [
    "using GynC\n",
    "\n",
    "#scalings = [2.0 ^ (i * 5/15) for i in -15:12]\n",
    "#cs = map(x->Config(propvar=x*GynC.defaultpropvar), scalings)\n",
    "\n",
    "#cs = Config[Config(Lausanne(p), propvar=1/8*GynC.defaultpropvar, adapt=true, thin=100) for p in 1:55]\n",
    "\n",
    "cs = Config[Config(Lausanne(p), propvar=GynC.uniformpropvar(v), adapt=true, thin=100) for p in 1:5, v in [0.1, 0.01, 0.001]][:]\n",
    "\n",
    "paths = map(c->joinpath(\"/nfs/datanumerik/bzfsikor/batch/\",GynC.filename(c)), cs)\n",
    "\n",
    "ss = map(GynC.load, paths)"
   ]
  },
  {
   "cell_type": "code",
   "execution_count": 2,
   "metadata": {
    "collapsed": false
   },
   "outputs": [
    {
     "data": {
      "text/plain": [
       "42453"
      ]
     },
     "execution_count": 2,
     "metadata": {},
     "output_type": "execute_result"
    }
   ],
   "source": [
    "ssf = map(ss) do s\n",
    "    l = size(s.samples,1)\n",
    "    s[20_000:100:l, :]\n",
    "end\n",
    "\n",
    "map(s->size(s.samples,1), ssf) |> sum"
   ]
  },
  {
   "cell_type": "code",
   "execution_count": 3,
   "metadata": {
    "collapsed": false
   },
   "outputs": [
    {
     "name": "stderr",
     "output_type": "stream",
     "text": [
      "WARNING: rmprocs: process 1 not removed\n"
     ]
    },
    {
     "name": "stdout",
     "output_type": "stream",
     "text": [
      "1249.617907 seconds (56.01 M allocations: 5.945 GB, 0.09% gc time)\n"
     ]
    },
    {
     "data": {
      "text/plain": [
       ":ok"
      ]
     },
     "execution_count": 3,
     "metadata": {},
     "output_type": "execute_result"
    }
   ],
   "source": [
    "using ClusterManagers\n",
    "rmprocs(workers())\n",
    "slurm = addprocs(SlurmManager(20))\n",
    "@everywhere using GynC\n",
    "@time w = WeightedChain(ssf)\n",
    "rmprocs(slurm)"
   ]
  },
  {
   "cell_type": "code",
   "execution_count": 12,
   "metadata": {
    "collapsed": false,
    "scrolled": false
   },
   "outputs": [],
   "source": [
    "JLD.save(\"merged.jld\", \"w\", w)"
   ]
  },
  {
   "cell_type": "code",
   "execution_count": 108,
   "metadata": {
    "collapsed": false,
    "scrolled": false
   },
   "outputs": [
    {
     "ename": "LoadError",
     "evalue": "LoadError: InterruptException:\nwhile loading In[108], in expression starting on line 9",
     "output_type": "error",
     "traceback": [
      "LoadError: InterruptException:\nwhile loading In[108], in expression starting on line 9",
      "",
      " in generic_matvecmul! at linalg/matmul.jl:399",
      " in phih at /home/numerik/bzfsikor/.julia/v0.4/GynC/src/priorestimation.jl:120",
      " in f at /home/numerik/bzfsikor/.julia/v0.4/GynC/src/priorestimation.jl:126",
      " [inlined code] from /home/numerik/bzfsikor/.julia/v0.4/ForwardDiff/src/gradient.jl:134",
      " in chunk_mode_gradient at /home/numerik/bzfsikor/.julia/v0.4/ForwardDiff/src/gradient.jl:152",
      " in gradient at /home/numerik/bzfsikor/.julia/v0.4/ForwardDiff/src/gradient.jl:25",
      " in gradient at /home/numerik/bzfsikor/.julia/v0.4/ForwardDiff/src/gradient.jl:20",
      " in euler_phih at /home/numerik/bzfsikor/.julia/v0.4/GynC/src/priorestimation.jl:127",
      " in euler_phih! at /home/numerik/bzfsikor/.julia/v0.4/GynC/src/priorestimation.jl:47",
      " [inlined code] from In[108]:19",
      " in anonymous at no file:0"
     ]
    }
   ],
   "source": [
    "using Plots, KernelDensity\n",
    "plotsize=(600, 400*0.8)\n",
    "iters = 20\n",
    "\n",
    "  cols = linspace(colorant\"midnightblue\",colorant\"lightskyblue\", iters+1)\n",
    "  cols = colormap(\"Blues\", 1+2*iters)[iters+1:end]\n",
    "  #cols[1] = colorant\"red\"\n",
    "\n",
    "for species in 8#1:82\n",
    "  ww = deepcopy(w)\n",
    "  plot(legend=:none, title=GynC.samplednames[species], size=plotsize)\n",
    "  for i=1:iters+1\n",
    "      if i%1 == 0\n",
    "          data = ww.samples[:,species]\n",
    "          k = kde(data, npoints = 1000, weights = ww.weights, bandwidth=KernelDensity.default_bandwidth(data)/1)\n",
    "          plot!(k.x, k.density, color=cols[i])\n",
    "      end\n",
    "      #emiteration!(ww)\n",
    "      euler_phih!(ww, 0.001)\n",
    "  end\n",
    "  plot!() |> display\n",
    "end"
   ]
  },
  {
   "cell_type": "code",
   "execution_count": 74,
   "metadata": {
    "collapsed": true
   },
   "outputs": [],
   "source": [
    "for species in 1:3\n",
    "    species\n",
    "    end"
   ]
  },
  {
   "cell_type": "code",
   "execution_count": 90,
   "metadata": {
    "collapsed": false,
    "scrolled": false
   },
   "outputs": [
    {
     "data": {
      "text/html": [
       "<img src=\"data:image/png;base64,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\" />"
      ]
     },
     "execution_count": 90,
     "metadata": {},
     "output_type": "execute_result"
    }
   ],
   "source": [
    "x, y = GynC.weightedhist(ww.samples[:,8], ww.weights, 50)\n",
    "\n",
    "bar(x[1:end-1] + step(x),y)"
   ]
  },
  {
   "cell_type": "code",
   "execution_count": 110,
   "metadata": {
    "collapsed": false
   },
   "outputs": [
    {
     "ename": "LoadError",
     "evalue": "LoadError: InterruptException:\nwhile loading In[110], in expression starting on line 1",
     "output_type": "error",
     "traceback": [
      "LoadError: InterruptException:\nwhile loading In[110], in expression starting on line 1",
      "",
      " in Ac_mul_B at operators.jl:163",
      " in generic_matvecmul! at linalg/matmul.jl:399",
      " in phih at /home/numerik/bzfsikor/.julia/v0.4/GynC/src/priorestimation.jl:120",
      " in f at /home/numerik/bzfsikor/.julia/v0.4/GynC/src/priorestimation.jl:126",
      " [inlined code] from /home/numerik/bzfsikor/.julia/v0.4/ForwardDiff/src/gradient.jl:134",
      " in chunk_mode_gradient at /home/numerik/bzfsikor/.julia/v0.4/ForwardDiff/src/gradient.jl:152",
      " in gradient at /home/numerik/bzfsikor/.julia/v0.4/ForwardDiff/src/gradient.jl:25",
      " in gradient at /home/numerik/bzfsikor/.julia/v0.4/ForwardDiff/src/gradient.jl:20",
      " in euler_phih at /home/numerik/bzfsikor/.julia/v0.4/GynC/src/priorestimation.jl:127",
      " in euler_phih! at /home/numerik/bzfsikor/.julia/v0.4/GynC/src/priorestimation.jl:47"
     ]
    }
   ],
   "source": [
    "euler_phih!(ww,0.1)"
   ]
  }
 ],
 "metadata": {
  "kernelspec": {
   "display_name": "Julia 0.4.6",
   "language": "julia",
   "name": "julia-0.4"
  },
  "language_info": {
   "file_extension": ".jl",
   "mimetype": "application/julia",
   "name": "julia",
   "version": "0.4.6"
  }
 },
 "nbformat": 4,
 "nbformat_minor": 0
}
