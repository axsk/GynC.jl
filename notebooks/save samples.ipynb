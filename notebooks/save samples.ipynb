{
 "cells": [
  {
   "cell_type": "code",
   "execution_count": null,
   "metadata": {
    "collapsed": false,
    "scrolled": false
   },
   "outputs": [
    {
     "name": "stdout",
     "output_type": "stream",
     "text": []
    }
   ],
   "source": [
    "using GynC\n",
    "\n",
    "scalings = [2.0 ^ (i * 2/5) for i in -10:5]\n",
    "scalings = [2.0 ^ (i) for i in -10:0]\n",
    "\n",
    "cs = Config[Config(propvar=x*GynC.defaultpropvar, adapt=a, thin=10) for x in scalings, a in [true,false]] |> vec\n",
    "\n",
    "cs = Config[Config(Lausanne(p), propvar=GynC.uniformpropvar(v), adapt=true, thin=100) for p in 1:5, v in [0.1, 0.01, 0.001]]\n",
    "cs = cs[:]\n",
    "\n",
    "@time batch(cs,  1_000_000)\n",
    "@time batch(cs, 10_000_000)"
   ]
  },
  {
   "cell_type": "code",
   "execution_count": null,
   "metadata": {
    "collapsed": true
   },
   "outputs": [],
   "source": []
  },
  {
   "cell_type": "code",
   "execution_count": null,
   "metadata": {
    "collapsed": false
   },
   "outputs": [
    {
     "name": "stdout",
     "output_type": "stream",
     "text": []
    }
   ],
   "source": [
    "@time batch(cs, 30_000_000)"
   ]
  }
 ],
 "metadata": {
  "kernelspec": {
   "display_name": "Julia 0.4.6",
   "language": "julia",
   "name": "julia-0.4"
  },
  "language_info": {
   "file_extension": ".jl",
   "mimetype": "application/julia",
   "name": "julia",
   "version": "0.4.6"
  }
 },
 "nbformat": 4,
 "nbformat_minor": 0
}
