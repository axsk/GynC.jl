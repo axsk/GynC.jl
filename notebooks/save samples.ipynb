{
 "cells": [
  {
   "cell_type": "code",
   "execution_count": 2,
   "metadata": {
    "collapsed": false
   },
   "outputs": [
    {
     "ename": "LoadError",
     "evalue": "LoadError: UndefVarError: __000 not defined\nwhile loading In[2], in expression starting on line 4",
     "output_type": "error",
     "traceback": [
      "LoadError: UndefVarError: __000 not defined\nwhile loading In[2], in expression starting on line 4",
      ""
     ]
    }
   ],
   "source": [
    "using GynC\n",
    "scalings = [2.0 ^ (i * 5/15) for i in -15:15]\n",
    "cs = map(x->Config(propvar=x*GynC.defaultpropvar), scalings)\n",
    "batch(cs, 1__000)\n",
    "batch(cs, 3_000_000)"
   ]
  }
 ],
 "metadata": {
  "kernelspec": {
   "display_name": "Julia 0.4.5",
   "language": "julia",
   "name": "julia-0.4"
  },
  "language_info": {
   "file_extension": ".jl",
   "mimetype": "application/julia",
   "name": "julia",
   "version": "0.4.5"
  }
 },
 "nbformat": 4,
 "nbformat_minor": 0
}
