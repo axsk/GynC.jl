{
 "cells": [
  {
   "cell_type": "code",
   "execution_count": null,
   "metadata": {
    "collapsed": false,
    "scrolled": false
   },
   "outputs": [],
   "source": [
    "using GynC\n",
    "\n",
    "scalings = [2.0 ^ (i * 2/5) for i in -10:5]\n",
    "scalings = [2.0 ^ (i) for i in -10:0]\n",
    "\n",
    "cs = Config[Config(propvar=x*GynC.defaultpropvar, adapt=a, thin=10) for x in scalings, a in [true,false]] |> vec\n",
    "\n",
    "cs = Config[Config(Lausanne(p), propvar=1/8*GynC.defaultpropvar, adapt=true, thin=100) for p in 1:55]\n",
    "\n",
    "@time batch(cs,  1_000_000)\n",
    "@time batch(cs, 10_000_000)"
   ]
  }
 ],
 "metadata": {
  "kernelspec": {
   "display_name": "Julia 0.4.5",
   "language": "julia",
   "name": "julia-0.4"
  },
  "language_info": {
   "file_extension": ".jl",
   "mimetype": "application/julia",
   "name": "julia",
   "version": "0.4.5"
  }
 },
 "nbformat": 4,
 "nbformat_minor": 0
}
