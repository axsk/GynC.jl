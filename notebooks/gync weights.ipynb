{
 "cells": [
  {
   "cell_type": "code",
   "execution_count": 4,
   "metadata": {},
   "outputs": [
    {
     "name": "stderr",
     "output_type": "stream",
     "text": [
      "WARNING: Method definition describe(AbstractArray) in module StatsBase at /home/numerik/bzfsikor/.julia/v0.5/StatsBase/src/scalarstats.jl:573 overwritten in module DataFrames at /home/numerik/bzfsikor/.julia/v0.5/DataFrames/src/abstractdataframe/abstractdataframe.jl:407.\n",
      "WARNING: using Plots.density in module GynC conflicts with an existing identifier.\n"
     ]
    }
   ],
   "source": [
    "using GynC\n",
    "using JLD"
   ]
  },
  {
   "cell_type": "code",
   "execution_count": null,
   "metadata": {
    "collapsed": true,
    "scrolled": true
   },
   "outputs": [],
   "source": [
    "include(\"../scripts/gyncplots.jl\");"
   ]
  },
  {
   "cell_type": "code",
   "execution_count": null,
   "metadata": {
    "collapsed": true
   },
   "outputs": [],
   "source": [
    "h=0.5\n",
    "niter=5000\n",
    "grad = true\n",
    "\n",
    "function optimize(m, r) \n",
    "  w0=GynC.uniformweights(m.xs|>length);\n",
    "  if grad \n",
    "    GynC.mple(m, w0, niter, r, h)\n",
    "  else\n",
    "    [GynC.optimineq(m,r,w0)] \n",
    "  end\n",
    "end"
   ]
  },
  {
   "cell_type": "code",
   "execution_count": null,
   "metadata": {
    "collapsed": true
   },
   "outputs": [],
   "source": [
    "function getsamples(thin=10000)\n",
    "  ss = GynC.readsamples(\"/datanumerik/bzfsikor/gync/master\");\n",
    "  all = vcat([s.samples for s in ss]...);\n",
    "  samples = all[1:thin:end,:];\n",
    "  @show size(samples,1)\n",
    "  samples\n",
    "end\n",
    "\n",
    "function getmodels(samples, zmult)\n",
    "  @time m = GynC.gyncmodel([samples[i,:] for i=1:size(samples,1)], GynC.alldatas(), zmult = zmult)\n",
    "  @time ms = GynC.smoothedmodel(m, zmult)\n",
    "  n = length(m.xs)\n",
    "  @time muni = GynC.gyncmodel(vcat(GynC.samplepi0(n*5, trajts), m.xs), m.datas, zmult=0);\n",
    "  m, ms, muni\n",
    "end\n",
    "\n",
    "\n",
    "function getweights(m, ms, muni)\n",
    "  ws = Dict()\n",
    "  @time ws[\"uni\"] = [inverseweights(muni.xs)]\n",
    "  @time ws[\"MPLE\"] = optimize(m, 100/101)\n",
    "  @time ws[\"NPMLE\"] = optimize(m, 0)\n",
    "  @time ws[\"DS-MLE\"] = optimize(ms, 0);\n",
    "  ws\n",
    "end"
   ]
  },
  {
   "cell_type": "code",
   "execution_count": null,
   "metadata": {
    "collapsed": true
   },
   "outputs": [],
   "source": [
    "m,ms,muni = getmodels(getsamples(), 50)\n",
    "ws = getweights(m,ms,muni)"
   ]
  },
  {
   "cell_type": "code",
   "execution_count": 8,
   "metadata": {
    "collapsed": true
   },
   "outputs": [],
   "source": [
    "@save \"paperplots/grad$(grad)h$(h)niter$(niter).jld\" m ms muni ws"
   ]
  },
  {
   "cell_type": "code",
   "execution_count": 7,
   "metadata": {},
   "outputs": [
    {
     "data": {
      "text/plain": [
       "Dict{Any,Any} with 4 entries:\n",
       "  \"MPLE\"   => Any[[0.000377644,0.000377644,0.000377644,0.000377644,0.000377644,…\n",
       "  \"NPMLE\"  => Any[[0.000377644,0.000377644,0.000377644,0.000377644,0.000377644,…\n",
       "  \"uni\"    => Array{Float64,1}[[6.72914e-5,6.73158e-5,6.71313e-5,6.72068e-5,6.7…\n",
       "  \"DS-MLE\" => Any[[0.000377644,0.000377644,0.000377644,0.000377644,0.000377644,…"
      ]
     },
     "execution_count": 7,
     "metadata": {},
     "output_type": "execute_result"
    }
   ],
   "source": [
    "ws"
   ]
  }
 ],
 "metadata": {
  "anaconda-cloud": {},
  "kernelspec": {
   "display_name": "Julia 0.5.2",
   "language": "julia",
   "name": "julia-0.5"
  },
  "language_info": {
   "file_extension": ".jl",
   "mimetype": "application/julia",
   "name": "julia",
   "version": "0.5.2"
  }
 },
 "nbformat": 4,
 "nbformat_minor": 1
}
