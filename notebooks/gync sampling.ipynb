{
 "cells": [
  {
   "cell_type": "code",
   "execution_count": 1,
   "metadata": {},
   "outputs": [
    {
     "name": "stdout",
     "output_type": "stream",
     "text": [
      "cookie: ceeadl8kLfytiPzc\n",
      "VERSION: 0.5.0\n",
      "worker_arg: `--worker ceeadl8kLfytiPzc`\n"
     ]
    },
    {
     "name": "stderr",
     "output_type": "stream",
     "text": [
      "WARNING: using Plots.density in module GynC conflicts with an existing identifier.\n"
     ]
    },
    {
     "data": {
      "text/html": [
       "7.974340160533512"
      ],
      "text/plain": [
       "7.974340160533512"
      ]
     },
     "execution_count": 1,
     "metadata": {},
     "output_type": "execute_result"
    }
   ],
   "source": [
    "using GynC\n",
    "\n",
    "oldsamples = GynC.loadallsamples()\n",
    "prop=GynC.proposal(vcat(oldsamples...))\n",
    "trace(prop)"
   ]
  },
  {
   "cell_type": "code",
   "execution_count": 2,
   "metadata": {},
   "outputs": [
    {
     "data": {
      "text/html": [
       "53"
      ],
      "text/plain": [
       "53"
      ]
     },
     "execution_count": 2,
     "metadata": {},
     "output_type": "execute_result"
    }
   ],
   "source": [
    "patients = GynC.allpatients();\n",
    "length(patients)"
   ]
  },
  {
   "cell_type": "code",
   "execution_count": 3,
   "metadata": {},
   "outputs": [
    {
     "data": {
      "text/plain": [
       "\"/nfs/datanumerik/bzfsikor/gync/master/pp1s0.1r7.974340160533512t100atrue.jld\""
      ]
     },
     "execution_count": 3,
     "metadata": {},
     "output_type": "execute_result"
    }
   ],
   "source": [
    "dir = \"/nfs/datanumerik/bzfsikor/gync/master\"\n",
    "cs = [Config(p, adapt=true, thin=100, propvar=prop) for p in patients];\n",
    "joinpath(dir, GynC.filename(cs[1]))"
   ]
  },
  {
   "cell_type": "code",
   "execution_count": null,
   "metadata": {},
   "outputs": [
    {
     "name": "stdout",
     "output_type": "stream",
     "text": [
      "srun_cmd: `srun -J julia-11181 -n 53 -o job%4t.out -D /nfs/numerik/bzfsikor/dev/gc/notebooks --partition=HTC040 /nfs/datanumerik/bzfsikor/julia/julia-0.5.0/julia-3c9d75391c/bin/julia -e 'Base.start_worker(\"ceeadl8kLfytiPzc\")'`\n"
     ]
    },
    {
     "name": "stderr",
     "output_type": "stream",
     "text": [
      "srun: job 1479198 queued and waiting for resources\n",
      "srun: job 1479198 has been allocated resources\n"
     ]
    },
    {
     "name": "stdout",
     "output_type": "stream",
     "text": []
    }
   ],
   "source": [
    "steps = [1, 10, 100, 500, 1_000, 2_000, 5_000, 10_000, 20_000, 25_000, 30_000, 40_000, 50_000] * 1_000\n",
    "\n",
    "ps = ClusterManagers.addprocs_slurm(53, partition=\"HTC040\")\n",
    "t = @elapsed (res = batch(cs, steps, dir=dir, maxprocs = 0))\n",
    "rmprocs(ps)\n",
    "res"
   ]
  },
  {
   "cell_type": "code",
   "execution_count": null,
   "metadata": {
    "collapsed": true
   },
   "outputs": [],
   "source": []
  }
 ],
 "metadata": {
  "anaconda-cloud": {},
  "kernelspec": {
   "display_name": "Julia 0.5.2",
   "language": "julia",
   "name": "julia-0.5"
  },
  "language_info": {
   "file_extension": ".jl",
   "mimetype": "application/julia",
   "name": "julia",
   "version": "0.5.2"
  }
 },
 "nbformat": 4,
 "nbformat_minor": 1
}
