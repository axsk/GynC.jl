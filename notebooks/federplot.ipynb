{
 "cells": [
  {
   "cell_type": "code",
   "execution_count": 1,
   "metadata": {},
   "outputs": [
    {
     "name": "stderr",
     "output_type": "stream",
     "text": [
      "WARNING: Method definition describe(AbstractArray) in module StatsBase at /home/numerik/bzfsikor/.julia/v0.5/StatsBase/src/scalarstats.jl:573 overwritten in module DataFrames at /home/numerik/bzfsikor/.julia/v0.5/DataFrames/src/abstractdataframe/abstractdataframe.jl:407.\n",
      "WARNING: using Plots.density in module GynC conflicts with an existing identifier.\n"
     ]
    }
   ],
   "source": [
    "using GynC, Plots, Distributions"
   ]
  },
  {
   "cell_type": "code",
   "execution_count": null,
   "metadata": {
    "collapsed": true
   },
   "outputs": [],
   "source": [
    "reload(\"GynC\")"
   ]
  },
  {
   "cell_type": "code",
   "execution_count": 127,
   "metadata": {},
   "outputs": [
    {
     "name": "stdout",
     "output_type": "stream",
     "text": [
      "KernelDensity.default_bandwidth(m.datas) = 1.4525152051557095\n"
     ]
    },
    {
     "name": "stderr",
     "output_type": "stream",
     "text": [
      "WARNING: Method definition phi(Any) in module Main at In[117]:14 overwritten at In[127]:14.\n"
     ]
    }
   ],
   "source": [
    "n = 100\n",
    "mass = 70\n",
    "mass = 6\n",
    "tmeas = [1]\n",
    "measerr = Normal(0,1.5)\n",
    "ndata = 50\n",
    "augz = 300\n",
    "reg = 15/16\n",
    "augd = 50\n",
    "smoothsigma = 6\n",
    "\n",
    "xs = linspace(1,50,n) |> collect\n",
    "\n",
    "phi(k) = GynC.Federn.odesol(k, tmeas, m=mass)[1]\n",
    "plot(xs, phi.(xs))\n",
    "\n",
    "w0 = ones(length(xs)) / length(xs);\n",
    "prior = GynC.Federn.prior\n",
    "wprior = pdf(prior, xs)\n",
    "wprior = wprior / sum(wprior);\n",
    "\n",
    "srand(3)\n",
    "m = GynC.syntheticmodel(xs, phi, prior, ndata, augz, measerr)\n",
    "@show KernelDensity.default_bandwidth(m.datas)\n",
    "ms = GynC.smoothedmodel(m, 100, m.measerr, sigma=smoothsigma);"
   ]
  },
  {
   "cell_type": "code",
   "execution_count": 158,
   "metadata": {},
   "outputs": [
    {
     "ename": "LoadError",
     "evalue": "InterruptException:",
     "output_type": "error",
     "traceback": [
      "InterruptException:",
      "",
      " in macro expansion at ./threadingconstructs.jl:57 [inlined]",
      " in dhzdiscr(::Array{Float64,1}, ::Array{Float64,1}, ::Array{Float64,1}, ::Distributions.Normal{Float64}) at /home/numerik/bzfsikor/.julia/v0.5/GynC/src/eb/regularizers.jl:69",
      " in dhz(::GynC.LikelihoodModel, ::Array{Float64,1}) at /home/numerik/bzfsikor/.julia/v0.5/GynC/src/eb/likelihoodmodel.jl:55",
      " in (::GynC.#iter#130{Float64,GynC.#projectsimplex,GynC.##93#96{GynC.LikelihoodModel}})(::Array{Float64,1}) at /home/numerik/bzfsikor/.julia/v0.5/GynC/src/eb/gradientascent.jl:3",
      " in next at ./iterator.jl:323 [inlined]",
      " in _collect(::UnitRange{Int64}, ::Base.Take{Iterators.Iterate{Array{Float64,1}}}, ::Base.HasEltype, ::Base.SizeUnknown) at ./array.jl:282",
      " in #gradientascent#129(::Bool, ::Function, ::Function, ::Array{Float64,1}, ::Int64, ::Float64, ::GynC.#projectsimplex) at /home/numerik/bzfsikor/.julia/v0.5/GynC/src/eb/gradientascent.jl:4",
      " in (::GynC.#kw##gradientascent)(::Array{Any,1}, ::GynC.#gradientascent, ::Function, ::Array{Float64,1}, ::Int64, ::Float64, ::Function) at ./<missing>:0 (repeats 2 times)",
      " in mple(::GynC.LikelihoodModel, ::Array{Float64,1}, ::Int64, ::Int64, ::Int64) at /home/numerik/bzfsikor/.julia/v0.5/GynC/src/eb/likelihoodmodel.jl:27"
     ]
    }
   ],
   "source": [
    "h = 0.1\n",
    "niter = 1000\n",
    "\n",
    "wsgrad = Dict()\n",
    "@time begin\n",
    "  wsgrad[\"NPMLE\"] = GynC.em(m, w0, niter)\n",
    "  wsgrad[\"DS-MLE\"] = GynC.em(ms, w0, niter);\n",
    "  wsgrad[\"MPLE\"]  = GynC.mple(m, w0, niter, reg, h)\n",
    "  wsgrad[\"Reference Prior\"] = GynC.mple(m, w0, niter, 1, h);\n",
    "end\n",
    "\n",
    "ws = wsgrad\n",
    "\n",
    "GynC.mple_obj(m, 0)(ws[\"NPMLE\"][end]) |> println\n",
    "GynC.mple_obj(ms, 0)(ws[\"DS-MLE\"][end]) |> println\n",
    "GynC.mple_obj(m, reg)(ws[\"MPLE\"][end]) |> println\n",
    "GynC.mple_obj(m, 1)(ws[\"Reference Prior\"][end]) |> println\n",
    "\n",
    "labels = [\"NPMLE\" \"DS-MLE\" \"MPLE\" \"Reference Prior\"]\n",
    "densities = map(l->ws[l][end], labels) |> vec\n",
    "\n",
    "plot(xs, wprior, label=\"True Prior\", legendfont=font(10), tickfont=font(8), ylims=(0,0.05), size=(600, 350), grid=false)\n",
    "plot!(xs, densities, labels=labels)"
   ]
  },
  {
   "cell_type": "markdown",
   "metadata": {},
   "source": [
    "# Plots"
   ]
  },
  {
   "cell_type": "code",
   "execution_count": 159,
   "metadata": {},
   "outputs": [
    {
     "name": "stderr",
     "output_type": "stream",
     "text": [
      "WARNING: Method definition bayesposterior(Any, Any, Any) in module Main at In[139]:12 overwritten at In[159]:12.\n",
      "WARNING: Method definition plottrajs(Any, Any, Any) in module Main at In[139]:17 overwritten at In[159]:17.\n",
      "WARNING: Method definition #plottrajs(Array{Any, 1}, Main.#plottrajs, Any, Any, Any) in module Main overwritten.\n",
      "WARNING: Method definition plotcol(Any) in module Main at In[139]:25 overwritten at In[159]:25.\n"
     ]
    },
    {
     "data": {
      "text/plain": [
       "plotcol (generic function with 1 method)"
      ]
     },
     "execution_count": 159,
     "metadata": {},
     "output_type": "execute_result"
    }
   ],
   "source": [
    "kdenpoints = 200\n",
    "trajts = 0:1/20:5\n",
    "sols = [GynC.Federn.odesol(k,trajts, m=mass) for k = xs]\n",
    "#meas = [-9.3]\n",
    "meas = [phi(21.5)]\n",
    "trajalpha = 10\n",
    "priorcolor = :dodgerblue\n",
    "postcolor  = :orangered\n",
    "alphalim = 0.001\n",
    "\n",
    "function bayesposterior(m, data, wprior)\n",
    "    L = likelihoodmat(m.ys, data, m.measerr)\n",
    "    GynC.emiteration(wprior, L)\n",
    "end\n",
    "\n",
    "function plottrajs(ts, sols, w; alpha=trajalpha, kwargs...)\n",
    "    as = min.(1., w*alpha)\n",
    "    i = find(x->x>=alphalim, as)\n",
    "    plot(ts, sols[i], alpha = as[i]', legend=false, color=:black; kwargs...)\n",
    "end\n",
    "\n",
    "\n",
    "function plotcol(w)\n",
    "    \n",
    "    yscale = length(xs) / maximum(xs)\n",
    "    ylims = (0,.20)\n",
    "    \n",
    "    pprior = plot(xs, w*yscale, legend=false, color=priorcolor, ylims=ylims)\n",
    "    \n",
    "    wpost = bayesposterior(m, meas, w)\n",
    "    plot!(xs, wpost*yscale, color=postcolor)\n",
    "    \n",
    "    \n",
    "    pprioq = plottrajs(trajts, sols, w)\n",
    "    scatter!(pprioq, repmat(tmeas, length(m.datas)), m.datas, alpha = 1, ms = 1, marker=:cross,  markerstrokecolor=priorcolor)\n",
    "    \n",
    "    #ppostq = plottrajdens(trajts, sols, wpost)\n",
    "    ppostq = plottrajs(trajts, sols, wpost)\n",
    "    scatter!(ppostq, tmeas, meas, marker = (:hline, 20, 0.9, postcolor))\n",
    "    scatter!(ppostq, tmeas, meas, marker = (:vline, 20, 0.9, postcolor)) \n",
    "    [pprior, pprioq, ppostq]\n",
    "end\n",
    "\n",
    "#plot(plotcol(ws[\"NPMLE\"])..., size=(1000,400), layout=(1,3))"
   ]
  },
  {
   "cell_type": "code",
   "execution_count": 160,
   "metadata": {},
   "outputs": [
    {
     "ename": "LoadError",
     "evalue": "InterruptException:",
     "output_type": "error",
     "traceback": [
      "InterruptException:",
      "",
      " in _update_subplot_args(::Plots.Plot{Plots.PyPlotBackend}, ::Plots.Subplot{Plots.PyPlotBackend}, ::Dict{Symbol,Any}, ::Int64, ::Bool) at /home/numerik/bzfsikor/.julia/v0.5/Plots/src/args.jl:1158",
      " in _prepare_subplot(::Plots.Plot{Plots.PyPlotBackend}, ::Dict{Symbol,Any}) at /home/numerik/bzfsikor/.julia/v0.5/Plots/src/pipeline.jl:311",
      " in _process_seriesrecipe(::Plots.Plot{Plots.PyPlotBackend}, ::Dict{Symbol,Any}) at /home/numerik/bzfsikor/.julia/v0.5/Plots/src/pipeline.jl:397",
      " in _plot!(::Plots.Plot{Plots.PyPlotBackend}, ::Dict{Symbol,Any}, ::Tuple{FloatRange{Float64},Array{Array{Float64,1},1}}) at /home/numerik/bzfsikor/.julia/v0.5/Plots/src/plot.jl:227",
      " in #plot#263(::Array{Any,1}, ::Function, ::FloatRange{Float64}, ::Vararg{Any,N}) at /home/numerik/bzfsikor/.julia/v0.5/Plots/src/plot.jl:52",
      " in (::Plots.#kw##plot)(::Array{Any,1}, ::Plots.#plot, ::FloatRange{Float64}, ::Array{Array{Float64,1},1}, ::Vararg{Array{Array{Float64,1},1},N}) at ./<missing>:0",
      " in #plottrajs#428(::Int64, ::Array{Any,1}, ::Function, ::FloatRange{Float64}, ::Array{Array{Float64,1},1}, ::Array{Float64,1}) at ./In[159]:19",
      " in plotcol(::Array{Float64,1}) at ./In[159]:38"
     ]
    }
   ],
   "source": [
    "ws = wsgrad\n",
    "\n",
    "pyplot(fmt=:png, grid=false)\n",
    "aplots = hcat(plotcol(wprior), plotcol(w0), plotcol(ws[\"NPMLE\"][end]), plotcol(ws[\"DS-MLE\"][end]), plotcol(ws[\"MPLE\"][end]))\n",
    "plot(aplots..., size=(1200,900), layout=(5,3))"
   ]
  },
  {
   "cell_type": "code",
   "execution_count": 143,
   "metadata": {},
   "outputs": [
    {
     "name": "stderr",
     "output_type": "stream",
     "text": [
      "\u001b[1m\u001b[31mWARNING: sturges(n) is deprecated, use StatsBase.sturges(n) instead.\u001b[0m\n",
      " in depwarn(::String, ::Symbol) at ./deprecated.jl:64\n",
      " in sturges(::Int64) at ./deprecated.jl:624\n",
      " in hist at ./deprecated.jl:647 [inlined]\n",
      " in |>(::Array{Float64,1}, ::Base.#hist) at ./operators.jl:350\n",
      " in include_string(::String, ::String) at ./loading.jl:441\n",
      " in execute_request(::ZMQ.Socket, ::IJulia.Msg) at /home/numerik/bzfsikor/.julia/v0.5/IJulia/src/execute_request.jl:156\n",
      " in eventloop(::ZMQ.Socket) at /home/numerik/bzfsikor/.julia/v0.5/IJulia/src/eventloop.jl:8\n",
      " in (::IJulia.##13#19)() at ./task.jl:360\n",
      "while loading In[143], in expression starting on line 1\n",
      "\u001b[1m\u001b[31mWARNING: histrange(...) is deprecated, use StatsBase.histrange(...) instead\u001b[0m\n",
      " in depwarn(::String, ::Symbol) at ./deprecated.jl:64\n",
      " in histrange(::Array{Float64,1}, ::Int64) at ./deprecated.jl:552\n",
      " in hist at ./deprecated.jl:646 [inlined]\n",
      " in hist at ./deprecated.jl:647 [inlined]\n",
      " in |>(::Array{Float64,1}, ::Base.#hist) at ./operators.jl:350\n",
      " in include_string(::String, ::String) at ./loading.jl:441\n",
      " in execute_request(::ZMQ.Socket, ::IJulia.Msg) at /home/numerik/bzfsikor/.julia/v0.5/IJulia/src/execute_request.jl:156\n",
      " in eventloop(::ZMQ.Socket) at /home/numerik/bzfsikor/.julia/v0.5/IJulia/src/eventloop.jl:8\n",
      " in (::IJulia.##13#19)() at ./task.jl:360\n",
      "while loading In[143], in expression starting on line 1\n",
      "\u001b[1m\u001b[31mWARNING: hist(...) and hist!(...) are deprecated. Use fit(Histogram,...) in StatsBase.jl instead.\u001b[0m\n",
      " in depwarn(::String, ::Symbol) at ./deprecated.jl:64\n",
      " in #hist!#1014(::Bool, ::Function, ::Array{Int64,1}, ::Array{Float64,1}, ::FloatRange{Float64}) at ./deprecated.jl:630\n",
      " in |>(::Array{Float64,1}, ::Base.#hist) at ./operators.jl:350\n",
      " in include_string(::String, ::String) at ./loading.jl:441\n",
      " in execute_request(::ZMQ.Socket, ::IJulia.Msg) at /home/numerik/bzfsikor/.julia/v0.5/IJulia/src/execute_request.jl:156\n",
      " in eventloop(::ZMQ.Socket) at /home/numerik/bzfsikor/.julia/v0.5/IJulia/src/eventloop.jl:8\n",
      " in (::IJulia.##13#19)() at ./task.jl:360\n",
      "while loading In[143], in expression starting on line 1\n"
     ]
    },
    {
     "data": {
      "text/plain": [
       "(-0.05:0.05:0.30000000000000004,[16,79,2,1,1,0,1])"
      ]
     },
     "execution_count": 143,
     "metadata": {},
     "output_type": "execute_result"
    }
   ],
   "source": [
    "ws[\"NPMLE\"][end]|>hist"
   ]
  },
  {
   "cell_type": "code",
   "execution_count": 147,
   "metadata": {},
   "outputs": [
    {
     "name": "stdout",
     "output_type": "stream",
     "text": [
      "0.0\n",
      "0.0\n",
      "0.0\n",
      "0.0\n",
      "0.0\n",
      "0.0\n",
      "0.0\n",
      "0.0\n",
      "0.0\n",
      "0.0\n",
      "0.0\n",
      "0.0\n",
      "0.0\n",
      "0.0\n",
      "0.0\n",
      "0.0\n",
      "5.334795362e-314\n",
      "3.36075185126501e-245\n",
      "5.494355344779889e-188\n",
      "6.316692650380645e-141\n",
      "9.93351316937835e-103\n",
      "2.921984600093378e-72\n",
      "1.586874769389493e-48\n",
      "1.2138405337400688e-30\n",
      "5.256231772172495e-23\n",
      "6.914034162837094e-23\n",
      "8.167794673551666e-23\n",
      "1.761495873572835e-22\n",
      "2.6800750711794967e-22\n",
      "8.10150614192178e-22\n",
      "1.8694790629070566e-21\n",
      "6.196772785464196e-21\n",
      "2.7098157983407505e-20\n",
      "7.212993930534881e-20\n",
      "7.727020862951584e-19\n",
      "1.1657847473931355e-18\n",
      "8.45487349265996e-18\n",
      "2.3894484294038128e-17\n",
      "3.969990829249597e-17\n",
      "5.694757007659282e-16\n",
      "3.2590581257549072e-15\n",
      "1.4560352498203142e-14\n",
      "4.2951069294438666e-14\n",
      "6.058550406682361e-14\n",
      "1.071596406574404e-13\n",
      "2.9810127308454423e-13\n",
      "3.6802981859763236e-13\n",
      "3.71388502546578e-13\n",
      "8.460480477969681e-13\n",
      "4.492871576924041e-12\n",
      "8.866888343611246e-12\n",
      "1.7239037755239212e-11\n",
      "4.8008665182692715e-11\n",
      "1.6259485019837562e-10\n",
      "1.8769677099156848e-10\n",
      "6.879571487796934e-10\n",
      "3.2186061462125847e-9\n",
      "3.369243338771855e-9\n",
      "5.965548875624293e-9\n",
      "1.0098606059404078e-8\n",
      "3.911886806082584e-8\n",
      "4.951644901101069e-8\n",
      "5.765964067905798e-7\n",
      "5.804511890410533e-7\n",
      "7.250889040004658e-7\n",
      "2.278062140735091e-6\n",
      "5.268348696370787e-6\n",
      "5.3317019793936355e-6\n",
      "7.541566855781344e-6\n",
      "1.3754428252196057e-5\n",
      "3.200206963808237e-5\n",
      "3.5400864132989855e-5\n",
      "3.798654298830602e-5\n",
      "3.983434642405013e-5\n",
      "9.913345512989082e-5\n",
      "0.00012503987992575522\n",
      "0.00020920330983066875\n",
      "0.00026129020525649747\n",
      "0.0003985372868275473\n",
      "0.0008927865901108328\n",
      "0.0011399323508523443\n",
      "0.0011402408967905325\n",
      "0.0024352068307381494\n",
      "0.002441491969004378\n",
      "0.0025363492892813617\n",
      "0.002974475000549422\n",
      "0.007827330048452938\n",
      "0.012475499808774559\n",
      "0.015532502566345014\n",
      "0.016256748119743463\n",
      "0.016514970671123688\n",
      "0.02718775203333131\n",
      "0.042960841673488556\n",
      "0.04442952011096972\n",
      "0.04937798788043446\n",
      "0.08970420910169095\n",
      "0.09684567882158633\n",
      "0.11651782711482729\n",
      "0.17501404410884888\n",
      "0.2745200084021872\n"
     ]
    }
   ],
   "source": [
    "for i in (ws[\"NPMLE\"][end]|>sort)\n",
    "  println(i)\n",
    "  end"
   ]
  },
  {
   "cell_type": "code",
   "execution_count": 157,
   "metadata": {},
   "outputs": [
    {
     "data": {
      "text/html": [
       "<img src=\"data:image/png;base64,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\" />"
      ]
     },
     "execution_count": 157,
     "metadata": {},
     "output_type": "execute_result"
    }
   ],
   "source": [
    "\n",
    "plot(sort(log(ws[\"NPMLE\"][end]))[20:end])"
   ]
  },
  {
   "cell_type": "code",
   "execution_count": null,
   "metadata": {
    "collapsed": true
   },
   "outputs": [],
   "source": [
    "savefig(\"paper federn.pdf\")"
   ]
  },
  {
   "cell_type": "code",
   "execution_count": 44,
   "metadata": {},
   "outputs": [
    {
     "name": "stderr",
     "output_type": "stream",
     "text": [
      "WARNING: Method definition r(Any) in module Main at In[40]:1 overwritten at In[44]:1.\n",
      "WARNING: Method definition R(Any, Any) in module Main at In[40]:5 overwritten at In[44]:5.\n",
      "WARNING: Method definition sRa(Any) in module Main at In[40]:7 overwritten at In[44]:7.\n"
     ]
    },
    {
     "data": {
      "text/plain": [
       "5-element Array{Float64,1}:\n",
       " 0.0      \n",
       " 0.221964 \n",
       " 0.188082 \n",
       " 0.158182 \n",
       " 0.0496536"
      ]
     },
     "execution_count": 44,
     "metadata": {},
     "output_type": "execute_result"
    }
   ],
   "source": [
    "r(x) = GynC.Federn.maxtreatamplitude(x) > 13 ? 1 : 0\n",
    "\n",
    "rxs = r.(xs)\n",
    "\n",
    "R(w, data) = dot(bayesposterior(m, [data], w), rxs)\n",
    "\n",
    "sRa(w) = sqrt(1/(length(m.datas)-1) * sumabs2((R(w, data) - R(wprior, data)) for data in m.datas))\n",
    "\n",
    "map(sRa, [wprior, w0, ws[\"NPMLE\"][end], ws[\"DS-MLE\"][end], ws[\"MPLE\"][end]])"
   ]
  },
  {
   "cell_type": "code",
   "execution_count": null,
   "metadata": {
    "collapsed": true
   },
   "outputs": [],
   "source": []
  }
 ],
 "metadata": {
  "anaconda-cloud": {},
  "kernelspec": {
   "display_name": "Julia 0.5.2",
   "language": "julia",
   "name": "julia-0.5"
  },
  "language_info": {
   "file_extension": ".jl",
   "mimetype": "application/julia",
   "name": "julia",
   "version": "0.5.2"
  }
 },
 "nbformat": 4,
 "nbformat_minor": 1
}
