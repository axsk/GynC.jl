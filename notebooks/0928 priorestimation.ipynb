{
 "cells": [
  {
   "cell_type": "code",
   "execution_count": 1,
   "metadata": {
    "collapsed": false
   },
   "outputs": [
    {
     "name": "stderr",
     "output_type": "stream",
     "text": [
      "WARNING: Method definition require(Symbol) in module Base at loading.jl:345 overwritten in module Main at /home/numerik/bzfsikor/.julia/v0.5/Requires/src/require.jl:12.\n"
     ]
    },
    {
     "data": {
      "text/plain": [
       "10"
      ]
     },
     "execution_count": 1,
     "metadata": {},
     "output_type": "execute_result"
    }
   ],
   "source": [
    "using GynC\n",
    "using GynC: sample, hzobj, Config, Lausanne\n",
    "\n",
    "thin=1\n",
    "K=1000\n",
    "M=3\n",
    "niter=10;"
   ]
  },
  {
   "cell_type": "code",
   "execution_count": 2,
   "metadata": {
    "collapsed": false
   },
   "outputs": [
    {
     "name": "stdout",
     "output_type": "stream",
     "text": [
      " 90.139822 seconds (1.26 G allocations: 19.779 GB, 6.88% gc time)\n"
     ]
    }
   ],
   "source": [
    "@time ss=[sample(Config(Lausanne(m), thin=thin), K) for m in 1:M];"
   ]
  },
  {
   "cell_type": "code",
   "execution_count": 3,
   "metadata": {
    "collapsed": false
   },
   "outputs": [
    {
     "name": "stdout",
     "output_type": "stream",
     "text": [
      "  8.958810 seconds (13.37 M allocations: 428.521 MB, 6.91% gc time)\n"
     ]
    }
   ],
   "source": [
    "@time pi1=WeightedChain(ss);"
   ]
  },
  {
   "cell_type": "code",
   "execution_count": 4,
   "metadata": {
    "collapsed": false
   },
   "outputs": [
    {
     "name": "stdout",
     "output_type": "stream",
     "text": [
      "  0.038738 seconds (8.58 k allocations: 389.996 KB)\n"
     ]
    }
   ],
   "source": [
    "pin=deepcopy(pi1);\n",
    "@time for i in 1:niter\n",
    "    emiteration!(pin)\n",
    "end"
   ]
  },
  {
   "cell_type": "code",
   "execution_count": 5,
   "metadata": {
    "collapsed": false
   },
   "outputs": [
    {
     "ename": "LoadError",
     "evalue": "LoadError: UndefVarError: L not defined\nwhile loading In[5], in expression starting on line 1",
     "output_type": "error",
     "traceback": [
      "LoadError: UndefVarError: L not defined\nwhile loading In[5], in expression starting on line 1",
      ""
     ]
    }
   ],
   "source": [
    "L"
   ]
  }
 ],
 "metadata": {
  "anaconda-cloud": {},
  "kernelspec": {
   "display_name": "Julia 0.5.0",
   "language": "julia",
   "name": "julia-0.5"
  },
  "language_info": {
   "file_extension": ".jl",
   "mimetype": "application/julia",
   "name": "julia",
   "version": "0.5.0"
  }
 },
 "nbformat": 4,
 "nbformat_minor": 1
}
