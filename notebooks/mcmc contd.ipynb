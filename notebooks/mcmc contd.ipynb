{
 "cells": [
  {
   "cell_type": "markdown",
   "metadata": {},
   "source": [
    "## MCMC sampling\n",
    "In the following we will compare adaptive vs nonadapative sampling with different proposals and measurement errors $\\sigma$\n",
    "\n",
    "We start by loading some previous samplings to infer the nonadaptive proposal from their covariance structure."
   ]
  },
  {
   "cell_type": "code",
   "execution_count": 1,
   "metadata": {
    "collapsed": false
   },
   "outputs": [
    {
     "name": "stderr",
     "output_type": "stream",
     "text": [
      "WARNING: New definition \n",
      "    +(AbstractArray{T<:Any, 2}, WoodburyMatrices.SymWoodbury) at /home/numerik/bzfsikor/.julia/v0.4/WoodburyMatrices/src/SymWoodburyMatrices.jl:106\n",
      "is ambiguous with: \n",
      "    +(DataArrays.DataArray, AbstractArray) at /home/numerik/bzfsikor/.julia/v0.4/DataArrays/src/operators.jl:276.\n",
      "To fix, define \n",
      "    +(DataArrays.DataArray{T<:Any, 2}, WoodburyMatrices.SymWoodbury)\n",
      "before the new definition.\n",
      "WARNING: New definition \n",
      "    +(AbstractArray{T<:Any, 2}, WoodburyMatrices.SymWoodbury) at /home/numerik/bzfsikor/.julia/v0.4/WoodburyMatrices/src/SymWoodburyMatrices.jl:106\n",
      "is ambiguous with: \n",
      "    +(DataArrays.AbstractDataArray, AbstractArray) at /home/numerik/bzfsikor/.julia/v0.4/DataArrays/src/operators.jl:300.\n",
      "To fix, define \n",
      "    +(DataArrays.AbstractDataArray{T<:Any, 2}, WoodburyMatrices.SymWoodbury)\n",
      "before the new definition.\n",
      "WARNING: Base.String is deprecated, use AbstractString instead.\n",
      "  likely near /home/numerik/bzfsikor/.julia/v0.4/Graphs/src/common.jl:3\n",
      "WARNING: Base.String is deprecated, use AbstractString instead.\n",
      "  likely near /home/numerik/bzfsikor/.julia/v0.4/Graphs/src/dot.jl:80\n",
      "WARNING: New definition \n",
      "    promote_rule(Type{Mamba.ScalarLogical}, Type{##317#T<:Real}) at /home/numerik/bzfsikor/.julia/v0.4/Mamba/src/variate.jl:20\n",
      "is ambiguous with: \n",
      "    promote_rule(Type{#A<:Real}, Type{ForwardDiff.Dual{#N<:Any, #B<:Real}}) at /home/numerik/bzfsikor/.julia/v0.4/ForwardDiff/src/dual.jl:154.\n",
      "To fix, define \n",
      "    promote_rule(Type{Mamba.ScalarLogical}, Type{ForwardDiff.Dual{#N<:Any, #B<:Real}})\n",
      "before the new definition.\n",
      "WARNING: New definition \n",
      "    promote_rule(Type{Mamba.ScalarStochastic}, Type{##320#T<:Real}) at /home/numerik/bzfsikor/.julia/v0.4/Mamba/src/variate.jl:20\n",
      "is ambiguous with: \n",
      "    promote_rule(Type{#A<:Real}, Type{ForwardDiff.Dual{#N<:Any, #B<:Real}}) at /home/numerik/bzfsikor/.julia/v0.4/ForwardDiff/src/dual.jl:154.\n",
      "To fix, define \n",
      "    promote_rule(Type{Mamba.ScalarStochastic}, Type{ForwardDiff.Dual{#N<:Any, #B<:Real}})\n",
      "before the new definition.\n",
      "WARNING: using Plots.density in module GynC conflicts with an existing identifier.\n"
     ]
    }
   ],
   "source": [
    "using GynC: readsamples, tabulate, proposal, Config, Lausanne, batch"
   ]
  },
  {
   "cell_type": "code",
   "execution_count": 2,
   "metadata": {
    "collapsed": false,
    "scrolled": false
   },
   "outputs": [
    {
     "ename": "UndefVarError",
     "evalue": "UndefVarError: displaysize not defined",
     "output_type": "error",
     "traceback": [
      "UndefVarError: displaysize not defined",
      "",
      " in writemime at /home/numerik/bzfsikor/.julia/v0.4/DataFrames/src/abstractdataframe/io.jl:181",
      " in sprint at iostream.jl:206",
      " in display_dict at /home/numerik/bzfsikor/.julia/v0.4/IJulia/src/execute_request.jl:38",
      " in execute_request at /home/numerik/bzfsikor/.julia/v0.4/IJulia/src/execute_request.jl:195",
      " in eventloop at /home/numerik/bzfsikor/.julia/v0.4/IJulia/src/IJulia.jl:138",
      " in anonymous at task.jl:447"
     ]
    }
   ],
   "source": [
    "ss=readsamples(\"../data/0729\")\n",
    "tabulate(ss)"
   ]
  },
  {
   "cell_type": "markdown",
   "metadata": {},
   "source": [
    "We now compute the proposal covariance matrix from the concatenated samplings.\n",
    "Note that since theses Samplings apply to different persons, we might overestimate the wanted proposal since the Samplings also differ in their means, which reflects in a higher concatenated covariance"
   ]
  },
  {
   "cell_type": "code",
   "execution_count": 3,
   "metadata": {
    "collapsed": false
   },
   "outputs": [
    {
     "data": {
      "text/plain": [
       "116x116 Array{Float64,2}:\n",
       "  0.0447767     0.0166214     0.0122865    …   0.00470154   -3.96231e-5 \n",
       "  0.0166214     0.0631213     0.00111703       0.00669164    0.000295814\n",
       "  0.0122865     0.00111703    0.0294749        0.00297939    0.000163624\n",
       " -0.0144799    -0.013932      0.00211897      -0.00128058    0.000299357\n",
       "  0.019061      0.0128569     0.00353484       0.00409058    0.000296154\n",
       "  0.0104416    -0.00332791   -0.00245846   …   0.00176953   -0.000673728\n",
       "  0.000169384  -0.0126778    -0.00216748       0.0036454    -0.000231338\n",
       "  0.00180442    0.0029766    -0.00178019      -0.000285955  -0.000124594\n",
       "  0.00949314    0.0169925    -0.000450821      0.0019432    -0.000499532\n",
       "  0.0229441     0.0187565     0.00307691       0.00151511   -0.000418582\n",
       "  0.00768178    0.00109877    0.00278791   …   0.0029169     0.000472576\n",
       "  0.00714424    0.0142447    -1.15786e-5      -0.00123643   -0.000523399\n",
       " -0.00588239   -0.00063318   -0.0013083        0.00313556    0.000162285\n",
       "  ⋮                                        ⋱                 ⋮          \n",
       "  0.00468749    0.00523075    0.00391156      -0.0032971    -0.000230435\n",
       " -0.000722406   0.00917622    0.000377051  …  -0.000563172  -9.53233e-5 \n",
       " -0.00228443    0.00676876   -0.00680876      -0.00534874   -0.000944102\n",
       " -0.00248578    0.00799705    0.00429873       0.00330253    9.09878e-5 \n",
       "  0.0127314    -0.0112239     0.00746233       0.00521601    0.000718466\n",
       " -0.00610858    0.00770509   -0.0046715        1.39142e-5    7.16525e-6 \n",
       "  0.00167875    0.00656568   -0.000421096  …   0.000640668  -5.89458e-5 \n",
       " -3.81276e-5    3.9866e-5    -1.82252e-5      -0.000124867  -9.6354e-6  \n",
       "  8.02798e-5   -0.000336148   9.13809e-5       0.000287865   2.11442e-5 \n",
       "  0.0123741     0.0149254     2.88117e-5       0.00641911    0.000568609\n",
       "  0.00470154    0.00669164    0.00297939       0.0197424     0.000445644\n",
       " -3.96231e-5    0.000295814   0.000163624  …   0.000445644   0.000197559"
      ]
     },
     "execution_count": 3,
     "metadata": {},
     "output_type": "execute_result"
    }
   ],
   "source": [
    "prop=proposal(ss)"
   ]
  },
  {
   "cell_type": "code",
   "execution_count": 4,
   "metadata": {
    "collapsed": false
   },
   "outputs": [
    {
     "data": {
      "text/plain": [
       "3.527998930059972"
      ]
     },
     "execution_count": 4,
     "metadata": {},
     "output_type": "execute_result"
    }
   ],
   "source": [
    "trace(prop)"
   ]
  },
  {
   "cell_type": "markdown",
   "metadata": {},
   "source": [
    "We now can compute further samplings with this proposal density."
   ]
  },
  {
   "cell_type": "code",
   "execution_count": 5,
   "metadata": {
    "collapsed": true
   },
   "outputs": [
    {
     "data": {
      "text/plain": [
       "42-element Array{GynC.Config,1}:\n",
       " Config:\n",
       " patient: l1\n",
       " sigma:   0.05\n",
       " propvar trace: 0.17639994650299856\n",
       " adapt:   false\n",
       " thin:    100\n",
       " init:    4858380976513133059\n",
       " prior:   Tuple{Array{Distributions.Distribution{Distributions.Univariate,S<:Distributions.ValueSupport},1},Distributions.MixtureModel{Distributions.Multivariate,Distributions.Continuous,Distributions.MvNormal{Float64,PDMats.PDiagMat{Float64,Array{Float64,1}},Array{Float64,1}}}}\n",
       " Config:\n",
       " patient: l2\n",
       " sigma:   0.05\n",
       " propvar trace: 0.17639994650299856\n",
       " adapt:   false\n",
       " thin:    100\n",
       " init:    4858380976513133059\n",
       " prior:   Tuple{Array{Distributions.Distribution{Distributions.Univariate,S<:Distributions.ValueSupport},1},Distributions.MixtureModel{Distributions.Multivariate,Distributions.Continuous,Distributions.MvNormal{Float64,PDMats.PDiagMat{Float64,Array{Float64,1}},Array{Float64,1}}}}\n",
       " Config:\n",
       " patient: l3\n",
       " sigma:   0.05\n",
       " propvar trace: 0.17639994650299856\n",
       " adapt:   false\n",
       " thin:    100\n",
       " init:    4858380976513133059\n",
       " prior:   Tuple{Array{Distributions.Distribution{Distributions.Univariate,S<:Distributions.ValueSupport},1},Distributions.MixtureModel{Distributions.Multivariate,Distributions.Continuous,Distributions.MvNormal{Float64,PDMats.PDiagMat{Float64,Array{Float64,1}},Array{Float64,1}}}}\n",
       " Config:\n",
       " patient: l1\n",
       " sigma:   0.1\n",
       " propvar trace: 0.17639994650299856\n",
       " adapt:   false\n",
       " thin:    100\n",
       " init:    4858380976513133059\n",
       " prior:   Tuple{Array{Distributions.Distribution{Distributions.Univariate,S<:Distributions.ValueSupport},1},Distributions.MixtureModel{Distributions.Multivariate,Distributions.Continuous,Distributions.MvNormal{Float64,PDMats.PDiagMat{Float64,Array{Float64,1}},Array{Float64,1}}}} \n",
       " Config:\n",
       " patient: l2\n",
       " sigma:   0.1\n",
       " propvar trace: 0.17639994650299856\n",
       " adapt:   false\n",
       " thin:    100\n",
       " init:    4858380976513133059\n",
       " prior:   Tuple{Array{Distributions.Distribution{Distributions.Univariate,S<:Distributions.ValueSupport},1},Distributions.MixtureModel{Distributions.Multivariate,Distributions.Continuous,Distributions.MvNormal{Float64,PDMats.PDiagMat{Float64,Array{Float64,1}},Array{Float64,1}}}} \n",
       " Config:\n",
       " patient: l3\n",
       " sigma:   0.1\n",
       " propvar trace: 0.17639994650299856\n",
       " adapt:   false\n",
       " thin:    100\n",
       " init:    4858380976513133059\n",
       " prior:   Tuple{Array{Distributions.Distribution{Distributions.Univariate,S<:Distributions.ValueSupport},1},Distributions.MixtureModel{Distributions.Multivariate,Distributions.Continuous,Distributions.MvNormal{Float64,PDMats.PDiagMat{Float64,Array{Float64,1}},Array{Float64,1}}}} \n",
       " Config:\n",
       " patient: l1\n",
       " sigma:   0.05\n",
       " propvar trace: 0.3527998930059971\n",
       " adapt:   false\n",
       " thin:    100\n",
       " init:    4858380976513133059\n",
       " prior:   Tuple{Array{Distributions.Distribution{Distributions.Univariate,S<:Distributions.ValueSupport},1},Distributions.MixtureModel{Distributions.Multivariate,Distributions.Continuous,Distributions.MvNormal{Float64,PDMats.PDiagMat{Float64,Array{Float64,1}},Array{Float64,1}}}} \n",
       " Config:\n",
       " patient: l2\n",
       " sigma:   0.05\n",
       " propvar trace: 0.3527998930059971\n",
       " adapt:   false\n",
       " thin:    100\n",
       " init:    4858380976513133059\n",
       " prior:   Tuple{Array{Distributions.Distribution{Distributions.Univariate,S<:Distributions.ValueSupport},1},Distributions.MixtureModel{Distributions.Multivariate,Distributions.Continuous,Distributions.MvNormal{Float64,PDMats.PDiagMat{Float64,Array{Float64,1}},Array{Float64,1}}}} \n",
       " Config:\n",
       " patient: l3\n",
       " sigma:   0.05\n",
       " propvar trace: 0.3527998930059971\n",
       " adapt:   false\n",
       " thin:    100\n",
       " init:    4858380976513133059\n",
       " prior:   Tuple{Array{Distributions.Distribution{Distributions.Univariate,S<:Distributions.ValueSupport},1},Distributions.MixtureModel{Distributions.Multivariate,Distributions.Continuous,Distributions.MvNormal{Float64,PDMats.PDiagMat{Float64,Array{Float64,1}},Array{Float64,1}}}} \n",
       " Config:\n",
       " patient: l1\n",
       " sigma:   0.1\n",
       " propvar trace: 0.3527998930059971\n",
       " adapt:   false\n",
       " thin:    100\n",
       " init:    4858380976513133059\n",
       " prior:   Tuple{Array{Distributions.Distribution{Distributions.Univariate,S<:Distributions.ValueSupport},1},Distributions.MixtureModel{Distributions.Multivariate,Distributions.Continuous,Distributions.MvNormal{Float64,PDMats.PDiagMat{Float64,Array{Float64,1}},Array{Float64,1}}}}  \n",
       " Config:\n",
       " patient: l2\n",
       " sigma:   0.1\n",
       " propvar trace: 0.3527998930059971\n",
       " adapt:   false\n",
       " thin:    100\n",
       " init:    4858380976513133059\n",
       " prior:   Tuple{Array{Distributions.Distribution{Distributions.Univariate,S<:Distributions.ValueSupport},1},Distributions.MixtureModel{Distributions.Multivariate,Distributions.Continuous,Distributions.MvNormal{Float64,PDMats.PDiagMat{Float64,Array{Float64,1}},Array{Float64,1}}}}  \n",
       " Config:\n",
       " patient: l3\n",
       " sigma:   0.1\n",
       " propvar trace: 0.3527998930059971\n",
       " adapt:   false\n",
       " thin:    100\n",
       " init:    4858380976513133059\n",
       " prior:   Tuple{Array{Distributions.Distribution{Distributions.Univariate,S<:Distributions.ValueSupport},1},Distributions.MixtureModel{Distributions.Multivariate,Distributions.Continuous,Distributions.MvNormal{Float64,PDMats.PDiagMat{Float64,Array{Float64,1}},Array{Float64,1}}}}  \n",
       " Config:\n",
       " patient: l1\n",
       " sigma:   0.05\n",
       " propvar trace: 1.0583996790179908\n",
       " adapt:   false\n",
       " thin:    100\n",
       " init:    4858380976513133059\n",
       " prior:   Tuple{Array{Distributions.Distribution{Distributions.Univariate,S<:Distributions.ValueSupport},1},Distributions.MixtureModel{Distributions.Multivariate,Distributions.Continuous,Distributions.MvNormal{Float64,PDMats.PDiagMat{Float64,Array{Float64,1}},Array{Float64,1}}}} \n",
       " ⋮                                                                                                                                                                                                                                                                                                                                                                                                                          \n",
       " Config:\n",
       " patient: l1\n",
       " sigma:   0.05\n",
       " propvar trace: 7.055997860119944\n",
       " adapt:   false\n",
       " thin:    100\n",
       " init:    4858380976513133059\n",
       " prior:   Tuple{Array{Distributions.Distribution{Distributions.Univariate,S<:Distributions.ValueSupport},1},Distributions.MixtureModel{Distributions.Multivariate,Distributions.Continuous,Distributions.MvNormal{Float64,PDMats.PDiagMat{Float64,Array{Float64,1}},Array{Float64,1}}}}  \n",
       " Config:\n",
       " patient: l2\n",
       " sigma:   0.05\n",
       " propvar trace: 7.055997860119944\n",
       " adapt:   false\n",
       " thin:    100\n",
       " init:    4858380976513133059\n",
       " prior:   Tuple{Array{Distributions.Distribution{Distributions.Univariate,S<:Distributions.ValueSupport},1},Distributions.MixtureModel{Distributions.Multivariate,Distributions.Continuous,Distributions.MvNormal{Float64,PDMats.PDiagMat{Float64,Array{Float64,1}},Array{Float64,1}}}}  \n",
       " Config:\n",
       " patient: l3\n",
       " sigma:   0.05\n",
       " propvar trace: 7.055997860119944\n",
       " adapt:   false\n",
       " thin:    100\n",
       " init:    4858380976513133059\n",
       " prior:   Tuple{Array{Distributions.Distribution{Distributions.Univariate,S<:Distributions.ValueSupport},1},Distributions.MixtureModel{Distributions.Multivariate,Distributions.Continuous,Distributions.MvNormal{Float64,PDMats.PDiagMat{Float64,Array{Float64,1}},Array{Float64,1}}}}  \n",
       " Config:\n",
       " patient: l1\n",
       " sigma:   0.1\n",
       " propvar trace: 7.055997860119944\n",
       " adapt:   false\n",
       " thin:    100\n",
       " init:    4858380976513133059\n",
       " prior:   Tuple{Array{Distributions.Distribution{Distributions.Univariate,S<:Distributions.ValueSupport},1},Distributions.MixtureModel{Distributions.Multivariate,Distributions.Continuous,Distributions.MvNormal{Float64,PDMats.PDiagMat{Float64,Array{Float64,1}},Array{Float64,1}}}}   \n",
       " Config:\n",
       " patient: l2\n",
       " sigma:   0.1\n",
       " propvar trace: 7.055997860119944\n",
       " adapt:   false\n",
       " thin:    100\n",
       " init:    4858380976513133059\n",
       " prior:   Tuple{Array{Distributions.Distribution{Distributions.Univariate,S<:Distributions.ValueSupport},1},Distributions.MixtureModel{Distributions.Multivariate,Distributions.Continuous,Distributions.MvNormal{Float64,PDMats.PDiagMat{Float64,Array{Float64,1}},Array{Float64,1}}}}   \n",
       " Config:\n",
       " patient: l3\n",
       " sigma:   0.1\n",
       " propvar trace: 7.055997860119944\n",
       " adapt:   false\n",
       " thin:    100\n",
       " init:    4858380976513133059\n",
       " prior:   Tuple{Array{Distributions.Distribution{Distributions.Univariate,S<:Distributions.ValueSupport},1},Distributions.MixtureModel{Distributions.Multivariate,Distributions.Continuous,Distributions.MvNormal{Float64,PDMats.PDiagMat{Float64,Array{Float64,1}},Array{Float64,1}}}}   \n",
       " Config:\n",
       " patient: l1\n",
       " sigma:   0.05\n",
       " propvar trace: 1.1759996433533242\n",
       " adapt:   true\n",
       " thin:    100\n",
       " init:    4858380976513133059\n",
       " prior:   Tuple{Array{Distributions.Distribution{Distributions.Univariate,S<:Distributions.ValueSupport},1},Distributions.MixtureModel{Distributions.Multivariate,Distributions.Continuous,Distributions.MvNormal{Float64,PDMats.PDiagMat{Float64,Array{Float64,1}},Array{Float64,1}}}}  \n",
       " Config:\n",
       " patient: l2\n",
       " sigma:   0.05\n",
       " propvar trace: 1.1759996433533242\n",
       " adapt:   true\n",
       " thin:    100\n",
       " init:    4858380976513133059\n",
       " prior:   Tuple{Array{Distributions.Distribution{Distributions.Univariate,S<:Distributions.ValueSupport},1},Distributions.MixtureModel{Distributions.Multivariate,Distributions.Continuous,Distributions.MvNormal{Float64,PDMats.PDiagMat{Float64,Array{Float64,1}},Array{Float64,1}}}}  \n",
       " Config:\n",
       " patient: l3\n",
       " sigma:   0.05\n",
       " propvar trace: 1.1759996433533242\n",
       " adapt:   true\n",
       " thin:    100\n",
       " init:    4858380976513133059\n",
       " prior:   Tuple{Array{Distributions.Distribution{Distributions.Univariate,S<:Distributions.ValueSupport},1},Distributions.MixtureModel{Distributions.Multivariate,Distributions.Continuous,Distributions.MvNormal{Float64,PDMats.PDiagMat{Float64,Array{Float64,1}},Array{Float64,1}}}}  \n",
       " Config:\n",
       " patient: l1\n",
       " sigma:   0.1\n",
       " propvar trace: 1.1759996433533242\n",
       " adapt:   true\n",
       " thin:    100\n",
       " init:    4858380976513133059\n",
       " prior:   Tuple{Array{Distributions.Distribution{Distributions.Univariate,S<:Distributions.ValueSupport},1},Distributions.MixtureModel{Distributions.Multivariate,Distributions.Continuous,Distributions.MvNormal{Float64,PDMats.PDiagMat{Float64,Array{Float64,1}},Array{Float64,1}}}}   \n",
       " Config:\n",
       " patient: l2\n",
       " sigma:   0.1\n",
       " propvar trace: 1.1759996433533242\n",
       " adapt:   true\n",
       " thin:    100\n",
       " init:    4858380976513133059\n",
       " prior:   Tuple{Array{Distributions.Distribution{Distributions.Univariate,S<:Distributions.ValueSupport},1},Distributions.MixtureModel{Distributions.Multivariate,Distributions.Continuous,Distributions.MvNormal{Float64,PDMats.PDiagMat{Float64,Array{Float64,1}},Array{Float64,1}}}}   \n",
       " Config:\n",
       " patient: l3\n",
       " sigma:   0.1\n",
       " propvar trace: 1.1759996433533242\n",
       " adapt:   true\n",
       " thin:    100\n",
       " init:    4858380976513133059\n",
       " prior:   Tuple{Array{Distributions.Distribution{Distributions.Univariate,S<:Distributions.ValueSupport},1},Distributions.MixtureModel{Distributions.Multivariate,Distributions.Continuous,Distributions.MvNormal{Float64,PDMats.PDiagMat{Float64,Array{Float64,1}},Array{Float64,1}}}}   "
      ]
     },
     "execution_count": 5,
     "metadata": {},
     "output_type": "execute_result"
    }
   ],
   "source": [
    "csman = [Config(Lausanne(p), sigma_rho=r, propvar=prop*scale, adapt=false, thin=100) for p=1:3, r=[0.05, 0.1], scale=[0.05, 0.1, 0.3, 0.5, 1, 2]]\n",
    "\n",
    "csadapt = [Config(Lausanne(p), sigma_rho=r, propvar=prop/3, adapt=true, thin=100) for p=1:3, r=[0.05, 0.1]]\n",
    "\n",
    "cs = Config[csman[:]; csadapt[:]]\n",
    "\n",
    "datadir = \"/datanumerik/bzfsikor/gync/0905/\"\n",
    "@spawn batch(cs, [1000, 100_000, 1_000_000, 2_000_000, 5_000_000, 10_000_000, 20_000_000], dir=datadir)"
   ]
  },
  {
   "cell_type": "code",
   "execution_count": 35,
   "metadata": {
    "collapsed": false
   },
   "outputs": [
    {
     "data": {
      "text/html": [
       "<table class=\"data-frame\"><tr><th></th><th>person</th><th>sigma</th><th>adapt</th><th>tracepropinit</th><th>x1</th></tr><tr><th>1</th><td>l1</td><td>0.05</td><td>false</td><td>0.1763999465029985</td><td>44.84304932735426</td></tr><tr><th>2</th><td>l1</td><td>0.05</td><td>false</td><td>0.352799893005997</td><td>114.28571428571429</td></tr><tr><th>3</th><td>l1</td><td>0.05</td><td>false</td><td>1.058399679017991</td><td>303.030303030303</td></tr><tr><th>4</th><td>l1</td><td>0.05</td><td>true</td><td>1.1759996433533244</td><td>4.701457451810061</td></tr><tr><th>5</th><td>l1</td><td>0.05</td><td>false</td><td>1.763999465029986</td><td>312.5</td></tr><tr><th>6</th><td>l1</td><td>0.05</td><td>false</td><td>3.527998930059972</td><td>1190.4761904761904</td></tr><tr><th>7</th><td>l1</td><td>0.05</td><td>false</td><td>7.055997860119944</td><td>2857.1428571428573</td></tr><tr><th>8</th><td>l1</td><td>0.1</td><td>false</td><td>0.17639994650299853</td><td>2.450379808870375</td></tr><tr><th>9</th><td>l1</td><td>0.1</td><td>false</td><td>0.352799893005997</td><td>6.822213125938054</td></tr><tr><th>10</th><td>l1</td><td>0.1</td><td>false</td><td>1.058399679017991</td><td>183.8235294117647</td></tr><tr><th>11</th><td>l1</td><td>0.1</td><td>true</td><td>1.1759996433533244</td><td>2.6619815790874726</td></tr><tr><th>12</th><td>l1</td><td>0.1</td><td>false</td><td>1.763999465029986</td><td>232.0185614849188</td></tr><tr><th>13</th><td>l1</td><td>0.1</td><td>false</td><td>3.527998930059972</td><td>1923.076923076923</td></tr><tr><th>14</th><td>l1</td><td>0.1</td><td>false</td><td>7.055997860119944</td><td>5263.1578947368425</td></tr><tr><th>15</th><td>l2</td><td>0.05</td><td>false</td><td>0.17639994650299853</td><td>4.905567819475104</td></tr><tr><th>16</th><td>l2</td><td>0.05</td><td>false</td><td>0.352799893005997</td><td>20.36659877800407</td></tr><tr><th>17</th><td>l2</td><td>0.05</td><td>false</td><td>1.058399679017991</td><td>243.90243902439025</td></tr><tr><th>18</th><td>l2</td><td>0.05</td><td>true</td><td>1.1759996433533244</td><td>2.4304880419988333</td></tr><tr><th>19</th><td>l2</td><td>0.05</td><td>false</td><td>1.763999465029986</td><td>416.6666666666667</td></tr><tr><th>20</th><td>l2</td><td>0.05</td><td>false</td><td>3.527998930059972</td><td>909.0909090909091</td></tr><tr><th>21</th><td>l2</td><td>0.05</td><td>false</td><td>7.055997860119944</td><td>1666.6666666666667</td></tr><tr><th>22</th><td>l2</td><td>0.1</td><td>false</td><td>0.17639994650299853</td><td>2.5581990278843696</td></tr><tr><th>23</th><td>l2</td><td>0.1</td><td>false</td><td>0.352799893005997</td><td>4.75511174512601</td></tr><tr><th>24</th><td>l2</td><td>0.1</td><td>false</td><td>1.058399679017991</td><td>51.65289256198347</td></tr><tr><th>25</th><td>l2</td><td>0.1</td><td>true</td><td>1.1759996433533244</td><td>3.2011267966324146</td></tr><tr><th>26</th><td>l2</td><td>0.1</td><td>false</td><td>1.763999465029986</td><td>124.68827930174564</td></tr><tr><th>27</th><td>l2</td><td>0.1</td><td>false</td><td>3.527998930059972</td><td>1063.8297872340424</td></tr><tr><th>28</th><td>l2</td><td>0.1</td><td>false</td><td>7.055997860119944</td><td>6451.612903225807</td></tr><tr><th>29</th><td>l3</td><td>0.05</td><td>false</td><td>0.17639994650299853</td><td>26.63115845539281</td></tr><tr><th>30</th><td>l3</td><td>0.05</td><td>false</td><td>0.352799893005997</td><td>71.94244604316546</td></tr><tr><th>&vellip;</th><td>&vellip;</td><td>&vellip;</td><td>&vellip;</td><td>&vellip;</td><td>&vellip;</td></tr></table>"
      ],
      "text/plain": [
       "43×5 DataFrames.DataFrame\n",
       "│ Row │ person │ sigma │ adapt │ tracepropinit │ x1      │\n",
       "├─────┼────────┼───────┼───────┼───────────────┼─────────┤\n",
       "│ 1   │ \"l1\"   │ 0.05  │ false │ 0.1764        │ 44.843  │\n",
       "│ 2   │ \"l1\"   │ 0.05  │ false │ 0.3528        │ 114.286 │\n",
       "│ 3   │ \"l1\"   │ 0.05  │ false │ 1.0584        │ 303.03  │\n",
       "│ 4   │ \"l1\"   │ 0.05  │ true  │ 1.176         │ 4.70146 │\n",
       "│ 5   │ \"l1\"   │ 0.05  │ false │ 1.764         │ 312.5   │\n",
       "│ 6   │ \"l1\"   │ 0.05  │ false │ 3.528         │ 1190.48 │\n",
       "│ 7   │ \"l1\"   │ 0.05  │ false │ 7.056         │ 2857.14 │\n",
       "│ 8   │ \"l1\"   │ 0.1   │ false │ 0.1764        │ 2.45038 │\n",
       "│ 9   │ \"l1\"   │ 0.1   │ false │ 0.3528        │ 6.82221 │\n",
       "│ 10  │ \"l1\"   │ 0.1   │ false │ 1.0584        │ 183.824 │\n",
       "│ 11  │ \"l1\"   │ 0.1   │ true  │ 1.176         │ 2.66198 │\n",
       "⋮\n",
       "│ 32  │ \"l3\"   │ 0.05  │ true  │ 1.176         │ 3.48614 │\n",
       "│ 33  │ \"l3\"   │ 0.05  │ false │ 1.764         │ 425.532 │\n",
       "│ 34  │ \"l3\"   │ 0.05  │ false │ 3.528         │ 606.061 │\n",
       "│ 35  │ \"l3\"   │ 0.05  │ false │ 7.056         │ 1538.46 │\n",
       "│ 36  │ \"l3\"   │ 0.1   │ false │ 0.1764        │ 5.91366 │\n",
       "│ 37  │ \"l3\"   │ 0.1   │ false │ 0.3528        │ 14.0292 │\n",
       "│ 38  │ \"l3\"   │ 0.1   │ false │ 1.0584        │ 160.0   │\n",
       "│ 39  │ \"l3\"   │ 0.1   │ true  │ 1.176         │ 3.27139 │\n",
       "│ 40  │ \"l3\"   │ 0.1   │ false │ 1.764         │ 222.222 │\n",
       "│ 41  │ \"l3\"   │ 0.1   │ false │ 3.528         │ 1136.36 │\n",
       "│ 42  │ \"l3\"   │ 0.1   │ false │ 7.056         │ 5555.56 │\n",
       "│ 43  │ \"l1\"   │ 0.05  │ false │ 0.1764        │ 2.85714 │"
      ]
     },
     "execution_count": 35,
     "metadata": {},
     "output_type": "execute_result"
    }
   ],
   "source": [
    "datadir = \"/datanumerik/bzfsikor/gync/0905/\"\n",
    "tab = readsamples(datadir) |> tabulate\n",
    "hcat(tab[[:person, :sigma, :adapt, :tracepropinit]], tab[:length] ./ tab[:unique])"
   ]
  },
  {
   "cell_type": "markdown",
   "metadata": {},
   "source": [
    "## Results\n",
    "\n",
    "Unfortunately this method does not work too well, since the number of unique samples in the nonadaptive case is much slower then the corresponding adaptive method.\n",
    "\n",
    "## Using the average covariances\n",
    "\n",
    "We can also try using the average of the samplings covariances, eliminating the overestimation due to different sampling means."
   ]
  },
  {
   "cell_type": "code",
   "execution_count": 5,
   "metadata": {
    "collapsed": false
   },
   "outputs": [
    {
     "data": {
      "text/plain": [
       "116x116 Array{Float64,2}:\n",
       "  0.00993125   -0.000497752   0.0014299    …   0.000743674  -3.3408e-5 \n",
       " -0.000497752   0.0144269     0.00158371       0.00131299   -5.10832e-5\n",
       "  0.0014299     0.00158371    0.0105035        0.00144064    5.78305e-5\n",
       " -0.00198158   -0.00081318    0.00150236      -0.000677366  -1.77825e-5\n",
       "  0.00173317    0.000516856  -1.34737e-6       0.00108705    5.13792e-5\n",
       "  2.37634e-5   -0.000434933  -0.000190143  …  -0.000651979   7.19817e-5\n",
       " -4.45762e-5   -0.00126062    0.000436126      0.000753306   2.04528e-5\n",
       "  0.00219808    0.000818994   0.000863762      0.000999007  -1.20646e-5\n",
       "  0.000672605   0.00153512   -0.000375445      0.00117915   -2.9707e-5 \n",
       "  0.00178312    0.00069866   -0.000687709      0.00090427    5.95139e-5\n",
       "  0.000384667   0.0015601     0.000530375  …   0.000593993   1.84736e-5\n",
       " -0.000221954   0.0016267    -0.000646137     -0.00029772   -7.28629e-6\n",
       "  0.000338944  -0.000795736   5.00691e-5       0.00129151    6.52405e-5\n",
       "  ⋮                                        ⋱                 ⋮         \n",
       " -0.000540647   0.000178818   0.000890152     -0.00255948   -3.5234e-5 \n",
       " -5.08921e-5   -7.88488e-5    0.000575556  …  -0.000662733  -7.35402e-7\n",
       " -3.63278e-5    0.000891431  -0.000471904     -0.000993877  -4.13057e-5\n",
       " -0.00102363    0.000960713   0.000863219      0.00224378    4.11125e-5\n",
       "  0.00145077   -0.00154972    0.000900358     -0.00065481    7.21699e-5\n",
       " -0.00104013   -0.000145531  -0.00058501      -0.000500891  -2.01286e-5\n",
       "  0.000518194   0.000509676   0.000714235  …   0.00173656   -1.49753e-6\n",
       " -1.0857e-5     1.4831e-5     4.07687e-6      -4.13453e-5   -7.81779e-7\n",
       "  3.08727e-5   -9.25002e-5   -3.59059e-6       8.51142e-5    8.16572e-7\n",
       " -0.000223129   2.4657e-5     0.000717093      0.000903099   2.90508e-5\n",
       "  0.000743674   0.00131299    0.00144064       0.012496      1.17655e-5\n",
       " -3.3408e-5    -5.10832e-5    5.78305e-5   …   1.17655e-5    6.42252e-5"
      ]
     },
     "execution_count": 5,
     "metadata": {},
     "output_type": "execute_result"
    }
   ],
   "source": [
    "meanprop = map(proposal, ss) |> mean"
   ]
  },
  {
   "cell_type": "code",
   "execution_count": 6,
   "metadata": {
    "collapsed": false
   },
   "outputs": [
    {
     "data": {
      "text/plain": [
       "116x116 Array{Float64,2}:\n",
       "   4.50866    -33.3929    …   -55.457       6.32205     1.18604 \n",
       " -33.3929       4.37525       605.322       5.09649    -5.79082 \n",
       "   8.59253      0.705323        0.0401785   2.0681      2.82938 \n",
       "   7.30726     17.1328         26.3062      1.89053   -16.8344  \n",
       "  10.9977      24.8753         12.3858      3.76302     5.76409 \n",
       " 439.399        7.65154   …    -9.25022    -2.71409    -9.35972 \n",
       "  -3.79987     10.0569         12.8041      4.8392    -11.3108  \n",
       "   0.820907     3.63446        -2.14761    -0.286239   10.3273  \n",
       "  14.114       11.0691         31.4607      1.64797    16.8153  \n",
       "  12.8674      26.8465       -145.371       1.67551    -7.03335 \n",
       "  19.9699       0.704295  …     2.35808     4.91067    25.5811  \n",
       " -32.188        8.75681        24.1956      4.15298    71.8334  \n",
       " -17.3551       0.795716       -1.90063     2.42783     2.48748 \n",
       "   ⋮                      ⋱                             ⋮       \n",
       "  -8.67015     29.2517         34.5476      1.28819     6.54013 \n",
       "  14.1949    -116.377     …    -1.63184     0.849771  129.621   \n",
       "  62.8839       7.59313         8.03764     5.3817     22.8565  \n",
       "   2.4284       8.32408         2.41536     1.47186     2.21314 \n",
       "   8.77565      7.24258       236.219      -7.96569     9.9552  \n",
       "   5.87288    -52.9447          1.2744     -0.027779   -0.355973\n",
       "   3.23962     12.8821    …    12.9331      0.36893    39.362   \n",
       "   3.51179      2.68801         3.49717     3.0201     12.325   \n",
       "   2.60035      3.63403         3.04617     3.3821     25.8939  \n",
       " -55.457      605.322           2.21537     7.10787    19.5729  \n",
       "   6.32205      5.09649         7.10787     1.57989    37.8771  \n",
       "   1.18604     -5.79082   …    19.5729     37.8771      3.07604 "
      ]
     },
     "execution_count": 6,
     "metadata": {},
     "output_type": "execute_result"
    }
   ],
   "source": [
    "prop ./ meanprop"
   ]
  },
  {
   "cell_type": "markdown",
   "metadata": {},
   "source": [
    "## Observation\n",
    "\n",
    "These two matrices look quite different, think about a way to compare multivariate normal distributions / covariance matrices (reappearing problem)."
   ]
  },
  {
   "cell_type": "markdown",
   "metadata": {},
   "source": [
    "## A similarity measure of two multivar. Normals\n",
    "\n",
    "Using the geometric intuition of the projection of the two elipses onto each other, define the similiarty $s$ as  $$ s(\\varphi_1, \\varphi_2) := \\frac{\\int \\varphi_1 \\varphi_2}{\\sqrt{\\int \\varphi_1 \\varphi_1 \\int \\varphi_2 \\varphi_2}} $$\n",
    "\n",
    "We know (https://en.wikipedia.org/wiki/Gaussian_function#Multi-dimensional_Gaussian_function) that \n",
    "$$ \\int \\exp{(-x^TAx)} = \\sqrt{\\frac{\\pi^n}{\\det A}}  $$ and thus  (probably the constant is wrong)\n",
    "$$\n",
    "\\int \\varphi= \\frac{1}{(2\\pi)^\\frac{n}{2} \\sqrt{\\det{V}}} \\sqrt{\\frac{2\\pi^n}{\\det{V^{-1}}}}$$\n",
    "\n",
    "Furthermore the product of the pdfs $\\varphi_1\\varphi_2$ is the pdf of the normal distr. with inv. cov. matrix $$V_{12}^{-1} = V_1^{-1}+V_2^{-1} $$"
   ]
  },
  {
   "cell_type": "code",
   "execution_count": 7,
   "metadata": {
    "collapsed": false
   },
   "outputs": [
    {
     "data": {
      "text/plain": [
       "invcovprod (generic function with 1 method)"
      ]
     },
     "execution_count": 7,
     "metadata": {},
     "output_type": "execute_result"
    }
   ],
   "source": [
    "sim(V1, V2) = intprod(V1, V2) / sqrt(intprod(V1,V1) * intprod(V2,V2))\n",
    "\n",
    "function intprod(V1, V2) \n",
    "    n = size(V1, 1)\n",
    "    Vinv = invcovprod(V1, V2)\n",
    "    #1 / ((2pi) ^ (n/2) / sqrt(det(Vinv))) \n",
    "    sqrt((2*pi)^n / det(Vinv)) # check the 2*pi^n term\n",
    "end\n",
    "\n",
    "invcovprod(V1, V2) = (inv(V1) + inv(V2))"
   ]
  },
  {
   "cell_type": "code",
   "execution_count": 8,
   "metadata": {
    "collapsed": false
   },
   "outputs": [
    {
     "name": "stdout",
     "output_type": "stream",
     "text": [
      "(det(V1),det(V2)) = (5.319533928478608e52,1.3210188501718356e47)\n"
     ]
    },
    {
     "data": {
      "text/plain": [
       "1.5303951013324258e-16"
      ]
     },
     "execution_count": 8,
     "metadata": {},
     "output_type": "execute_result"
    }
   ],
   "source": [
    "function randsympos(n)\n",
    "  X = rand(n,n)\n",
    "  X*X'\n",
    "end\n",
    "\n",
    "V1 = randsympos(100)\n",
    "V2 = randsympos(100)\n",
    "@show det(V1), det(V2)\n",
    "sim(V1,V2)"
   ]
  },
  {
   "cell_type": "code",
   "execution_count": 9,
   "metadata": {
    "collapsed": false
   },
   "outputs": [
    {
     "ename": "UndefVarError",
     "evalue": "UndefVarError: displaysize not defined",
     "output_type": "error",
     "traceback": [
      "UndefVarError: displaysize not defined",
      "",
      " in writemime at /home/numerik/bzfsikor/.julia/v0.4/DataFrames/src/abstractdataframe/io.jl:181",
      " in sprint at iostream.jl:206",
      " in display_dict at /home/numerik/bzfsikor/.julia/v0.4/IJulia/src/execute_request.jl:38",
      " in execute_request at /home/numerik/bzfsikor/.julia/v0.4/IJulia/src/execute_request.jl:195",
      " in eventloop at /home/numerik/bzfsikor/.julia/v0.4/IJulia/src/IJulia.jl:138",
      " in anonymous at task.jl:447"
     ]
    }
   ],
   "source": [
    "tabulate(ss)"
   ]
  },
  {
   "cell_type": "code",
   "execution_count": 10,
   "metadata": {
    "collapsed": false
   },
   "outputs": [
    {
     "data": {
      "text/plain": [
       "12x12 Array{Any,2}:\n",
       " 1.0          9.28706e-21  1.23424e-18  …  2.70521e-18  3.88395e-23\n",
       " 9.28706e-21  1.0          8.06485e-22     2.1501e-20   4.19068e-23\n",
       " 1.23424e-18  8.06485e-22  1.0             1.30632e-16  6.08356e-24\n",
       " 4.01151e-23  2.27259e-23  7.39637e-25     4.03087e-23  2.37113e-23\n",
       " 1.35408e-20  7.56007e-22  9.05158e-21     1.10256e-19  7.46903e-23\n",
       " 1.40092e-19  5.91076e-21  2.241e-17    …  5.12076e-18  6.58311e-23\n",
       " 8.72578e-24  2.33017e-26  9.43486e-17     1.02374e-20  2.14134e-29\n",
       " 9.502e-21    6.85974e-22  8.50018e-23     6.89425e-21  3.56641e-23\n",
       " 1.99077e-22  1.15691e-23  2.2995e-24      1.2283e-21   3.64434e-22\n",
       " 2.84938e-22  8.06172e-23  2.8076e-25      3.15078e-23  3.32214e-23\n",
       " 2.70521e-18  2.1501e-20   1.30632e-16  …  1.0          2.10963e-23\n",
       " 3.88395e-23  4.19068e-23  6.08356e-24     2.10963e-23  1.0        "
      ]
     },
     "execution_count": 10,
     "metadata": {},
     "output_type": "execute_result"
    }
   ],
   "source": [
    "covs = [cov(s.samples) for s in ss]\n",
    "[sim(a,b) for a in covs, b in covs]\n",
    "\n",
    "# strange that they are all that different"
   ]
  },
  {
   "cell_type": "code",
   "execution_count": 11,
   "metadata": {
    "collapsed": false
   },
   "outputs": [
    {
     "data": {
      "text/plain": [
       "0.015921692533508155"
      ]
     },
     "execution_count": 11,
     "metadata": {},
     "output_type": "execute_result"
    }
   ],
   "source": [
    "# Now we see that prop and meanprop arent that different\n",
    "sim(prop,meanprop)"
   ]
  },
  {
   "cell_type": "markdown",
   "metadata": {},
   "source": [
    "## Simulation with meanprop"
   ]
  },
  {
   "cell_type": "code",
   "execution_count": 15,
   "metadata": {
    "collapsed": false
   },
   "outputs": [
    {
     "data": {
      "text/plain": [
       "RemoteRef{Channel{Any}}(1,1,74)"
      ]
     },
     "execution_count": 15,
     "metadata": {},
     "output_type": "execute_result"
    },
    {
     "name": "stdout",
     "output_type": "stream",
     "text": [
      "connecting to worker 1 out of 24\r"
     ]
    },
    {
     "name": "stderr",
     "output_type": "stream",
     "text": [
      "srun: job 171 queued and waiting for resources\n",
      "srun: job 171 has been allocated resources\n"
     ]
    },
    {
     "name": "stdout",
     "output_type": "stream",
     "text": []
    }
   ],
   "source": [
    "csman = Config[Config(Lausanne(p), sigma_rho=0.1, propvar=meanprop*scale, adapt=false, thin=100) for p=1:3, scale=[0.1, 0.3, 0.5, 0.8, 1, 1.2, 1.5, 2]][:]\n",
    "\n",
    "datadir = \"/datanumerik/bzfsikor/gync/0906/\"\n",
    "@spawn batch(csman, [1000, 100_000, 1_000_000, 2_000_000, 5_000_000, 10_000_000, 20_000_000], dir=datadir)"
   ]
  },
  {
   "cell_type": "code",
   "execution_count": null,
   "metadata": {
    "collapsed": false
   },
   "outputs": [
    {
     "name": "stdout",
     "output_type": "stream",
     "text": [
      "connecting to worker 1 out of 45\r"
     ]
    },
    {
     "name": "stderr",
     "output_type": "stream",
     "text": [
      "srun: job 219 queued and waiting for resources\n",
      "srun: job 219 has been allocated resources\n"
     ]
    }
   ],
   "source": [
    "# simulate for priorest\n",
    "cs = Config[Config(Lausanne(p), sigma_rho=s, thin=100, adapt=true) for p=1:45, s=[0.1]][:]\n",
    "\n",
    "datadir = \"/datanumerik/bzfsikor/gync/0911/\"\n",
    "batch(cs, [1000, 100_000, 1_000_000, 2_000_000, 5_000_000, 10_000_000, 20_000_000], dir=datadir)"
   ]
  },
  {
   "cell_type": "code",
   "execution_count": null,
   "metadata": {
    "collapsed": true
   },
   "outputs": [],
   "source": []
  }
 ],
 "metadata": {
  "anaconda-cloud": {},
  "kernelspec": {
   "display_name": "Julia 0.4.6",
   "language": "julia",
   "name": "julia-0.4"
  },
  "language_info": {
   "file_extension": ".jl",
   "mimetype": "application/julia",
   "name": "julia",
   "version": "0.4.6"
  }
 },
 "nbformat": 4,
 "nbformat_minor": 0
}
