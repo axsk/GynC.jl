{
 "cells": [
  {
   "cell_type": "code",
   "execution_count": 7,
   "metadata": {
    "collapsed": false
   },
   "outputs": [
    {
     "data": {
      "text/plain": [
       "cvodes (generic function with 1 method)"
      ]
     },
     "execution_count": 7,
     "metadata": {},
     "output_type": "execute_result"
    }
   ],
   "source": [
    "using Sundials\n",
    "\n",
    "type FAndP\n",
    "    f::Function\n",
    "    p::Vector{Float64}\n",
    "end\n",
    "\n",
    "function unzip(fp::Ptr{Void})\n",
    "    fp = unsafe_pointer_to_objref(f_and_p) :: FAndP\n",
    "    (fp.f, fp.p)\n",
    "end\n",
    "\n",
    "function cvodesfun(t, y, ydot, fp)\n",
    "    y    = Sundials.asarray(y)\n",
    "    ydot = Sundials.asarray(ydot)\n",
    "    f,p = unzip(fp)\n",
    "    f(t, y, ydot, p)\n",
    "    return Int32(0)\n",
    "end\n",
    "\n",
    "# using the function f(t) = a*sin(b*t), f(0) = 0, we create an ODE by differentiating .\n",
    "\n",
    "function cvodes(f::Function, y0::Vector{Float64}, p::Vector{Float64}, ts::Vector{Float64}; reltol=1e-8, abstol=1e-6)\n",
    "  ydot = zeros(y0)\n",
    "  neq  = length(y0)\n",
    "  np = length(p)\n",
    "  \n",
    "  ### CVode settings ###\n",
    "    \n",
    "  cvode_mem = Sundials.CVodeCreate(Sundials.CV_BDF, Sundials.CV_NEWTON)\n",
    "  flag = Sundials.CVodeInit(cvode_mem, cvodesfun, t[1], y0)\n",
    "  flag = Sundials.CVodeSetUserData(cvode_mem, FAndP(f,p))\n",
    "  flag = Sundials.CVodeSStolerances(cvode_mem, reltol, abstol)\n",
    "  flag = Sundials.CVDense(cvode_mem, neq)\n",
    "  \n",
    "  ### Sensiviy Settings ###\n",
    "  \n",
    "  yS = [Sundials.nvector(zeros(Float64, neq)) for i in 1:np] |> pointer  \n",
    "    \n",
    "  flag = Sundials.CVodeSensInit1(cvode_mem, np, Sundials.CV_SIMULTANEOUS, Ptr{Void}(0), yS);\n",
    "  flag = Sundials.CVodeSensEEtolerances(cvode_mem);\n",
    "  flag = Sundials.CVodeSetSensErrCon(cvode_mem, 0);\n",
    "  #flag = Sundials.CVodeSensSStolerances(cvode_mem, reltol, sens_tol_vec);\n",
    "  flag = Sundials.CVodeSetSensDQMethod(cvode_mem, Sundials.CV_CENTERED, 0.0);\n",
    "  flag = Sundials.CVodeSetSensParams(cvode_mem, p, p, Ptr{Int32}(0));\n",
    "\n",
    "\n",
    "  # Placeholder for solution and sensitivities\n",
    "  solution = zeros(length(t), neq)\n",
    "  solution[1,:] = copy(y0)\n",
    "  sens = zeros(length(t),neq,np) # No need to copy initial condition, they are already zero\n",
    "\n",
    "  tout = [t[1]] # output time reached by the solver\n",
    "  yout = copy(y0)\n",
    "\n",
    "  # Loop through all the output times\n",
    "  for k in 2:length(t)\n",
    "    # Extract the solution to x, and the sensitivities to yS\n",
    "    flag = Sundials.CVode(cvode_mem, t[k], yout, tout, Sundials.CV_NORMAL)\n",
    "    flag = Sundials.CVodeGetSens(cvode_mem, tout, yS)\n",
    "\n",
    "    #Save the results\n",
    "    solution[k,:] = yout\n",
    "    for i in 1:np\n",
    "      sens[k,:,i] = Sundials.asarray(unsafe_load(yS,i))\n",
    "    end\n",
    "  end\n",
    "\n",
    "  return (solution,sens)\n",
    "end"
   ]
  },
  {
   "cell_type": "code",
   "execution_count": 374,
   "metadata": {
    "collapsed": false
   },
   "outputs": [
    {
     "name": "stdout",
     "output_type": "stream",
     "text": [
      "  "
     ]
    },
    {
     "data": {
      "image/png": "[encoded data removed]",
      "text/plain": [
       "PyPlot.Figure(PyObject <matplotlib.figure.Figure object at 0x7f424bf20d50>)"
      ]
     },
     "metadata": {},
     "output_type": "display_data"
    },
    {
     "data": {
      "text/plain": [
       "1-element Array{Any,1}:\n",
       " PyObject <matplotlib.lines.Line2D object at 0x7f423c9bbbd0>"
      ]
     },
     "execution_count": 374,
     "metadata": {},
     "output_type": "execute_result"
    },
    {
     "name": "stdout",
     "output_type": "stream",
     "text": [
      "4.588680 seconds (37.30 M allocations: 771.930 MB, 11.23% gc time)\n",
      "  0.017436 seconds (137.00 k allocations: 2.837 MB)\n",
      "  0.041812 seconds (7 allocations: 26.391 KB)\n"
     ]
    }
   ],
   "source": [
    "using PyPlot\n",
    "using GynC\n",
    "include(\"../src/gyncycle.jl\")\n",
    "\n",
    "t = collect(linspace(0,30,100));\n",
    "p = GynC.refallparms\n",
    "y0 = GynC.refy0\n",
    "\n",
    "@time (sol_cvodes, sens) = cvodes((t, y, ydot, p) -> gyncycle_rhs!(y, p, ydot), y0, p, t)\n",
    "@time sol_cvode = Sundials.cvode((t,y,ydot) -> gyncycle_rhs!(y, p, ydot), y0, t)\n",
    "@time sol_limex = GynC.gync(y0, t, p)\n",
    "\n",
    "\n",
    "plot(t, sol_cvodes[:,7])\n",
    "plot(t, sol_cvode[:,7], \"o\")\n",
    "plot(t, sol_limex[2,:] |> vec, \"o\")"
   ]
  }
 ],
 "metadata": {
  "kernelspec": {
   "display_name": "Julia 0.4.3",
   "language": "julia",
   "name": "julia-0.4"
  },
  "language_info": {
   "file_extension": ".jl",
   "mimetype": "application/julia",
   "name": "julia",
   "version": "0.4.3"
  }
 },
 "nbformat": 4,
 "nbformat_minor": 0
}
