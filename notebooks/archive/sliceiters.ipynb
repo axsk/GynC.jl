{
 "cells": [
  {
   "cell_type": "code",
   "execution_count": 1,
   "metadata": {
    "collapsed": false,
    "scrolled": true
   },
   "outputs": [
    {
     "name": "stderr",
     "output_type": "stream",
     "text": [
      "WARNING: Method definition readlines(AbstractString) in module Compat at /home/numerik/bzfsikor/.julia/v0.4/Compat/src/Compat.jl:914 overwritten in module Compat at /home/numerik/bzfsikor/.julia/v0.4/Compat/src/Compat.jl:914.\n",
      "WARNING: Method definition eachline(AbstractString) in module Compat at /home/numerik/bzfsikor/.julia/v0.4/Compat/src/Compat.jl:925 overwritten in module Compat at /home/numerik/bzfsikor/.julia/v0.4/Compat/src/Compat.jl:925.\n",
      "WARNING: Method definition readuntil(AbstractString, Any...) in module Compat at /home/numerik/bzfsikor/.julia/v0.4/Compat/src/Compat.jl:912 overwritten in module Compat at /home/numerik/bzfsikor/.julia/v0.4/Compat/src/Compat.jl:912.\n",
      "WARNING: Method definition cov(AbstractArray{T<:Any, 1}, AbstractArray{T<:Any, 1}, Bool) in module Compat at /home/numerik/bzfsikor/.julia/v0.4/Compat/src/Compat.jl:893 overwritten in module Compat at /home/numerik/bzfsikor/.julia/v0.4/Compat/src/Compat.jl:893.\n",
      "WARNING: Method definition cov(AbstractArray{T<:Any, 2}, AbstractArray{T<:Any, 2}, Integer) in module Compat at /home/numerik/bzfsikor/.julia/v0.4/Compat/src/Compat.jl:894 overwritten in module Compat at /home/numerik/bzfsikor/.julia/v0.4/Compat/src/Compat.jl:894.\n",
      "WARNING: Method definition cov(AbstractArray{T<:Any, 2}, AbstractArray{T<:Any, 2}, Integer, Bool) in module Compat at /home/numerik/bzfsikor/.julia/v0.4/Compat/src/Compat.jl:895 overwritten in module Compat at /home/numerik/bzfsikor/.julia/v0.4/Compat/src/Compat.jl:895.\n",
      "WARNING: Method definition cov(AbstractArray{T<:Any, 1}, Bool) in module Compat at /home/numerik/bzfsikor/.julia/v0.4/Compat/src/Compat.jl:890 overwritten in module Compat at /home/numerik/bzfsikor/.julia/v0.4/Compat/src/Compat.jl:890.\n",
      "WARNING: Method definition cov(AbstractArray{T<:Any, 2}, Integer) in module Compat at /home/numerik/bzfsikor/.julia/v0.4/Compat/src/Compat.jl:891 overwritten in module Compat at /home/numerik/bzfsikor/.julia/v0.4/Compat/src/Compat.jl:891.\n",
      "WARNING: Method definition cov(AbstractArray{T<:Any, 2}, Integer, Bool) in module Compat at /home/numerik/bzfsikor/.julia/v0.4/Compat/src/Compat.jl:892 overwritten in module Compat at /home/numerik/bzfsikor/.julia/v0.4/Compat/src/Compat.jl:892.\n",
      "WARNING: Method definition remote_do(Function, Main.Base.LocalProcess, Any...) in module Compat at /home/numerik/bzfsikor/.julia/v0.4/Compat/src/Compat.jl:832 overwritten in module Compat at /home/numerik/bzfsikor/.julia/v0.4/Compat/src/Compat.jl:832.\n",
      "WARNING: Method definition remote_do(Function, Main.Base.Worker, Any...) in module Compat at /home/numerik/bzfsikor/.julia/v0.4/Compat/src/Compat.jl:833 overwritten in module Compat at /home/numerik/bzfsikor/.julia/v0.4/Compat/src/Compat.jl:833.\n",
      "WARNING: Method definition remote_do(Function, Integer, Any...) in module Compat at /home/numerik/bzfsikor/.julia/v0.4/Compat/src/Compat.jl:834 overwritten in module Compat at /home/numerik/bzfsikor/.julia/v0.4/Compat/src/Compat.jl:834.\n",
      "WARNING: Method definition read!(AbstractString, Any) in module Compat at /home/numerik/bzfsikor/.julia/v0.4/Compat/src/Compat.jl:911 overwritten in module Compat at /home/numerik/bzfsikor/.julia/v0.4/Compat/src/Compat.jl:911.\n",
      "WARNING: Method definition read(Main.Base.IO) in module Compat at /home/numerik/bzfsikor/.julia/v0.4/Compat/src/Compat.jl:905 overwritten in module Compat at /home/numerik/bzfsikor/.julia/v0.4/Compat/src/Compat.jl:905.\n",
      "WARNING: Method definition read(Main.Base.IO, Any) in module Compat at /home/numerik/bzfsikor/.julia/v0.4/Compat/src/Compat.jl:906 overwritten in module Compat at /home/numerik/bzfsikor/.julia/v0.4/Compat/src/Compat.jl:906.\n",
      "WARNING: Method definition read(AbstractString, Any...) in module Compat at /home/numerik/bzfsikor/.julia/v0.4/Compat/src/Compat.jl:910 overwritten in module Compat at /home/numerik/bzfsikor/.julia/v0.4/Compat/src/Compat.jl:910.\n",
      "WARNING: Method definition remotecall_wait(Function, Main.Base.LocalProcess, Any...) in module Compat at /home/numerik/bzfsikor/.julia/v0.4/Compat/src/Compat.jl:832 overwritten in module Compat at /home/numerik/bzfsikor/.julia/v0.4/Compat/src/Compat.jl:832.\n",
      "WARNING: Method definition remotecall_wait(Function, Main.Base.Worker, Any...) in module Compat at /home/numerik/bzfsikor/.julia/v0.4/Compat/src/Compat.jl:833 overwritten in module Compat at /home/numerik/bzfsikor/.julia/v0.4/Compat/src/Compat.jl:833.\n",
      "WARNING: Method definition remotecall_wait(Function, Integer, Any...) in module Compat at /home/numerik/bzfsikor/.julia/v0.4/Compat/src/Compat.jl:834 overwritten in module Compat at /home/numerik/bzfsikor/.julia/v0.4/Compat/src/Compat.jl:834.\n",
      "WARNING: Method definition remotecall_fetch(Function, Main.Base.LocalProcess, Any...) in module Compat at /home/numerik/bzfsikor/.julia/v0.4/Compat/src/Compat.jl:832 overwritten in module Compat at /home/numerik/bzfsikor/.julia/v0.4/Compat/src/Compat.jl:832.\n",
      "WARNING: Method definition remotecall_fetch(Function, Main.Base.Worker, Any...) in module Compat at /home/numerik/bzfsikor/.julia/v0.4/Compat/src/Compat.jl:833 overwritten in module Compat at /home/numerik/bzfsikor/.julia/v0.4/Compat/src/Compat.jl:833.\n",
      "WARNING: Method definition remotecall_fetch(Function, Integer, Any...) in module Compat at /home/numerik/bzfsikor/.julia/v0.4/Compat/src/Compat.jl:834 overwritten in module Compat at /home/numerik/bzfsikor/.julia/v0.4/Compat/src/Compat.jl:834.\n",
      "WARNING: Method definition readline(AbstractString) in module Compat at /home/numerik/bzfsikor/.julia/v0.4/Compat/src/Compat.jl:913 overwritten in module Compat at /home/numerik/bzfsikor/.julia/v0.4/Compat/src/Compat.jl:913.\n",
      "WARNING: Method definition cor(AbstractArray{T<:Any, 2}, AbstractArray{T<:Any, 2}, Integer) in module Compat at /home/numerik/bzfsikor/.julia/v0.4/Compat/src/Compat.jl:898 overwritten in module Compat at /home/numerik/bzfsikor/.julia/v0.4/Compat/src/Compat.jl:898.\n",
      "WARNING: Method definition cor(AbstractArray{T<:Any, 2}, Integer) in module Compat at /home/numerik/bzfsikor/.julia/v0.4/Compat/src/Compat.jl:897 overwritten in module Compat at /home/numerik/bzfsikor/.julia/v0.4/Compat/src/Compat.jl:897.\n",
      "WARNING: Method definition readavailable(Main.Base.IOStream) in module Compat at /home/numerik/bzfsikor/.julia/v0.4/Compat/src/Compat.jl:915 overwritten in module Compat at /home/numerik/bzfsikor/.julia/v0.4/Compat/src/Compat.jl:915.\n",
      "WARNING: Method definition readavailable(Main.Base.AbstractIOBuffer{Array{UInt8, 1}}) in module Compat at /home/numerik/bzfsikor/.julia/v0.4/Compat/src/Compat.jl:916 overwritten in module Compat at /home/numerik/bzfsikor/.julia/v0.4/Compat/src/Compat.jl:916.\n",
      "WARNING: Method definition write(Main.Base.IO, Main.Base.IO) in module Compat at /home/numerik/bzfsikor/.julia/v0.4/Compat/src/Compat.jl:919 overwritten in module Compat at /home/numerik/bzfsikor/.julia/v0.4/Compat/src/Compat.jl:919.\n",
      "WARNING: Method definition write(AbstractString, Any...) in module Compat at /home/numerik/bzfsikor/.julia/v0.4/Compat/src/Compat.jl:908 overwritten in module Compat at /home/numerik/bzfsikor/.julia/v0.4/Compat/src/Compat.jl:908.\n",
      "WARNING: Method definition remotecall(Function, Main.Base.LocalProcess, Any...) in module Compat at /home/numerik/bzfsikor/.julia/v0.4/Compat/src/Compat.jl:832 overwritten in module Compat at /home/numerik/bzfsikor/.julia/v0.4/Compat/src/Compat.jl:832.\n",
      "WARNING: Method definition remotecall(Function, Main.Base.Worker, Any...) in module Compat at /home/numerik/bzfsikor/.julia/v0.4/Compat/src/Compat.jl:833 overwritten in module Compat at /home/numerik/bzfsikor/.julia/v0.4/Compat/src/Compat.jl:833.\n",
      "WARNING: Method definition remotecall(Function, Integer, Any...) in module Compat at /home/numerik/bzfsikor/.julia/v0.4/Compat/src/Compat.jl:834 overwritten in module Compat at /home/numerik/bzfsikor/.julia/v0.4/Compat/src/Compat.jl:834.\n",
      "WARNING: Method definition call(Type{Symbol}, Any...) in module Compat at /home/numerik/bzfsikor/.julia/v0.4/Compat/src/Compat.jl:398 overwritten in module Compat at /home/numerik/bzfsikor/.julia/v0.4/Compat/src/Compat.jl:398.\n",
      "WARNING: Method definition call(Type{Union{UTF8String, ASCIIString}}, Main.Base.Cstring) in module Compat at /home/numerik/bzfsikor/.julia/v0.4/Compat/src/Compat.jl:1264 overwritten in module Compat at /home/numerik/bzfsikor/.julia/v0.4/Compat/src/Compat.jl:1264.\n",
      "WARNING: Method definition call(Type{Union{UTF8String, ASCIIString}}, Array{UInt8, 1}) in module Compat at /home/numerik/bzfsikor/.julia/v0.4/Compat/src/Compat.jl:1265 overwritten in module Compat at /home/numerik/bzfsikor/.julia/v0.4/Compat/src/Compat.jl:1265.\n",
      "WARNING: Method definition call(Type{Union{UTF8String, ASCIIString}}, Main.Base.AbstractIOBuffer{T<:AbstractArray{UInt8, 1}}) in module Compat at /home/numerik/bzfsikor/.julia/v0.4/Compat/src/Compat.jl:1266 overwritten in module Compat at /home/numerik/bzfsikor/.julia/v0.4/Compat/src/Compat.jl:1266.\n",
      "WARNING: Method definition call(Type{Union{UTF8String, ASCIIString}}, Union{Ptr{UInt8}, Ptr{Int8}}) in module Compat at /home/numerik/bzfsikor/.julia/v0.4/Compat/src/Compat.jl:1267 overwritten in module Compat at /home/numerik/bzfsikor/.julia/v0.4/Compat/src/Compat.jl:1267.\n",
      "WARNING: Method definition call(Type{Union{UTF8String, ASCIIString}}, Union{Ptr{UInt8}, Ptr{Int8}}, Integer) in module Compat at /home/numerik/bzfsikor/.julia/v0.4/Compat/src/Compat.jl:1268 overwritten in module Compat at /home/numerik/bzfsikor/.julia/v0.4/Compat/src/Compat.jl:1268.\n",
      "WARNING: Method definition call(Type{Union{UTF8String, ASCIIString}}, AbstractString) in module Compat at /home/numerik/bzfsikor/.julia/v0.4/Compat/src/Compat.jl:1269 overwritten in module Compat at /home/numerik/bzfsikor/.julia/v0.4/Compat/src/Compat.jl:1269.\n",
      "WARNING: Method definition precision(Type{Main.Base.MPFR.BigFloat}) in module Compat at /home/numerik/bzfsikor/.julia/v0.4/Compat/src/Compat.jl:956 overwritten in module Compat at /home/numerik/bzfsikor/.julia/v0.4/Compat/src/Compat.jl:956.\n"
     ]
    }
   ],
   "source": [
    "workspace()\n",
    "\n",
    "using BenchmarkTools\n",
    "\n",
    "immutable SliceIterator{A<:AbstractArray}\n",
    "  a::A\n",
    "  length\n",
    "  l\n",
    "  r\n",
    "end"
   ]
  },
  {
   "cell_type": "code",
   "execution_count": 14,
   "metadata": {
    "collapsed": false
   },
   "outputs": [
    {
     "data": {
      "text/plain": [
       "myslice (generic function with 1 method)"
      ]
     },
     "execution_count": 14,
     "metadata": {},
     "output_type": "execute_result"
    }
   ],
   "source": [
    "Profile.clear()\n",
    "function SliceIterator(a, dim::Int)\n",
    "    #cols = ColVec(length(size(a)))\n",
    "    #cols = Tuple{Int64,Colon}\n",
    "    n = length(size(a))\n",
    "    l = tuple(fill(:, dim-1)...)\n",
    "    r = tuple(fill(:, n-dim)...)\n",
    "    \n",
    "    len = size(a,dim)\n",
    "    \n",
    "    SliceIterator(a, len, l,r)\n",
    "end\n",
    "\n",
    "Base.length(itr::SliceIterator) = itr.length\n",
    "Base.size(itr::SliceIterator) = (length(itr),)\n",
    "Base.start(itr::SliceIterator) = 1\n",
    "Base.done(itr::SliceIterator, i::Int) = i > length(itr)\n",
    "function Base.next(itr::SliceIterator, i::Int)\n",
    "   slice(itr.a, itr.l..., i, itr.r...), i+1\n",
    "end\n",
    "\n",
    "\n",
    "\n",
    "A=rand(100000,1000)\n",
    "mycollect(a) = [a[i,:] for i in 1:size(a,1)]\n",
    "dims(i) = (i,:)\n",
    "myslice(a) = [slice(a,dims(i)...) for i in 1:size(a,1)]"
   ]
  },
  {
   "cell_type": "code",
   "execution_count": 17,
   "metadata": {
    "collapsed": false,
    "scrolled": false
   },
   "outputs": [
    {
     "name": "stdout",
     "output_type": "stream",
     "text": [
      "@benchmark(mycollect(A)) = BenchmarkTools.Trial: \n",
      "  samples:          3\n",
      "  evals/sample:     1\n",
      "  time tolerance:   5.00%\n",
      "  memory tolerance: 1.00%\n",
      "  memory estimate:  778.95 mb\n",
      "  allocs estimate:  498980\n",
      "  minimum time:     1.95 s (33.18% GC)\n",
      "  median time:      2.16 s (30.01% GC)\n",
      "  mean time:        2.16 s (28.31% GC)\n",
      "  maximum time:     2.37 s (29.79% GC)\n",
      "@benchmark(collect(SliceIterator(A,1))) = BenchmarkTools.Trial: \n",
      "  samples:          103\n",
      "  evals/sample:     1\n",
      "  time tolerance:   5.00%\n",
      "  memory tolerance: 1.00%\n",
      "  memory estimate:  16.01 mb\n",
      "  allocs estimate:  499501\n",
      "  minimum time:     26.26 ms (0.00% GC)\n",
      "  median time:      50.62 ms (49.38% GC)\n",
      "  mean time:        49.07 ms (42.91% GC)\n",
      "  maximum time:     77.42 ms (55.83% GC)\n",
      "@benchmark(collect(myslice(A))) = BenchmarkTools.Trial: \n",
      "  samples:          178\n",
      "  evals/sample:     1\n",
      "  time tolerance:   5.00%\n",
      "  memory tolerance: 1.00%\n",
      "  memory estimate:  12.21 mb\n",
      "  allocs estimate:  300004\n",
      "  minimum time:     12.86 ms (0.00% GC)\n",
      "  median time:      15.67 ms (0.00% GC)\n",
      "  mean time:        26.35 ms (41.30% GC)\n",
      "  maximum time:     55.91 ms (48.89% GC)\n"
     ]
    },
    {
     "data": {
      "text/plain": [
       "BenchmarkTools.Trial: \n",
       "  samples:          178\n",
       "  evals/sample:     1\n",
       "  time tolerance:   5.00%\n",
       "  memory tolerance: 1.00%\n",
       "  memory estimate:  12.21 mb\n",
       "  allocs estimate:  300004\n",
       "  minimum time:     12.86 ms (0.00% GC)\n",
       "  median time:      15.67 ms (0.00% GC)\n",
       "  mean time:        26.35 ms (41.30% GC)\n",
       "  maximum time:     55.91 ms (48.89% GC)"
      ]
     },
     "execution_count": 17,
     "metadata": {},
     "output_type": "execute_result"
    }
   ],
   "source": [
    "#@show @benchmark collect(A)\n",
    "@show @benchmark (mycollect(A))\n",
    "@show @benchmark collect(SliceIterator(A, 1))\n",
    "@show @benchmark collect(myslice(A))"
   ]
  },
  {
   "cell_type": "code",
   "execution_count": 16,
   "metadata": {
    "collapsed": false
   },
   "outputs": [
    {
     "data": {
      "text/plain": [
       "100000-element Array{Any,1}:\n",
       " [0.508649,0.511054,0.466657,0.882183,0.358672,0.655844,0.0174267,0.876219,0.472057,0.356085  …  0.525542,0.163685,0.866486,0.153948,0.205162,0.437046,0.0859482,0.908424,0.57249,0.613806]\n",
       " [0.508649,0.511054,0.466657,0.882183,0.358672,0.655844,0.0174267,0.876219,0.472057,0.356085  …  0.525542,0.163685,0.866486,0.153948,0.205162,0.437046,0.0859482,0.908424,0.57249,0.613806]\n",
       " [0.508649,0.511054,0.466657,0.882183,0.358672,0.655844,0.0174267,0.876219,0.472057,0.356085  …  0.525542,0.163685,0.866486,0.153948,0.205162,0.437046,0.0859482,0.908424,0.57249,0.613806]\n",
       " [0.508649,0.511054,0.466657,0.882183,0.358672,0.655844,0.0174267,0.876219,0.472057,0.356085  …  0.525542,0.163685,0.866486,0.153948,0.205162,0.437046,0.0859482,0.908424,0.57249,0.613806]\n",
       " [0.508649,0.511054,0.466657,0.882183,0.358672,0.655844,0.0174267,0.876219,0.472057,0.356085  …  0.525542,0.163685,0.866486,0.153948,0.205162,0.437046,0.0859482,0.908424,0.57249,0.613806]\n",
       " [0.508649,0.511054,0.466657,0.882183,0.358672,0.655844,0.0174267,0.876219,0.472057,0.356085  …  0.525542,0.163685,0.866486,0.153948,0.205162,0.437046,0.0859482,0.908424,0.57249,0.613806]\n",
       " [0.508649,0.511054,0.466657,0.882183,0.358672,0.655844,0.0174267,0.876219,0.472057,0.356085  …  0.525542,0.163685,0.866486,0.153948,0.205162,0.437046,0.0859482,0.908424,0.57249,0.613806]\n",
       " [0.508649,0.511054,0.466657,0.882183,0.358672,0.655844,0.0174267,0.876219,0.472057,0.356085  …  0.525542,0.163685,0.866486,0.153948,0.205162,0.437046,0.0859482,0.908424,0.57249,0.613806]\n",
       " [0.508649,0.511054,0.466657,0.882183,0.358672,0.655844,0.0174267,0.876219,0.472057,0.356085  …  0.525542,0.163685,0.866486,0.153948,0.205162,0.437046,0.0859482,0.908424,0.57249,0.613806]\n",
       " [0.508649,0.511054,0.466657,0.882183,0.358672,0.655844,0.0174267,0.876219,0.472057,0.356085  …  0.525542,0.163685,0.866486,0.153948,0.205162,0.437046,0.0859482,0.908424,0.57249,0.613806]\n",
       " [0.508649,0.511054,0.466657,0.882183,0.358672,0.655844,0.0174267,0.876219,0.472057,0.356085  …  0.525542,0.163685,0.866486,0.153948,0.205162,0.437046,0.0859482,0.908424,0.57249,0.613806]\n",
       " [0.508649,0.511054,0.466657,0.882183,0.358672,0.655844,0.0174267,0.876219,0.472057,0.356085  …  0.525542,0.163685,0.866486,0.153948,0.205162,0.437046,0.0859482,0.908424,0.57249,0.613806]\n",
       " [0.508649,0.511054,0.466657,0.882183,0.358672,0.655844,0.0174267,0.876219,0.472057,0.356085  …  0.525542,0.163685,0.866486,0.153948,0.205162,0.437046,0.0859482,0.908424,0.57249,0.613806]\n",
       " ⋮                                                                                                                                                                                         \n",
       " [0.508649,0.511054,0.466657,0.882183,0.358672,0.655844,0.0174267,0.876219,0.472057,0.356085  …  0.525542,0.163685,0.866486,0.153948,0.205162,0.437046,0.0859482,0.908424,0.57249,0.613806]\n",
       " [0.508649,0.511054,0.466657,0.882183,0.358672,0.655844,0.0174267,0.876219,0.472057,0.356085  …  0.525542,0.163685,0.866486,0.153948,0.205162,0.437046,0.0859482,0.908424,0.57249,0.613806]\n",
       " [0.508649,0.511054,0.466657,0.882183,0.358672,0.655844,0.0174267,0.876219,0.472057,0.356085  …  0.525542,0.163685,0.866486,0.153948,0.205162,0.437046,0.0859482,0.908424,0.57249,0.613806]\n",
       " [0.508649,0.511054,0.466657,0.882183,0.358672,0.655844,0.0174267,0.876219,0.472057,0.356085  …  0.525542,0.163685,0.866486,0.153948,0.205162,0.437046,0.0859482,0.908424,0.57249,0.613806]\n",
       " [0.508649,0.511054,0.466657,0.882183,0.358672,0.655844,0.0174267,0.876219,0.472057,0.356085  …  0.525542,0.163685,0.866486,0.153948,0.205162,0.437046,0.0859482,0.908424,0.57249,0.613806]\n",
       " [0.508649,0.511054,0.466657,0.882183,0.358672,0.655844,0.0174267,0.876219,0.472057,0.356085  …  0.525542,0.163685,0.866486,0.153948,0.205162,0.437046,0.0859482,0.908424,0.57249,0.613806]\n",
       " [0.508649,0.511054,0.466657,0.882183,0.358672,0.655844,0.0174267,0.876219,0.472057,0.356085  …  0.525542,0.163685,0.866486,0.153948,0.205162,0.437046,0.0859482,0.908424,0.57249,0.613806]\n",
       " [0.508649,0.511054,0.466657,0.882183,0.358672,0.655844,0.0174267,0.876219,0.472057,0.356085  …  0.525542,0.163685,0.866486,0.153948,0.205162,0.437046,0.0859482,0.908424,0.57249,0.613806]\n",
       " [0.508649,0.511054,0.466657,0.882183,0.358672,0.655844,0.0174267,0.876219,0.472057,0.356085  …  0.525542,0.163685,0.866486,0.153948,0.205162,0.437046,0.0859482,0.908424,0.57249,0.613806]\n",
       " [0.508649,0.511054,0.466657,0.882183,0.358672,0.655844,0.0174267,0.876219,0.472057,0.356085  …  0.525542,0.163685,0.866486,0.153948,0.205162,0.437046,0.0859482,0.908424,0.57249,0.613806]\n",
       " [0.508649,0.511054,0.466657,0.882183,0.358672,0.655844,0.0174267,0.876219,0.472057,0.356085  …  0.525542,0.163685,0.866486,0.153948,0.205162,0.437046,0.0859482,0.908424,0.57249,0.613806]\n",
       " [0.508649,0.511054,0.466657,0.882183,0.358672,0.655844,0.0174267,0.876219,0.472057,0.356085  …  0.525542,0.163685,0.866486,0.153948,0.205162,0.437046,0.0859482,0.908424,0.57249,0.613806]"
      ]
     },
     "execution_count": 16,
     "metadata": {},
     "output_type": "execute_result"
    }
   ],
   "source": [
    "collect(SliceIterator(A, 1))"
   ]
  },
  {
   "cell_type": "code",
   "execution_count": 14,
   "metadata": {
    "collapsed": false
   },
   "outputs": [
    {
     "name": "stdout",
     "output_type": "stream",
     "text": [
      "Array\n",
      "10 task.jl; anonymous; line: 447\n",
      " 10 ...4/IJulia/src/IJulia.jl; eventloop; line: 143\n",
      "  10 ...rc/execute_request.jl; execute_request_0x535c5df2; line: 183\n",
      "   10 loading.jl; include_string; line: 282\n",
      "    10 profile.jl; anonymous; line: 16\n",
      "     8 array.jl; collect; line: 255\n",
      "     2 array.jl; collect; line: 256\n"
     ]
    }
   ],
   "source": [
    "Profile.clear()\n",
    "A=rand(10000,100000)\n",
    "x= @profile collect(SliceIterator(A,1))\n",
    "typeof(x) |> dump\n",
    "Profile.print()"
   ]
  },
  {
   "cell_type": "code",
   "execution_count": 15,
   "metadata": {
    "collapsed": false
   },
   "outputs": [
    {
     "data": {
      "text/plain": [
       "10000-element Array{Any,1}:\n",
       " [0.394914,0.0602902,0.367433,0.56197,0.872677,0.591798,0.986725,0.956,0.104128,0.718466  …  0.157523,0.0279633,0.149594,0.180372,0.786194,0.0956629,0.22173,0.79015,0.580078,0.43116]         \n",
       " [0.266273,0.153137,0.297041,0.252344,0.924375,0.291009,0.383612,0.253188,0.626669,0.0533846  …  0.569131,0.179185,0.356106,0.178546,0.685984,0.719859,0.901177,0.908585,0.297581,0.245418]    \n",
       " [0.825087,0.743929,0.591186,0.370524,0.869099,0.379512,0.683651,0.521067,0.338911,0.87319  …  0.475297,0.275887,0.614288,0.948668,0.923538,0.158577,0.016667,0.118067,0.871264,0.533519]      \n",
       " [0.579695,0.345911,0.0305057,0.505408,0.707105,0.399805,0.397415,0.636237,0.0297708,0.593969  …  0.907708,0.262315,0.762959,0.76338,0.697364,0.20066,0.686961,0.476173,0.39956,0.0985477]     \n",
       " [0.223378,0.61412,0.920269,0.374923,0.669169,0.0925388,0.157307,0.615097,0.883653,0.578954  …  0.803862,0.122315,0.608658,0.484485,0.00777193,0.410008,0.667442,0.351693,0.833999,0.303883]   \n",
       " [0.45658,0.370364,0.848263,0.265198,0.464311,0.635084,0.0807481,0.157091,0.511473,0.539919  …  0.05387,0.0600619,0.914678,0.250816,0.811625,0.0114056,0.144445,0.698591,0.733109,0.101217]    \n",
       " [0.864403,0.460064,0.560578,0.793061,0.956311,0.808705,0.414024,0.468179,0.0479536,0.332394  …  0.682146,0.928158,0.446072,0.664005,0.463525,0.699396,0.263813,0.0698124,0.824141,0.0394399]  \n",
       " [0.937719,0.274821,0.300241,0.108028,0.0034689,0.88058,0.537102,0.589906,0.00986602,0.197738  …  0.26772,0.880415,0.532231,0.19603,0.663149,0.110624,0.322743,0.673855,0.00748368,0.237822]   \n",
       " [0.623824,0.00405686,0.848147,0.965921,0.885502,0.737762,0.531564,0.457777,0.016694,0.673346  …  0.829096,0.622865,0.553631,0.140031,0.730732,0.28829,0.560573,0.0733364,0.444566,0.629705]   \n",
       " [0.640713,0.457927,0.414786,0.848206,0.22821,0.459458,0.0318574,0.349708,0.624565,0.628726  …  0.268416,0.395343,0.837587,0.484037,0.656332,0.254714,0.310227,0.661958,0.73002,0.0630373]     \n",
       " [0.732295,0.653045,0.202223,0.973653,0.613262,0.925708,0.220469,0.100881,0.577438,0.259572  …  0.108902,0.555015,0.0892857,0.799761,0.621292,0.0361943,0.640589,0.823993,0.802146,0.599909]   \n",
       " [0.483367,0.109625,0.186381,0.990577,0.0390627,0.29096,0.235913,0.667902,0.0602551,0.621438  …  0.215701,0.548598,0.253596,0.618168,0.366027,0.563603,0.200374,0.399745,0.169014,0.619264]    \n",
       " [0.78205,0.142601,0.0480811,0.764436,0.00774177,0.0146315,0.0811694,0.874188,0.240128,0.026799  …  0.19952,0.0363891,0.789983,0.632277,0.275229,0.0384075,0.608724,0.755606,0.358569,0.356595]\n",
       " ⋮                                                                                                                                                                                             \n",
       " [0.667591,0.848737,0.943974,0.329293,0.296546,0.421944,0.507147,0.00232678,0.105657,0.0124069  …  0.798055,0.466086,0.0793413,0.479986,0.671219,0.623082,0.887113,0.553137,0.718039,0.765405] \n",
       " [0.707487,0.727911,0.407677,0.37599,0.722722,0.494149,0.117548,0.553274,0.0167221,0.785385  …  0.694576,0.239188,0.0466604,0.0305679,0.957644,0.63616,0.719815,0.721829,0.206075,0.208009]    \n",
       " [0.190111,0.961558,0.247778,0.975758,0.439324,0.420279,0.261994,0.203303,0.817062,0.556709  …  0.104897,0.636174,0.838489,0.0789329,0.715837,0.850895,0.414611,0.659826,0.559919,0.66648]     \n",
       " [0.613497,0.880722,0.473346,0.927642,0.912373,0.785994,0.119902,0.100371,0.287307,0.300327  …  0.721753,0.999956,0.304693,0.132827,0.558334,0.405221,0.453769,0.319199,0.850653,0.366981]     \n",
       " [0.0232649,0.362255,0.160895,0.843004,0.117159,0.74809,0.796382,0.283494,0.962436,0.978097  …  0.506863,0.604158,0.928532,0.669587,0.191572,0.170054,0.768344,0.535813,0.887566,0.472179]     \n",
       " [0.51693,0.11838,0.914425,0.157967,0.463187,0.91507,0.772804,0.70667,0.95298,0.209792  …  0.92219,0.0245108,0.906715,0.376344,0.840796,0.0987031,0.242954,0.915389,0.0792192,0.315229]        \n",
       " [0.083108,0.465933,0.134797,0.136811,0.665553,0.474241,0.696316,0.404171,0.334372,0.345523  …  0.0481922,0.76668,0.974377,0.565755,0.694824,0.377717,0.603644,0.00113452,0.739938,0.0396873]  \n",
       " [0.219945,0.314393,0.725929,0.96104,0.836786,0.855893,0.0253113,0.604825,0.113271,0.962876  …  0.494269,0.578325,0.916268,0.3949,0.517653,0.35772,0.246873,0.189891,0.800397,0.862614]        \n",
       " [0.0130296,0.578844,0.0819887,0.61987,0.250204,0.653091,0.675836,0.358385,0.0182188,0.551913  …  0.811581,0.0585253,0.34593,0.237926,0.412971,0.461516,0.0346074,0.386704,0.136117,0.207132]  \n",
       " [0.230584,0.229674,0.0513261,0.880949,0.336594,0.542554,0.660625,0.370921,0.149396,0.526024  …  0.128978,0.0534507,0.986801,0.625809,0.0483979,0.687553,0.545085,0.90151,0.675061,0.478153]   \n",
       " [0.160333,0.831935,0.371597,0.611262,0.835314,0.327757,0.433721,0.827465,0.537523,0.567222  …  0.155769,0.279371,0.00486742,0.447485,0.795215,0.961829,0.761954,0.674113,0.19086,0.535335]    \n",
       " [0.731267,0.316474,0.653492,0.336037,0.0644749,0.164902,0.647584,0.00398687,0.52979,0.286462  …  0.754551,0.196384,0.934132,0.335821,0.089995,0.509574,0.661887,0.379323,0.842413,0.348906]   "
      ]
     },
     "execution_count": 15,
     "metadata": {},
     "output_type": "execute_result"
    }
   ],
   "source": [
    "x"
   ]
  },
  {
   "cell_type": "code",
   "execution_count": 5,
   "metadata": {
    "collapsed": false
   },
   "outputs": [
    {
     "name": "stdout",
     "output_type": "stream",
     "text": [
      "SliceIterator{Array{Float64,2}} \n",
      "  a: Array(Float64,(100,100)) 100x100 Array{Float64,2}:\n",
      " 0.534806   0.617559   0.259453   …  0.72872    0.409102   0.750931 \n",
      " 0.215744   0.809954   0.867613      0.909051   0.470718   0.446382 \n",
      " 0.578762   0.146268   0.0580017     0.404426   0.0872413  0.850044 \n",
      " 0.40591    0.694705   0.7085        0.39022    0.510348   0.10983  \n",
      " 0.80562    0.950035   0.0782669     0.0701162  0.833876   0.622836 \n",
      " 0.621973   0.740362   0.732713   …  0.352081   0.582872   0.858684 \n",
      " 0.0160471  0.342949   0.550382      0.343565   0.465164   0.39128  \n",
      " 0.454893   0.0452133  0.498127      0.932638   0.687688   0.659169 \n",
      " 0.21681    0.189988   0.315131      0.498312   0.675978   0.460695 \n",
      " 0.745072   0.347901   0.956502      0.508259   0.275172   0.350436 \n",
      " 0.724201   0.919885   0.865974   …  0.600394   0.726582   0.715674 \n",
      " 0.674326   0.227598   0.991319      0.848721   0.131149   0.0718255\n",
      " 0.235139   0.955219   0.880506      0.348223   0.127967   0.061391 \n",
      " ⋮                                ⋱                                 \n",
      " 0.201607   0.30694    0.808719      0.289076   0.393529   0.187479 \n",
      " 0.280213   0.647473   0.769929      0.776304   0.237217   0.181104 \n",
      " 0.382118   0.969879   0.384323   …  0.289208   0.842975   0.919484 \n",
      " 0.0244397  0.0827171  0.529146      0.77062    0.114799   0.30005  \n",
      " 0.0370758  0.210155   0.37031       0.710118   0.661712   0.690792 \n",
      " 0.42032    0.879721   0.0648048     0.964086   0.501647   0.907964 \n",
      " 0.541883   0.150495   0.176873      0.714813   0.747604   0.267464 \n",
      " 0.758379   0.166403   0.780607   …  0.485651   0.413237   0.253154 \n",
      " 0.298792   0.278158   0.798277      0.202582   0.375967   0.937204 \n",
      " 0.814767   0.710896   0.214154      0.308923   0.959612   0.744232 \n",
      " 0.686559   0.412673   0.759369      0.370987   0.975329   0.891035 \n",
      " 0.643641   0.758591   0.165814      0.974743   0.737836   0.492155 \n",
      "  length: Int64 100\n",
      "  l: Tuple{Array{Colon,1}} \n",
      "  r: Tuple{Array{Colon,1}} \n"
     ]
    }
   ],
   "source": [
    "dump(SliceIterator(A,1))"
   ]
  },
  {
   "cell_type": "code",
   "execution_count": 95,
   "metadata": {
    "collapsed": false
   },
   "outputs": [
    {
     "name": "stdout",
     "output_type": "stream",
     "text": [
      "@benchmark(tuple(l...,i)) = BenchmarkTools.Trial: \n",
      "  samples:          10000\n",
      "  evals/sample:     126\n",
      "  time tolerance:   5.00%\n",
      "  memory tolerance: 1.00%\n",
      "  memory estimate:  48.00 bytes\n",
      "  allocs estimate:  2\n",
      "  minimum time:     753.00 ns (0.00% GC)\n",
      "  median time:      867.00 ns (0.00% GC)\n",
      "  mean time:        881.76 ns (1.62% GC)\n",
      "  maximum time:     72.41 μs (98.54% GC)\n"
     ]
    },
    {
     "data": {
      "text/plain": [
       "(Colon(),Colon(),1)"
      ]
     },
     "execution_count": 95,
     "metadata": {},
     "output_type": "execute_result"
    }
   ],
   "source": [
    "l=(:,:)\n",
    "i=1\n",
    "@show @benchmark tuple(l...,i)\n",
    "t=tuple(l...,i)\n",
    "t, typeof(t)"
   ]
  },
  {
   "cell_type": "code",
   "execution_count": 99,
   "metadata": {
    "collapsed": false
   },
   "outputs": [
    {
     "data": {
      "text/plain": [
       "BenchmarkTools.Trial: \n",
       "  samples:          10000\n",
       "  evals/sample:     997\n",
       "  time tolerance:   5.00%\n",
       "  memory tolerance: 1.00%\n",
       "  memory estimate:  32.00 bytes\n",
       "  allocs estimate:  1\n",
       "  minimum time:     18.00 ns (0.00% GC)\n",
       "  median time:      21.00 ns (0.00% GC)\n",
       "  mean time:        31.53 ns (30.78% GC)\n",
       "  maximum time:     7.56 μs (99.51% GC)"
      ]
     },
     "execution_count": 99,
     "metadata": {},
     "output_type": "execute_result"
    }
   ],
   "source": [
    "@benchmark l=(:,:)"
   ]
  },
  {
   "cell_type": "code",
   "execution_count": 104,
   "metadata": {
    "collapsed": false
   },
   "outputs": [
    {
     "data": {
      "text/plain": [
       "(Colon(),Colon())"
      ]
     },
     "execution_count": 104,
     "metadata": {},
     "output_type": "execute_result"
    }
   ],
   "source": [
    "NTuple{2,Colon}((:,:))"
   ]
  },
  {
   "cell_type": "code",
   "execution_count": 109,
   "metadata": {
    "collapsed": false
   },
   "outputs": [
    {
     "ename": "LoadError",
     "evalue": "LoadError: UndefVarError: @benchmark not defined\nwhile loading In[109], in expression starting on line 2",
     "output_type": "error",
     "traceback": [
      "LoadError: UndefVarError: @benchmark not defined\nwhile loading In[109], in expression starting on line 2",
      ""
     ]
    }
   ],
   "source": [
    "fill(:,2) |> tuple\n",
    "@benchmark tuple(fill(:,2)...)"
   ]
  },
  {
   "cell_type": "code",
   "execution_count": null,
   "metadata": {
    "collapsed": true
   },
   "outputs": [],
   "source": []
  },
  {
   "cell_type": "code",
   "execution_count": 13,
   "metadata": {
    "collapsed": false
   },
   "outputs": [
    {
     "ename": "LoadError",
     "evalue": "LoadError: TypeError: SubArray: in parameter, expected Type{T}, got Tuple{DataType,DataType}\nwhile loading In[13], in expression starting on line 1",
     "output_type": "error",
     "traceback": [
      "LoadError: TypeError: SubArray: in parameter, expected Type{T}, got Tuple{DataType,DataType}\nwhile loading In[13], in expression starting on line 1",
      ""
     ]
    }
   ],
   "source": [
    "SubArray{Float64, 1, typeof(A), (Int, Colon), 0}\n",
    "#(A, (1,Colon()), NTuple((1,)), 1, 1)"
   ]
  },
  {
   "cell_type": "code",
   "execution_count": 15,
   "metadata": {
    "collapsed": false
   },
   "outputs": [
    {
     "name": "stdout",
     "output_type": "stream",
     "text": [
      "search: SubArray\n",
      "\n"
     ]
    },
    {
     "data": {
      "text/latex": [
       "No documentation found.\n",
       "\\textbf{Summary:}\n",
       "\\begin{verbatim}\n",
       "immutable SubArray{T,N,P<:AbstractArray{T,N},I<:Tuple{Vararg{Union{AbstractArray{T,1},Colon,Int64}}},LD} <: AbstractArray{T,N}\n",
       "\\end{verbatim}\n",
       "\\textbf{Fields:}\n",
       "\\begin{verbatim}\n",
       "parent      :: P<:AbstractArray{T,N}\n",
       "indexes     :: I<:Tuple{Vararg{Union{AbstractArray{T,1},Colon,Int64}}}\n",
       "dims        :: NTuple{N,Int64}\n",
       "first_index :: Int64\n",
       "stride1     :: Int64\n",
       "\\end{verbatim}\n"
      ],
      "text/markdown": [
       "No documentation found.\n",
       "\n",
       "**Summary:**\n",
       "\n",
       "```julia\n",
       "immutable SubArray{T,N,P<:AbstractArray{T,N},I<:Tuple{Vararg{Union{AbstractArray{T,1},Colon,Int64}}},LD} <: AbstractArray{T,N}\n",
       "```\n",
       "\n",
       "**Fields:**\n",
       "\n",
       "```julia\n",
       "parent      :: P<:AbstractArray{T,N}\n",
       "indexes     :: I<:Tuple{Vararg{Union{AbstractArray{T,1},Colon,Int64}}}\n",
       "dims        :: NTuple{N,Int64}\n",
       "first_index :: Int64\n",
       "stride1     :: Int64\n",
       "```\n"
      ],
      "text/plain": [
       "No documentation found.\n",
       "\n",
       "**Summary:**\n",
       "\n",
       "```julia\n",
       "immutable SubArray{T,N,P<:AbstractArray{T,N},I<:Tuple{Vararg{Union{AbstractArray{T,1},Colon,Int64}}},LD} <: AbstractArray{T,N}\n",
       "```\n",
       "\n",
       "**Fields:**\n",
       "\n",
       "```julia\n",
       "parent      :: P<:AbstractArray{T,N}\n",
       "indexes     :: I<:Tuple{Vararg{Union{AbstractArray{T,1},Colon,Int64}}}\n",
       "dims        :: NTuple{N,Int64}\n",
       "first_index :: Int64\n",
       "stride1     :: Int64\n",
       "```\n"
      ]
     },
     "execution_count": 15,
     "metadata": {},
     "output_type": "execute_result"
    }
   ],
   "source": [
    "?SubArray"
   ]
  },
  {
   "cell_type": "code",
   "execution_count": 17,
   "metadata": {
    "collapsed": false
   },
   "outputs": [
    {
     "ename": "LoadError",
     "evalue": "LoadError: MethodError: `convert` has no method matching convert(::Type{SubArray{T,N,P<:AbstractArray{T,N},I<:Tuple{Vararg{Union{AbstractArray{T,1},Colon,Int64}}},LD}}, ::Array{Float64,2}, ::Tuple{Int64,Colon}, ::Tuple{Int64}, ::Int64, ::Int64)\nThis may have arisen from a call to the constructor SubArray{T,N,P<:AbstractArray{T,N},I<:Tuple{Vararg{Union{AbstractArray{T,1},Colon,Int64}}},LD}(...),\nsince type constructors fall back to convert methods.\nClosest candidates are:\n  call{T}(::Type{T}, ::Any)\n  convert{T}(::Type{T}, !Matched::T)\nwhile loading In[17], in expression starting on line 1",
     "output_type": "error",
     "traceback": [
      "LoadError: MethodError: `convert` has no method matching convert(::Type{SubArray{T,N,P<:AbstractArray{T,N},I<:Tuple{Vararg{Union{AbstractArray{T,1},Colon,Int64}}},LD}}, ::Array{Float64,2}, ::Tuple{Int64,Colon}, ::Tuple{Int64}, ::Int64, ::Int64)\nThis may have arisen from a call to the constructor SubArray{T,N,P<:AbstractArray{T,N},I<:Tuple{Vararg{Union{AbstractArray{T,1},Colon,Int64}}},LD}(...),\nsince type constructors fall back to convert methods.\nClosest candidates are:\n  call{T}(::Type{T}, ::Any)\n  convert{T}(::Type{T}, !Matched::T)\nwhile loading In[17], in expression starting on line 1",
      "",
      " in call at essentials.jl:57"
     ]
    }
   ],
   "source": [
    "SubArray(A, (1,Colon()), NTuple((1,)), 1, 1)"
   ]
  },
  {
   "cell_type": "code",
   "execution_count": 39,
   "metadata": {
    "collapsed": false
   },
   "outputs": [
    {
     "name": "stdout",
     "output_type": "stream",
     "text": [
      "SubArray{Int64,2,Array{Int64,2},Tuple{UnitRange{Int64},UnitRange{Int64}},1} \n",
      "  parent: Array(Int64,(4,4)) 4x4 Array{Int64,2}:\n",
      " 1  5   9  13\n",
      " 2  6  10  14\n",
      " 3  7  11  15\n",
      " 4  8  12  16\n",
      "  indexes: Tuple{UnitRange{Int64},UnitRange{Int64}} \n",
      "  dims: Tuple{Int64,Int64} \n",
      "  first_index: Int64 2\n",
      "  stride1: Int64 1\n",
      "dump(s) = nothing\n"
     ]
    },
    {
     "data": {
      "text/plain": [
       "2x4 SubArray{Int64,2,Array{Int64,2},Tuple{UnitRange{Int64},UnitRange{Int64}},1}:\n",
       " 2  6  10  14\n",
       " 3  7  11  15"
      ]
     },
     "execution_count": 39,
     "metadata": {},
     "output_type": "execute_result"
    }
   ],
   "source": [
    "A=reshape(1:16,4,4)\n",
    "s = slice(A,2:3,1:4)\n",
    "@show dump(s)\n",
    "s"
   ]
  },
  {
   "cell_type": "code",
   "execution_count": 43,
   "metadata": {
    "collapsed": false
   },
   "outputs": [
    {
     "name": "stdout",
     "output_type": "stream",
     "text": [
      "SubArray{Int64,1,Array{Int64,2},Tuple{Colon,Int64},2} \n",
      "  parent: Array(Int64,(4,4)) 4x4 Array{Int64,2}:\n",
      " 1  5   9  13\n",
      " 2  6  10  14\n",
      " 3  7  11  15\n",
      " 4  8  12  16\n",
      "  indexes: Tuple{Colon,Int64} \n",
      "  dims: Tuple{Int64} \n",
      "  first_index: Int64 5\n",
      "  stride1: Int64 1\n",
      "dump(s) = nothing\n"
     ]
    },
    {
     "data": {
      "text/plain": [
       "4-element SubArray{Int64,1,Array{Int64,2},Tuple{Colon,Int64},2}:\n",
       " 5\n",
       " 6\n",
       " 7\n",
       " 8"
      ]
     },
     "execution_count": 43,
     "metadata": {},
     "output_type": "execute_result"
    }
   ],
   "source": [
    "A=reshape(1:16,4,4)\n",
    "s = slice(A,:,2)\n",
    "@show dump(s)\n",
    "s"
   ]
  },
  {
   "cell_type": "code",
   "execution_count": 48,
   "metadata": {
    "collapsed": false
   },
   "outputs": [
    {
     "data": {
      "text/plain": [
       "4-element SubArray{Int64,1,Array{Int64,2},Tuple{Colon,Int64},2}:\n",
       " 5\n",
       " 6\n",
       " 7\n",
       " 8"
      ]
     },
     "execution_count": 48,
     "metadata": {},
     "output_type": "execute_result"
    }
   ],
   "source": [
    "s.indexes[2]\n",
    "s"
   ]
  }
 ],
 "metadata": {
  "kernelspec": {
   "display_name": "Julia 0.4.5",
   "language": "julia",
   "name": "julia-0.4"
  },
  "language_info": {
   "file_extension": ".jl",
   "mimetype": "application/julia",
   "name": "julia",
   "version": "0.4.5"
  }
 },
 "nbformat": 4,
 "nbformat_minor": 0
}
