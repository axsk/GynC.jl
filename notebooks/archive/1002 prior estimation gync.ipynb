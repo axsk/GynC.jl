{
 "cells": [
  {
   "cell_type": "code",
   "execution_count": 1,
   "metadata": {
    "collapsed": false
   },
   "outputs": [
    {
     "name": "stderr",
     "output_type": "stream",
     "text": [
      "WARNING: Method definition require(Symbol) in module Base at loading.jl:345 overwritten in module GynC at /home/numerik/bzfsikor/.julia/v0.5/Requires/src/require.jl:12.\n",
      "WARNING: using Plots.density in module GynC conflicts with an existing identifier.\n"
     ]
    }
   ],
   "source": [
    "using GynC"
   ]
  },
  {
   "cell_type": "code",
   "execution_count": 2,
   "metadata": {
    "collapsed": false
   },
   "outputs": [
    {
     "data": {
      "text/plain": [
       "weightduplicates (generic function with 1 method)"
      ]
     },
     "execution_count": 2,
     "metadata": {},
     "output_type": "execute_result"
    }
   ],
   "source": [
    "include(\"../src/weightedsamples.jl\")"
   ]
  },
  {
   "cell_type": "code",
   "execution_count": 3,
   "metadata": {
    "collapsed": false
   },
   "outputs": [
    {
     "data": {
      "text/plain": [
       "(45,)"
      ]
     },
     "execution_count": 3,
     "metadata": {},
     "output_type": "execute_result"
    }
   ],
   "source": [
    "all=JLD.load(\"../data/0911/allsamples.jld\")[\"samples\"];\n",
    "size(all)"
   ]
  },
  {
   "cell_type": "code",
   "execution_count": 4,
   "metadata": {
    "collapsed": false
   },
   "outputs": [
    {
     "data": {
      "text/plain": [
       "(2250,116)"
      ]
     },
     "execution_count": 4,
     "metadata": {},
     "output_type": "execute_result"
    }
   ],
   "source": [
    "s=vcat([a[50_001:3000:end,:] for a in all]...);\n",
    "size(s)"
   ]
  },
  {
   "cell_type": "code",
   "execution_count": 5,
   "metadata": {
    "collapsed": false
   },
   "outputs": [
    {
     "data": {
      "text/plain": [
       "(\n",
       "[19040.3 35681.5 … 6.55635e-5 28.6965; 18787.2 28005.9 … 6.18674e-5 28.5743; … ; 20583.9 11133.5 … 7.9398e-5 30.7602; 7223.93 22604.1 … 5.99331e-5 31.0581],\n",
       "\n",
       "[1,1,1,1,1,1,1,1,1,1  …  1,1,1,1,1,1,1,1,1,1])"
      ]
     },
     "execution_count": 5,
     "metadata": {},
     "output_type": "execute_result"
    }
   ],
   "source": [
    "s, w = weightduplicates(s)"
   ]
  },
  {
   "cell_type": "code",
   "execution_count": 6,
   "metadata": {
    "collapsed": false
   },
   "outputs": [
    {
     "data": {
      "text/plain": [
       "(2238,116)"
      ]
     },
     "execution_count": 6,
     "metadata": {},
     "output_type": "execute_result"
    }
   ],
   "source": [
    "zs = GynC.phi(s);\n",
    "nonnans = find(z->!any(isnan(z)),zs)\n",
    "s = s[nonnans,:]\n",
    "w = w[nonnans]\n",
    "w = w/sum(w);\n",
    "w0 = w\n",
    "size(s)"
   ]
  },
  {
   "cell_type": "code",
   "execution_count": 70,
   "metadata": {
    "collapsed": false,
    "scrolled": true
   },
   "outputs": [
    {
     "data": {
      "text/plain": [
       "(::#78) (generic function with 1 method)"
      ]
     },
     "execution_count": 70,
     "metadata": {},
     "output_type": "execute_result"
    }
   ],
   "source": [
    "alldatas = [Lausanne(i).data for i=1:45]\n",
    "gooddata  = filter(x->any(!isnan(x)), alldatas)\n",
    "srand(1)\n",
    "@profile hz=GynC.hzobj(s, gooddata)"
   ]
  },
  {
   "cell_type": "code",
   "execution_count": 74,
   "metadata": {
    "collapsed": false
   },
   "outputs": [
    {
     "name": "stdout",
     "output_type": "stream",
     "text": [
      "1    ./event.jl:379; (::Base.##349#350{IJulia.#send_st...\n",
      " 1 ./event.jl:319; wait(::Timer)\n",
      "1    ./event.jl:384; (::Base.##349#350{IJulia.#send_st...\n",
      " 1 ...0.5/IJulia/src/stdio.jl:72; send_stdio(::String)\n",
      "  1 ....5/IJulia/src/stdio.jl:79; send_stream(::String)\n",
      "   1 ./dict.jl:687; getindex\n",
      "    1 ./dict.jl:543; ht_keyindex(::Dict{String,Base.A...\n",
      "2948 ./task.jl:360; (::Base.##755#757{Base.AsyncColle...\n",
      " 2948 ./asyncmap.jl:63; macro expansion\n",
      "  2947 ....5/GynC/src/optim2.jl:32; phi(::Array{Float64,1})\n",
      "   1    ./abstractarray.jl:752; getindex\n",
      "    1 ./multidimensional.jl:270; _getindex\n",
      "     1 ./abstractarray.jl:284; checkbounds\n",
      "      1 ./abstractarray.jl:270; checkbounds\n",
      "       1 ./abstractarray.jl:309; checkbounds_indices\n",
      "        1 ./abstractarray.jl:319; checkbounds_indices\n",
      "         1 ./abstractarray.jl:377; checkindex\n",
      "   1    ./multidimensional.jl:291; _unsafe_getindex(::Base.LinearF...\n",
      "    1 ./multidimensional.jl:296; macro expansion\n",
      "   2945 ....5/GynC/src/model.jl:88; forwardsol(::Array{Float64,1}, ...\n",
      "    5    ...GynC/src/gyncycle.jl:12; #gync#7(::Float64, ::Float64, :...\n",
      "     3 ./stream.jl:1000; redirect_stderr()\n",
      "      2 ./stream.jl:118; Base.PipeEndpoint(::Ptr{Void}, ...\n",
      "       1 ./iobuffer.jl:33; PipeBuffer\n",
      "      1 ./stream.jl:127; Base.PipeEndpoint(::Ptr{Void}, ...\n",
      "     2 ./stream.jl:1001; redirect_stderr()\n",
      "      2 ./stream.jl:652; link_pipe(::Base.PipeEndpoint, ...\n",
      "       2 ./stream.jl:596; _link_pipe(::Ptr{Void}, ::Ptr{...\n",
      "    2923 ...GynC/src/gyncycle.jl:15; #gync#7(::Float64, ::Float64, :...\n",
      "     2923 ./<missing>:0; (::Sundials.#kw##cvode)(::Array...\n",
      "      2913 ...als/src/Sundials.jl:239; #cvode#1(::Float64, ::Float64...\n",
      "       4   ...als/src/Sundials.jl:130; CVode\n",
      "       4   ...als/src/Sundials.jl:0; cvodefun(::Float64, ::Ptr{Sun...\n",
      "       69  ...als/src/Sundials.jl:292; cvodefun(::Float64, ::Ptr{Sun...\n",
      "        6 ...ials/src/Sundials.jl:71; asarray\n",
      "         3 ...als/src/Sundials.jl:70; nvlength\n",
      "       80  ...als/src/Sundials.jl:293; cvodefun(::Float64, ::Ptr{Sun...\n",
      "       922 ...als/src/Sundials.jl:294; cvodefun(::Float64, ::Ptr{Sun...\n",
      "        2   ...ynC/src/gyncycle.jl:0; gyncycle_rhs!(::Array{Float64...\n",
      "        24  ...ynC/src/gyncycle.jl:99; gyncycle_rhs!(::Array{Float64...\n",
      "         2 ...ynC/src/gyncycle.jl:42; hplus\n",
      "        25  ...ynC/src/gyncycle.jl:100; gyncycle_rhs!(::Array{Float64...\n",
      "         11 ...ynC/src/gyncycle.jl:42; hplus\n",
      "        8   ...ynC/src/gyncycle.jl:103; gyncycle_rhs!(::Array{Float64...\n",
      "         1 ...ynC/src/gyncycle.jl:42; hplus\n",
      "        19  ...ynC/src/gyncycle.jl:104; gyncycle_rhs!(::Array{Float64...\n",
      "         5 ...ynC/src/gyncycle.jl:42; hplus\n",
      "        3   ...ynC/src/gyncycle.jl:105; gyncycle_rhs!(::Array{Float64...\n",
      "        4   ...ynC/src/gyncycle.jl:108; gyncycle_rhs!(::Array{Float64...\n",
      "        1   ...ynC/src/gyncycle.jl:111; gyncycle_rhs!(::Array{Float64...\n",
      "        2   ...ynC/src/gyncycle.jl:117; gyncycle_rhs!(::Array{Float64...\n",
      "        4   ...ynC/src/gyncycle.jl:120; gyncycle_rhs!(::Array{Float64...\n",
      "        8   ...ynC/src/gyncycle.jl:121; gyncycle_rhs!(::Array{Float64...\n",
      "         3 ...ynC/src/gyncycle.jl:42; hplus\n",
      "        1   ...ynC/src/gyncycle.jl:122; gyncycle_rhs!(::Array{Float64...\n",
      "        6   ...ynC/src/gyncycle.jl:125; gyncycle_rhs!(::Array{Float64...\n",
      "        1   ...ynC/src/gyncycle.jl:128; gyncycle_rhs!(::Array{Float64...\n",
      "        5   ...ynC/src/gyncycle.jl:137; gyncycle_rhs!(::Array{Float64...\n",
      "         1 ...ynC/src/gyncycle.jl:42; hplus\n",
      "        19  ...ynC/src/gyncycle.jl:140; gyncycle_rhs!(::Array{Float64...\n",
      "         3 ...ynC/src/gyncycle.jl:42; hplus\n",
      "        82  ...ynC/src/gyncycle.jl:144; gyncycle_rhs!(::Array{Float64...\n",
      "         2  ./math.jl:0; ^(::Float64, ::Float64)\n",
      "         77 ./math.jl:355; ^(::Float64, ::Float64)\n",
      "        327 ...ynC/src/gyncycle.jl:147; gyncycle_rhs!(::Array{Float64...\n",
      "         1   ./essentials.jl:26; convert(::Type{Float64}, ::F...\n",
      "         1   ./float.jl:244; *(::Float64, ::Float64)\n",
      "         2   ./float.jl:242; -(::Float64, ::Float64)\n",
      "         110 ./operators.jl:138; *\n",
      "          2 ./float.jl:244; *(::Float64, ::Float64)\n",
      "        296 ...ynC/src/gyncycle.jl:150; gyncycle_rhs!(::Array{Float64...\n",
      "         1  ./essentials.jl:0; convert(::Type{Float64}, ::Fl...\n",
      "         1  ./float.jl:240; +(::Float64, ::Float64)\n",
      "         93 ./operators.jl:138; *\n",
      "          6 ./float.jl:244; *(::Float64, ::Float64)\n",
      "        8   ...ynC/src/gyncycle.jl:155; gyncycle_rhs!(::Array{Float64...\n",
      "        8   ...ynC/src/gyncycle.jl:160; gyncycle_rhs!(::Array{Float64...\n",
      "        15  ...ynC/src/gyncycle.jl:164; gyncycle_rhs!(::Array{Float64...\n",
      "         2 ...ynC/src/gyncycle.jl:42; hplus\n",
      "        3   ...ynC/src/gyncycle.jl:167; gyncycle_rhs!(::Array{Float64...\n",
      "        5   ...ynC/src/gyncycle.jl:173; gyncycle_rhs!(::Array{Float64...\n",
      "         1 ...ynC/src/gyncycle.jl:42; hplus\n",
      "        12  ...ynC/src/gyncycle.jl:176; gyncycle_rhs!(::Array{Float64...\n",
      "        3   ...ynC/src/gyncycle.jl:179; gyncycle_rhs!(::Array{Float64...\n",
      "         1 ...ynC/src/gyncycle.jl:42; hplus\n",
      "        5   ...ynC/src/gyncycle.jl:182; gyncycle_rhs!(::Array{Float64...\n",
      "         1 ...ynC/src/gyncycle.jl:42; hplus\n",
      "        3   ...ynC/src/gyncycle.jl:185; gyncycle_rhs!(::Array{Float64...\n",
      "        5   ...ynC/src/gyncycle.jl:198; gyncycle_rhs!(::Array{Float64...\n",
      "        1   ...ynC/src/gyncycle.jl:208; gyncycle_rhs!(::Array{Float64...\n",
      "        1   ...ynC/src/gyncycle.jl:211; gyncycle_rhs!(::Array{Float64...\n",
      "        2   ...ynC/src/gyncycle.jl:214; gyncycle_rhs!(::Array{Float64...\n",
      "        4   ...ynC/src/gyncycle.jl:217; gyncycle_rhs!(::Array{Float64...\n",
      "        1   ...ynC/src/gyncycle.jl:223; gyncycle_rhs!(::Array{Float64...\n",
      "        2   ...ynC/src/gyncycle.jl:230; gyncycle_rhs!(::Array{Float64...\n",
      "        1   ...ynC/src/gyncycle.jl:236; gyncycle_rhs!(::Array{Float64...\n",
      "        2   ...ynC/src/gyncycle.jl:243; gyncycle_rhs!(::Array{Float64...\n",
      "       2   ...als/src/Sundials.jl:295; cvodefun(::Float64, ::Ptr{Sun...\n",
      "      2    ...als/src/Sundials.jl:315; #cvode#1(::Float64, ::Float64...\n",
      "       1 ./array.jl:158; fill!(::Array{Float64,2}, ::Fl...\n",
      "      3    ...als/src/Sundials.jl:326; #cvode#1(::Float64, ::Float64...\n",
      "       2 ./multidimensional.jl:421; _unsafe_batchsetindex!(::Array...\n",
      "        2 ./multidimensional.jl:429; macro expansion\n",
      "         2 ./cartesian.jl:62; macro expansion\n",
      "      4    ...als/src/Sundials.jl:329; #cvode#1(::Float64, ::Float64...\n",
      "    2    ...GynC/src/gyncycle.jl:21; #gync#7(::Float64, ::Float64, :...\n",
      "     1 ./stream.jl:994; redirect_stderr(::Base.PipeEndpoint)\n",
      "      1 ./stream.jl:989; _redirect_stderr\n",
      "       1 ./libc.jl:27; dup(::RawFD, ::RawFD)\n",
      "    9    ...GynC/src/gyncycle.jl:22; #gync#7(::Float64, ::Float64, :...\n",
      "     9 ./stream.jl:333; close(::Base.PipeEndpoint)\n",
      "      9 ./stream.jl:44; stream_wait(::Base.PipeEndpoint,...\n",
      "       9 ./event.jl:27; wait(::Condition)\n",
      "        7 ./event.jl:147; wait()\n",
      "         7 ./libuv.jl:82; process_events(::Bool)\n",
      "        2 ./event.jl:165; wait()\n",
      "    6    ...GynC/src/gyncycle.jl:23; #gync#7(::Float64, ::Float64, :...\n",
      "     6 ./stream.jl:333; close(::Base.PipeEndpoint)\n",
      "      6 ./stream.jl:44; stream_wait(::Base.PipeEndpoint,...\n",
      "       6 ./event.jl:27; wait(::Condition)\n",
      "        5 ./event.jl:147; wait()\n",
      "         5 ./libuv.jl:82; process_events(::Bool)\n",
      "          2 ./stream.jl:536; _uv_hook_close(::Base.PipeEnd...\n",
      "           2 ./event.jl:45; notify(::Condition, ::Void, :...\n",
      "            1 ./<missing>:0; (::Base.#kw##schedule)(::Ar...\n",
      "            1 ./base.jl:151; vector_any(::Any, ::Vararg{...\n",
      "        1 ./event.jl:165; wait()\n",
      "1825 ./task.jl:360; (::IJulia.##9#15)()\n",
      " 1825 ...Julia/src/eventloop.jl:8; eventloop(::ZMQ.Socket)\n",
      "  1825 ...rc/execute_request.jl:169; execute_request(::ZMQ.Socket, ::...\n",
      "   1825 ./loading.jl:441; include_string(::String, ::String)\n",
      "    1825 ./<missing>:?; anonymous\n",
      "     1825 ./profile.jl:16; macro expansion;\n",
      "      3    ...5/GynC/src/optim2.jl:2; hzobj(::Array{Float64,2}, ::Ar...\n",
      "       3 ...5/GynC/src/optim2.jl:33; phi(::Array{Float64,2})\n",
      "        3 ./pmap.jl:146; #pmap#726(::Array{Any,1}, ::Fu...\n",
      "         3 ./pmap.jl:80; pmap(::WorkerPool, ::Function,...\n",
      "          3 ./pmap.jl:121; #pmap#714(::Bool, ::Int64, ::...\n",
      "           3 ./array.jl:282; _collect(::UnitRange{Int64},...\n",
      "            2 ./asyncmap.jl:201; next(::Base.AsyncGenerator,...\n",
      "             2 ./asyncmap.jl:187; pump_source(::Base.AsyncGen...\n",
      "              2 ./asyncmap.jl:145; next(::Base.AsyncCollector...\n",
      "            1 ./asyncmap.jl:205; next(::Base.AsyncGenerator,...\n",
      "      150  ...5/GynC/src/optim2.jl:3; hzobj(::Array{Float64,2}, ::Ar...\n",
      "       150 ./array.jl:308; collect(::Base.Generator{Base...\n",
      "        150 ./array.jl:340; collect_to!(::Array{Float64,2...\n",
      "         147 ./<missing>:0; (::GynC.##86#87)(::Tuple{Arra...\n",
      "          22 ./arraymath.jl:57; _elementwise(::Base.#-, ::Ty...\n",
      "          5  ./arraymath.jl:58; _elementwise(::Base.#-, ::Ty...\n",
      "          5  ./arraymath.jl:59; _elementwise(::Base.#-, ::Ty...\n",
      "          1  ./math.jl:160; exp(::Float64)\n",
      "          66 .../GynC/src/model.jl:157; llh_measerror\n",
      "           7  ./arraymath.jl:416; transpose(::Array{Float64,1})\n",
      "            1 ./array.jl:307; collect(::Base.Generator{Ba...\n",
      "            5 ./array.jl:308; collect(::Base.Generator{Ba...\n",
      "             3 ./array.jl:295; _array_for(::Type{Float64},...\n",
      "             2 ./array.jl:340; collect_to!(::Array{Float64...\n",
      "              2 ./generator.jl:25; next\n",
      "           1  ./broadcast.jl:0; ./(::Array{Float64,2}, ::Ar...\n",
      "           57 ./broadcast.jl:302; ./(::Array{Float64,2}, ::Ar...\n",
      "            57 ./broadcast.jl:230; broadcast\n",
      "             57 ./broadcast.jl:228; broadcast_t\n",
      "              1  ./broadcast.jl:170; broadcast!\n",
      "               1 ./broadcast.jl:69; check_broadcast_shape\n",
      "              21 ./broadcast.jl:172; broadcast!\n",
      "               21 ./broadcast.jl:117; _broadcast!(::Base.#/, ::...\n",
      "                21 ./broadcast.jl:123; macro expansion\n",
      "                 1  ./simdloop.jl:72; macro expansion\n",
      "                 20 ./simdloop.jl:73; macro expansion\n",
      "                  20 ./broadcast.jl:129; macro expansion\n",
      "              10 ./broadcast.jl:0; broadcast_shape(::Tuple{},...\n",
      "              4  ./broadcast.jl:34; broadcast_shape(::Tuple{},...\n",
      "               3 ./broadcast.jl:34; broadcast_shape(::Tuple{Ba...\n",
      "                1 ./broadcast.jl:41; _bcs\n",
      "                 1 ./broadcast.jl:40; _bcs\n",
      "                  1 ./broadcast.jl:0; _bcs1(::Base.OneTo{Int64}...\n",
      "          16 .../GynC/src/model.jl:158; llh_measerror\n",
      "           1 ./arraymath.jl:30; !(::Array{Bool,2})\n",
      "           1 ./arraymath.jl:31; !(::Array{Bool,2})\n",
      "           3 ./arraymath.jl:32; !(::Array{Bool,2})\n",
      "           8 ./operators.jl:555; isnan(::Array{Float64,2})\n",
      "            8 ./array.jl:308; collect(::Base.Generator{Ar...\n",
      "             1 ./array.jl:339; collect_to!(::Array{Bool,2}...\n",
      "             6 ./array.jl:340; collect_to!(::Array{Bool,2}...\n",
      "              5 ./generator.jl:25; next\n",
      "             1 ./array.jl:343; collect_to!(::Array{Bool,2}...\n",
      "          31 .../GynC/src/model.jl:160; llh_measerror\n",
      "           24 ./abstractarray.jl:752; getindex(::Array{Float64,2}...\n",
      "            1  ...ltidimensional.jl:0; _unsafe_getindex(::Base.Lin...\n",
      "            2  ...ltidimensional.jl:321; _unsafe_getindex(::Base.Lin...\n",
      "             2 ...ltidimensional.jl:224; index_shape\n",
      "              2 ...ltidimensional.jl:235; index_shape_dim\n",
      "               2 ./reduce.jl:510; count(::Base.##214#215, ::...\n",
      "            13 ...ltidimensional.jl:322; _unsafe_getindex(::Base.Lin...\n",
      "            1  ...ltidimensional.jl:328; _unsafe_getindex(::Base.Lin...\n",
      "            2  ...ltidimensional.jl:331; _unsafe_getindex(::Base.Lin...\n",
      "            3  ...ltidimensional.jl:332; _unsafe_getindex(::Base.Lin...\n",
      "            1  ...ltidimensional.jl:335; _unsafe_getindex(::Base.Lin...\n",
      "           3  ./reduce.jl:232; sumabs2(::Array{Float64,1})\n",
      "            3 ./reduce.jl:162; _mapreduce(::Base.#abs2, ::...\n",
      "             3 ./reduce.jl:102; mapreduce_impl(::Base.#abs2...\n",
      "              2 ./simdloop.jl:73; macro expansion\n",
      "               2 ./reduce.jl:104; macro expansion\n",
      "              1 ./simdloop.jl:74; macro expansion\n",
      "         3   ./generator.jl:25; next\n",
      "          3 ./iterator.jl:538; next\n",
      "           1 ./iterator.jl:522; prod_next\n",
      "           2 ./iterator.jl:535; prod_next\n",
      "      1672 ...5/GynC/src/optim2.jl:4; hzobj(::Array{Float64,2}, ::Ar...\n",
      "       2    ./array.jl:321; _collect(::Array{Array{Float6...\n",
      "        2 ./array.jl:340; collect_to!(::Array{Array{Floa...\n",
      "         2 ./generator.jl:26; next(::Base.Generator{Array{Ar...\n",
      "          1 ./arraymath.jl:59; _elementwise(::Base.#+, ::Typ...\n",
      "          1 .../GynC/src/optim2.jl:35; #84\n",
      "           1 ...rc/multivariates.jl:18; rand\n",
      "            1 ...ariate/mvnormal.jl:134; _rand!\n",
      "             1 ./random.jl:1208; randn!(::MersenneTwister, ...\n",
      "              1 ./random.jl:1202; randn(::MersenneTwister, :...\n",
      "               1 ./random.jl:1130; randn\n",
      "                1 ./random.jl:263; rand_ui52\n",
      "                 1 ./random.jl:125; rand_ui52_raw\n",
      "                  1 ./random.jl:111; reserve_1\n",
      "                   1 ./random.jl:107; gen_rand\n",
      "                    1 ./dSFMT.jl:75; dsfmt_fill_array_close1...\n",
      "       1670 ./array.jl:308; collect(::Base.Generator{Base...\n",
      "        1    ./array.jl:339; collect_to!(::Array{Float64,...\n",
      "        1663 ./array.jl:340; collect_to!(::Array{Float64,...\n",
      "         1624 ./<missing>:0; (::GynC.##86#87)(::Tuple{Arr...\n",
      "          386 ./arraymath.jl:57; _elementwise(::Base.#-, ::T...\n",
      "           3 ./operators.jl:0; promote_shape(::Array{Float6...\n",
      "           1 ./operators.jl:397; promote_shape(::Array{Float6...\n",
      "          67  ./arraymath.jl:58; _elementwise(::Base.#-, ::T...\n",
      "           2 ./abstractarray.jl:680; eachindex\n",
      "            2 ./abstractarray.jl:690; eachindex\n",
      "             2 ./abstractarray.jl:92; linearindices\n",
      "              1 ./abstractarray.jl:0; _length(::Array{Float64,2})\n",
      "              1 ./abstractarray.jl:126; _length(::Array{Float64,2})\n",
      "          78  ./arraymath.jl:59; _elementwise(::Base.#-, ::T...\n",
      "          2   ./arraymath.jl:61; _elementwise(::Base.#-, ::T...\n",
      "          19  ./math.jl:160; exp(::Float64)\n",
      "          586 .../GynC/src/model.jl:157; llh_measerror\n",
      "           1   ./array.jl:308; collect(::Base.Generator{Ba...\n",
      "           2   ./arraymath.jl:0; transpose(::Array{Float64,1})\n",
      "           106 ./arraymath.jl:416; transpose(::Array{Float64,1})\n",
      "            1  ./abstractarray.jl:0; of_indices(::Array{Float64,...\n",
      "            1  ./array.jl:0; collect(::Base.Generator{Ba...\n",
      "            11 ./array.jl:303; collect(::Base.Generator{Ba...\n",
      "             1 ./iterator.jl:518; start(::Base.Prod2{Base.One...\n",
      "            2  ./array.jl:307; collect(::Base.Generator{Ba...\n",
      "             1 ./generator.jl:25; next\n",
      "              1 ./iterator.jl:538; next\n",
      "               1 ./iterator.jl:533; prod_next\n",
      "            71 ./array.jl:308; collect(::Base.Generator{Ba...\n",
      "             44 ./array.jl:295; _array_for(::Type{Float64}...\n",
      "              1 ./iterator.jl:441; indices\n",
      "               1 ./iterator.jl:463; _prod_indices\n",
      "                1 ./abstractarray.jl:67; indices\n",
      "             1  ./array.jl:339; collect_to!(::Array{Float6...\n",
      "             16 ./array.jl:340; collect_to!(::Array{Float6...\n",
      "              16 ./generator.jl:25; next\n",
      "             1  ./array.jl:343; collect_to!(::Array{Float6...\n",
      "             6  ./array.jl:325; collect_to_with_first!\n",
      "              6 ./abstractarray.jl:92; linearindices\n",
      "               6 ./abstractarray.jl:126; _length(::Array{Float64,2})\n",
      "                6 ./abstractarray.jl:67; indices\n",
      "           4   ./broadcast.jl:0; ./(::Array{Float64,2}, ::Ar...\n",
      "           462 ./broadcast.jl:302; ./(::Array{Float64,2}, ::Ar...\n",
      "            461 ./broadcast.jl:230; broadcast\n",
      "             461 ./broadcast.jl:228; broadcast_t\n",
      "              3   ./broadcast.jl:170; broadcast!\n",
      "               2 ./broadcast.jl:69; check_broadcast_shape\n",
      "                1 ./broadcast.jl:59; check_broadcast_shape\n",
      "                 1 ./abstractarray.jl:67; indices\n",
      "                1 ./broadcast.jl:65; check_broadcast_shape(::Tu...\n",
      "               1 ./broadcast.jl:70; check_broadcast_shape\n",
      "              1   ./broadcast.jl:171; broadcast!\n",
      "               1 ./broadcast.jl:102; map_newindexer\n",
      "              216 ./broadcast.jl:172; broadcast!\n",
      "               2   ./broadcast.jl:0; _broadcast!(::Base.#/, :...\n",
      "               214 ./broadcast.jl:117; _broadcast!(::Base.#/, :...\n",
      "                1   ./broadcast.jl:122; macro expansion\n",
      "                211 ./broadcast.jl:123; macro expansion\n",
      "                 6   ./simdloop.jl:66; macro expansion\n",
      "                 5   ./simdloop.jl:71; macro expansion\n",
      "                 12  ./simdloop.jl:72; macro expansion\n",
      "                 188 ./simdloop.jl:73; macro expansion\n",
      "                  1   ./broadcast.jl:125; macro expansion\n",
      "                  12  ./broadcast.jl:127; macro expansion\n",
      "                  175 ./broadcast.jl:129; macro expansion\n",
      "              102 ./broadcast.jl:0; broadcast_shape(::Tuple{}...\n",
      "              54  ./broadcast.jl:34; broadcast_shape(::Tuple{}...\n",
      "               1 ./broadcast.jl:47; _bcs1(::Base.OneTo{Int64},...\n",
      "               8 ./broadcast.jl:34; broadcast_shape(::Tuple{Ba...\n",
      "                1 ./broadcast.jl:40; _bcs\n",
      "                1 ./broadcast.jl:41; _bcs\n",
      "                 1 ./broadcast.jl:40; _bcs\n",
      "                  1 ./broadcast.jl:47; _bcs1(::Base.OneTo{Int64...\n",
      "              5   ./tuple.jl:92; map(::Base.#indices, ::Tu...\n",
      "          228 .../GynC/src/model.jl:158; llh_measerror\n",
      "           13  ./arraymath.jl:30; !(::Array{Bool,2})\n",
      "           23  ./arraymath.jl:31; !(::Array{Bool,2})\n",
      "            2 ./abstractarray.jl:680; eachindex\n",
      "             2 ./abstractarray.jl:690; eachindex\n",
      "              2 ./abstractarray.jl:92; linearindices\n",
      "           53  ./arraymath.jl:32; !(::Array{Bool,2})\n",
      "           1   ./operators.jl:0; isnan(::Array{Float64,2})\n",
      "           126 ./operators.jl:555; isnan(::Array{Float64,2})\n",
      "            1   ./array.jl:0; collect(::Base.Generator{A...\n",
      "            2   ./array.jl:304; collect(::Base.Generator{A...\n",
      "            2   ./array.jl:307; collect(::Base.Generator{A...\n",
      "             2 ./generator.jl:25; next\n",
      "            119 ./array.jl:308; collect(::Base.Generator{A...\n",
      "             1  ./array.jl:0; _array_for(::Type{Bool}, :...\n",
      "             19 ./array.jl:295; _array_for(::Type{Bool}, :...\n",
      "             8  ./array.jl:339; collect_to!(::Array{Bool,2...\n",
      "             70 ./array.jl:340; collect_to!(::Array{Bool,2...\n",
      "              53 ./generator.jl:25; next\n",
      "             15 ./array.jl:343; collect_to!(::Array{Bool,2...\n",
      "             3  ./array.jl:326; collect_to_with_first!\n",
      "            2   ./array.jl:353; collect_to!(::Array{Bool,2...\n",
      "          239 .../GynC/src/model.jl:160; llh_measerror\n",
      "           2   ./abstractarray.jl:0; getindex(::Array{Float64,2}...\n",
      "           187 ./abstractarray.jl:752; getindex(::Array{Float64,2}...\n",
      "            2  ...ltidimensional.jl:275; _getindex\n",
      "             1 ./abstractarray.jl:284; checkbounds\n",
      "              1 ./abstractarray.jl:0; checkbounds_logical(::Type{...\n",
      "            21 ...ltidimensional.jl:321; _unsafe_getindex(::Base.Lin...\n",
      "             21 ...ltidimensional.jl:224; index_shape\n",
      "              21 ...ltidimensional.jl:235; index_shape_dim\n",
      "               21 ./reduce.jl:510; count(::Base.##214#215, :...\n",
      "            25 ...ltidimensional.jl:322; _unsafe_getindex(::Base.Lin...\n",
      "            1  ...ltidimensional.jl:327; _unsafe_getindex(::Base.Lin...\n",
      "             1 ./abstractarray.jl:92; linearindices\n",
      "            23 ...ltidimensional.jl:328; _unsafe_getindex(::Base.Lin...\n",
      "             2 ./abstractarray.jl:680; eachindex\n",
      "              2 ./abstractarray.jl:690; eachindex\n",
      "               2 ./abstractarray.jl:92; linearindices\n",
      "                2 ./abstractarray.jl:126; _length(::Array{Bool,2})\n",
      "            1  ...ltidimensional.jl:329; _unsafe_getindex(::Base.Lin...\n",
      "            2  ...ltidimensional.jl:330; _unsafe_getindex(::Base.Lin...\n",
      "            8  ...ltidimensional.jl:331; _unsafe_getindex(::Base.Lin...\n",
      "            99 ...ltidimensional.jl:332; _unsafe_getindex(::Base.Lin...\n",
      "            2  ...ltidimensional.jl:335; _unsafe_getindex(::Base.Lin...\n",
      "            2  ./reduce.jl:513; count(::Base.##214#215, ::A...\n",
      "           2   ./float.jl:237; -(::Float64)\n",
      "           1   ...ltidimensional.jl:335; _unsafe_getindex(::Base.Lin...\n",
      "           1   ./reduce.jl:0; sumabs2(::Array{Float64,1})\n",
      "           12  ./reduce.jl:232; sumabs2(::Array{Float64,1})\n",
      "            12 ./reduce.jl:162; _mapreduce(::Base.#abs2, ::...\n",
      "             12 ./reduce.jl:102; mapreduce_impl(::Base.#abs...\n",
      "              1 ./simdloop.jl:66; macro expansion\n",
      "              1 ./simdloop.jl:71; macro expansion\n",
      "              8 ./simdloop.jl:73; macro expansion\n",
      "               7 ./reduce.jl:104; macro expansion\n",
      "               1 ./simdloop.jl:71; macro expansion\n",
      "              2 ./simdloop.jl:74; macro expansion\n",
      "         39   ./generator.jl:25; next\n",
      "          38 ./iterator.jl:538; next\n",
      "           3  ./iterator.jl:523; prod_next\n",
      "           1  ./iterator.jl:526; prod_next\n",
      "           1  ./iterator.jl:527; prod_next\n",
      "           33 ./iterator.jl:535; prod_next\n",
      "        6    ./array.jl:343; collect_to!(::Array{Float64,...\n",
      "1    ./task.jl:191; task_done_hook(::Task)\n",
      " 1 ./event.jl:165; wait()\n"
     ]
    }
   ],
   "source": [
    "Profile.clear()\n",
    "ssmall = s[1:5:end,:]\n",
    "@profile GynC.hzobj(ssmall, gooddata)\n",
    "Profile.print()"
   ]
  },
  {
   "cell_type": "code",
   "execution_count": null,
   "metadata": {
    "collapsed": true
   },
   "outputs": [],
   "source": []
  },
  {
   "cell_type": "code",
   "execution_count": 8,
   "metadata": {
    "collapsed": false
   },
   "outputs": [
    {
     "ename": "LoadError",
     "evalue": "LoadError: UndefVarError: h not defined\nwhile loading In[8], in expression starting on line 1",
     "output_type": "error",
     "traceback": [
      "LoadError: UndefVarError: h not defined\nwhile loading In[8], in expression starting on line 1",
      ""
     ]
    }
   ],
   "source": [
    "GynC.logLw(w,hz.Ld)"
   ]
  },
  {
   "cell_type": "code",
   "execution_count": 9,
   "metadata": {
    "collapsed": false
   },
   "outputs": [
    {
     "ename": "LoadError",
     "evalue": "LoadError: UndefVarError: h not defined\nwhile loading In[9], in expression starting on line 1",
     "output_type": "error",
     "traceback": [
      "LoadError: UndefVarError: h not defined\nwhile loading In[9], in expression starting on line 1",
      ""
     ]
    }
   ],
   "source": [
    "GynC.Hz(w,hz.Lz)"
   ]
  },
  {
   "cell_type": "code",
   "execution_count": 10,
   "metadata": {
    "collapsed": false
   },
   "outputs": [
    {
     "name": "stdout",
     "output_type": "stream",
     "text": [
      "  0.365540 seconds (194.90 k allocations: 7.280 MB, 6.33% gc time)\n"
     ]
    },
    {
     "data": {
      "text/plain": [
       "6.667166661713814"
      ]
     },
     "execution_count": 10,
     "metadata": {},
     "output_type": "execute_result"
    }
   ],
   "source": [
    "@time hz(w)"
   ]
  },
  {
   "cell_type": "code",
   "execution_count": 17,
   "metadata": {
    "collapsed": false
   },
   "outputs": [
    {
     "name": "stderr",
     "output_type": "stream",
     "text": [
      "WARNING: Method definition gradify(Any, Any) in module Main at In[11]:4 overwritten at In[17]:4.\n"
     ]
    }
   ],
   "source": [
    "using ForwardDiff\n",
    "\n",
    "function gradify(f, x)\n",
    "  out=GradientResult(x)\n",
    "  function df(x)\n",
    "    ForwardDiff.gradient!(out, f, x)\n",
    "    ForwardDiff.value(out), ForwardDiff.gradient(out)\n",
    "  end\n",
    "end\n",
    "\n",
    "Dhz = gradify(hz, w0);"
   ]
  },
  {
   "cell_type": "code",
   "execution_count": 18,
   "metadata": {
    "collapsed": false
   },
   "outputs": [
    {
     "name": "stdout",
     "output_type": "stream",
     "text": [
      " 32.159642 seconds (4.53 M allocations: 418.968 MB, 0.85% gc time)\n"
     ]
    },
    {
     "data": {
      "text/plain": [
       "(6.667166661713807,[50.8598,48.0908,69.6125,65.7687,13.4936,80.9746,24.7552,25.9802,48.2414,66.7631  …  69.9181,46.3816,59.8503,43.2466,45.9096,51.3647,74.0958,60.9753,52.2571,15.4686])"
      ]
     },
     "execution_count": 18,
     "metadata": {},
     "output_type": "execute_result"
    }
   ],
   "source": [
    "@time h, grad = Dhz(w)"
   ]
  },
  {
   "cell_type": "code",
   "execution_count": 19,
   "metadata": {
    "collapsed": false
   },
   "outputs": [
    {
     "name": "stdout",
     "output_type": "stream",
     "text": [
      "  0.127912 seconds (53.57 k allocations: 2.226 MB)\n"
     ]
    },
    {
     "data": {
      "text/plain": [
       "2238-element Array{Float64,1}:\n",
       "  0.0015257  \n",
       "  0.000291196\n",
       "  0.00988625 \n",
       "  0.00817256 \n",
       " -0.0151333  \n",
       "  0.0149518  \n",
       " -0.0101125  \n",
       " -0.00956641 \n",
       "  0.000358317\n",
       "  0.0086159  \n",
       "  0.0028039  \n",
       "  0.00433074 \n",
       "  0.00373588 \n",
       "  ⋮          \n",
       " -0.000465649\n",
       " -0.000143212\n",
       "  0.0100225  \n",
       " -0.00047082 \n",
       "  0.00553392 \n",
       " -0.00186849 \n",
       " -0.000681265\n",
       "  0.0017508  \n",
       "  0.0118851  \n",
       "  0.0060355  \n",
       "  0.00214866 \n",
       " -0.0142528  "
      ]
     },
     "execution_count": 19,
     "metadata": {},
     "output_type": "execute_result"
    }
   ],
   "source": [
    "@time GynC.psi_S(w, grad)"
   ]
  },
  {
   "cell_type": "code",
   "execution_count": 25,
   "metadata": {
    "collapsed": false
   },
   "outputs": [
    {
     "name": "stderr",
     "output_type": "stream",
     "text": [
      "WARNING: Method definition pseudoeuler(Any) in module Main at In[23]:2 overwritten at In[25]:2.\n",
      "WARNING: Method definition #pseudoeuler(Array{Any, 1}, Main.#pseudoeuler, Any) in module Main overwritten.\n",
      "WARNING: Method definition projectscale(Any) in module Main at In[23]:6 overwritten at In[25]:6.\n"
     ]
    },
    {
     "data": {
      "text/plain": [
       "projectscale (generic function with 1 method)"
      ]
     },
     "execution_count": 25,
     "metadata": {},
     "output_type": "execute_result"
    }
   ],
   "source": [
    "function pseudoeuler(w; h=1, project=projectscale)\n",
    "    _,df = Dhz(w)\n",
    "    project(w+h*df)\n",
    "end\n",
    "\n",
    "projectscale(w) = w/sum(w)"
   ]
  },
  {
   "cell_type": "code",
   "execution_count": 26,
   "metadata": {
    "collapsed": false
   },
   "outputs": [
    {
     "name": "stdout",
     "output_type": "stream",
     "text": [
      " 30.165283 seconds (3.02 M allocations: 361.684 MB, 0.67% gc time)\n"
     ]
    },
    {
     "data": {
      "text/plain": [
       "2238-element Array{Float64,1}:\n",
       " 0.00046913 \n",
       " 0.000443611\n",
       " 0.000641953\n",
       " 0.000606529\n",
       " 0.000124766\n",
       " 0.000746665\n",
       " 0.000228553\n",
       " 0.000239842\n",
       " 0.000444999\n",
       " 0.000615693\n",
       " 0.000495552\n",
       " 0.000527114\n",
       " 0.000514817\n",
       " ⋮          \n",
       " 0.000427966\n",
       " 0.000434631\n",
       " 0.000644769\n",
       " 0.000427859\n",
       " 0.000551985\n",
       " 0.000398968\n",
       " 0.000423509\n",
       " 0.000473783\n",
       " 0.000683271\n",
       " 0.000562353\n",
       " 0.000482007\n",
       " 0.000142968"
      ]
     },
     "execution_count": 26,
     "metadata": {},
     "output_type": "execute_result"
    }
   ],
   "source": [
    "@time pseudoeuler(w0, h=0.01)"
   ]
  },
  {
   "cell_type": "code",
   "execution_count": 27,
   "metadata": {
    "collapsed": false
   },
   "outputs": [
    {
     "data": {
      "text/html": [
       "<img src=\"data:image/png;base64,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\" />"
      ]
     },
     "execution_count": 27,
     "metadata": {},
     "output_type": "execute_result"
    },
    {
     "name": "stderr",
     "output_type": "stream",
     "text": [
      "/usr/lib/python2.7/dist-packages/matplotlib/font_manager.py:1288: UserWarning: findfont: Font family [u'Helvetica'] not found. Falling back to Bitstream Vera Sans\n",
      "  (prop.get_family(), self.defaultFamily[fontext]))\n"
     ]
    }
   ],
   "source": [
    "using Plots\n",
    "niter=3\n",
    "p=plot(xaxis=:log)\n",
    "for h=[1, 0.1, 0.01, 0.001, 0.0001]\n",
    "  wn=w0\n",
    "  hzs=[hz(wn)]\n",
    "  for i=1:niter\n",
    "      wn = pseudoeuler(wn, h=h)\n",
    "      any(wn .< 0) && warn(\"negative weights\")\n",
    "      push!(hzs, hz(wn))\n",
    "  end\n",
    "  plot!(p,hzs, label=h)\n",
    "end\n",
    "p"
   ]
  },
  {
   "cell_type": "code",
   "execution_count": 28,
   "metadata": {
    "collapsed": false
   },
   "outputs": [],
   "source": [
    "using Iterators"
   ]
  },
  {
   "cell_type": "code",
   "execution_count": 49,
   "metadata": {
    "collapsed": false
   },
   "outputs": [
    {
     "name": "stdout",
     "output_type": "stream",
     "text": [
      "6045.886126 seconds (604.15 M allocations: 70.592 GB, 0.71% gc time)\n"
     ]
    },
    {
     "data": {
      "text/plain": [
       "2×5 Array{Array{Any,1},2}:\n",
       " Any[[0.000445831,0.000445831,0.000445831,0.000445831,0.000445831,0.000445831,0.000445831,0.000445831,0.000445831,0.000445831  …  0.000445831,0.000445831,0.000445831,0.000445831,0.000445831,0.000445831,0.000445831,0.000445831,0.000445831,0.000445831],[0.000469149,0.000443609,0.000642116,0.000606662,0.0001245,0.000746915,0.000228372,0.000239671,0.000444998,0.000615834  …  0.000644934,0.000427844,0.000552073,0.000398929,0.000423491,0.000473806,0.000683468,0.00056245,0.000482037,0.000142717],[0.000477578,0.000453279,0.000642527,0.000608653,0.00015522,0.000742794,0.000250535,0.000261061,0.000454605,0.000613923  …  0.000645221,0.000438273,0.000556482,0.000410824,0.000434205,0.000481825,0.000682075,0.000566444,0.000490036,0.000171648],[0.000473124,0.000448022,0.000643499,0.000608518,0.000138593,0.000747031,0.00023813,0.000249058,0.00044939,0.0006149  …  0.000646281,0.000432508,0.000554644,0.000404142,0.000428298,0.000477544,0.000684325,0.000564927,0.000486131,0.000155877],[0.000477198,0.000452708,0.000643445,0.000609307,0.000151516,0.000744488,0.000248139,0.000258775,0.000454043,0.000615247  …  0.00064616,0.000437575,0.000556736,0.000409916,0.000433474,0.00048152,0.000683292,0.00056677,0.000489897,0.000168243],[0.000474565,0.000449526,0.000644509,0.000609616,0.000141057,0.000747782,0.000240221,0.000251115,0.000450891,0.000615786  …  0.000647284,0.000434054,0.000555876,0.000405759,0.000429855,0.000478964,0.000685234,0.000566134,0.000487521,0.000158261],[0.000477016,0.000452413,0.000644031,0.000609736,0.000149722,0.000745539,0.000246864,0.000257553,0.000453754,0.000615754  …  0.000646759,0.000437208,0.000556922,0.000409418,0.000433087,0.000481354,0.000684061,0.000567002,0.000489773,0.000166547],[0.000475251,0.000450269,0.000644818,0.000610002,0.000142566,0.000747864,0.000241455,0.000252322,0.000451631,0.000616138  …  0.000647587,0.000434832,0.000556381,0.000406602,0.000430643,0.000479642,0.000685454,0.000566616,0.000488183,0.000159718],[0.000476859,0.000452184,0.000644363,0.000609969,0.000148543,0.000746166,0.000246014,0.000256736,0.000453529,0.000616009  …  0.000647099,0.000436935,0.000557,0.00040906,0.000432801,0.000481207,0.000684509,0.00056711,0.000489651,0.000165429],[0.000475636,0.000450697,0.000644915,0.000610157,0.00014357,0.000747787,0.000242256,0.000253102,0.000452056,0.000616278  …  0.000647679,0.000435286,0.000556627,0.000407106,0.000431105,0.000480021,0.000685482,0.000566845,0.000488549,0.000160684],[0.000476728,0.000452004,0.000644553,0.000610093,0.000147736,0.00074655,0.000245424,0.000256169,0.000453352,0.000616147  …  0.000647294,0.000436726,0.000557022,0.000408796,0.000432583,0.000481082,0.000684775,0.000567152,0.000489541,0.000164662],[0.00047587,0.000450962,0.000644936,0.000610222,0.000144258,0.00074768,0.000242795,0.000253626,0.00045232,0.000616332  …  0.000647697,0.000435571,0.000556759,0.000407428,0.000431395,0.00048025,0.000685452,0.000566964,0.000488768,0.000161343],[0.000476622,0.000451867,0.000644665,0.00061016,0.000147174,0.000746792,0.00024501,0.00025577,0.000453216,0.000616223  …  0.000647409,0.000436569,0.000557021,0.000408602,0.00043242,0.000480981,0.000684938,0.000567164,0.000489451,0.000164128],[0.000476018,0.000451134,0.00064493,0.000610248,0.000144735,0.000747582,0.000243165,0.000253985,0.00045249,0.00061635  …  0.000647688,0.000435756,0.000556834,0.00040764,0.000431585,0.000480396,0.00068541,0.000567029,0.000488907,0.0001618],[0.000476542,0.000451764,0.000644732,0.000610197,0.000146782,0.000746949,0.000244718,0.000255488,0.000453115,0.000616267  …  0.000647479,0.000436452,0.000557011,0.00040846,0.0004323,0.000480903,0.000685041,0.000567163,0.00048938,0.000163754],[0.000476116,0.000451248,0.000644917,0.000610257,0.000145068,0.000747501,0.000243421,0.000254234,0.000452603,0.000616354  …  0.000647673,0.00043588,0.000556878,0.000407783,0.000431712,0.000480491,0.00068537,0.000567067,0.000488997,0.000162119],[0.000476481,0.000451688,0.000644774,0.000610218,0.000146506,0.000747053,0.000244511,0.000255289,0.00045304,0.000616293  …  0.000647523,0.000436367,0.000557,0.000408357,0.000432213,0.000480845,0.000685107,0.000567158,0.000489327,0.000163492],[0.000476181,0.000451325,0.000644903,0.000610259,0.000145301,0.00074744,0.0002436,0.000254407,0.00045268,0.000616353  …  0.000647658,0.000435965,0.000556905,0.000407881,0.000431798,0.000480554,0.000685337,0.000567089,0.000489056,0.000162342],[0.000476437,0.000451634,0.000644801,0.000610231,0.000146312,0.000747123,0.000244366,0.000255148,0.000452986,0.000616308  …  0.000647551,0.000436306,0.00055699,0.000408284,0.000432149,0.000480803,0.000685151,0.000567152,0.000489288,0.000163307],[0.000476226,0.000451377,0.000644891,0.000610259,0.000145464,0.000747394,0.000243725,0.000254528,0.000452732,0.00061635  …  0.000647645,0.000436023,0.000556922,0.000407948,0.000431858,0.000480597,0.000685312,0.000567103,0.000489097,0.000162498]]  …  Any[[0.000445831,0.000445831,0.000445831,0.000445831,0.000445831,0.000445831,0.000445831,0.000445831,0.000445831,0.000445831  …  0.000445831,0.000445831,0.000445831,0.000445831,0.000445831,0.000445831,0.000445831,0.000445831,0.000445831,0.000445831],[0.000457962,0.000444675,0.000547943,0.000529499,0.000278668,0.000602461,0.000332705,0.000338583,0.000445398,0.00053427  …  0.000549409,0.000436474,0.000501101,0.000421432,0.000434209,0.000460385,0.000569455,0.000506499,0.000464666,0.000288145],[0.000468124,0.000448804,0.000598997,0.000572161,0.000208028,0.000678348,0.000286292,0.000294813,0.000449856,0.000577819  …  0.00060113,0.000436881,0.000530828,0.000415015,0.000433606,0.000471593,0.000630305,0.0005387,0.000477928,0.000221739],[0.000472683,0.000450465,0.000623265,0.000592374,0.0001745,0.000714638,0.000263956,0.000273716,0.000451676,0.000598317  …  0.000625721,0.00043675,0.000544792,0.000411616,0.000432999,0.00047663,0.000659311,0.000553864,0.000484019,0.000190137],[0.000474666,0.000451063,0.000634729,0.000601881,0.000158764,0.000731911,0.000253239,0.000263571,0.000452349,0.000607921  …  0.000637341,0.000436486,0.000551288,0.000409795,0.000432513,0.000478838,0.000673061,0.000560939,0.000486769,0.000175237],[0.000475562,0.000451306,0.000640111,0.000606335,0.000151618,0.000740056,0.000248252,0.000258841,0.000452629,0.000612406  …  0.000642797,0.000436323,0.000554314,0.000408904,0.000432247,0.000479839,0.000679529,0.00056424,0.000488046,0.000168431],[0.000475974,0.000451413,0.000642632,0.000608419,0.000148421,0.000743884,0.00024596,0.000256663,0.000452752,0.000614499  …  0.000645353,0.000436239,0.000555724,0.000408481,0.000432117,0.000480299,0.000682564,0.000565781,0.000488647,0.000165365],[0.000476163,0.00045146,0.000643813,0.000609393,0.000146995,0.000745682,0.000244908,0.000255662,0.000452807,0.000615477  …  0.000646551,0.000436197,0.000556382,0.000408282,0.000432053,0.000480511,0.000683986,0.0005665,0.000488931,0.000163988],[0.00047625,0.000451481,0.000644366,0.000609849,0.00014636,0.000746526,0.000244426,0.000255202,0.000452831,0.000615933  …  0.000647111,0.000436175,0.000556688,0.000408187,0.000432022,0.000480609,0.000684653,0.000566835,0.000489065,0.00016337],[0.00047629,0.00045149,0.000644625,0.000610062,0.000146078,0.000746923,0.000244205,0.000254991,0.000452842,0.000616147  …  0.000647374,0.000436165,0.000556831,0.000408143,0.000432007,0.000480655,0.000684966,0.000566991,0.000489129,0.000163092],[0.000476309,0.000451494,0.000644747,0.000610162,0.000145952,0.000747109,0.000244104,0.000254894,0.000452846,0.000616247  …  0.000647497,0.000436159,0.000556898,0.000408122,0.000432,0.000480676,0.000685113,0.000567065,0.000489159,0.000162968],[0.000476318,0.000451496,0.000644804,0.000610209,0.000145896,0.000747197,0.000244057,0.000254849,0.000452849,0.000616294  …  0.000647555,0.000436157,0.000556929,0.000408112,0.000431996,0.000480685,0.000685182,0.000567099,0.000489174,0.000162912],[0.000476322,0.000451497,0.000644831,0.000610231,0.000145871,0.000747239,0.000244036,0.000254829,0.00045285,0.000616316  …  0.000647583,0.000436156,0.000556944,0.000408108,0.000431995,0.00048069,0.000685215,0.000567115,0.000489181,0.000162888],[0.000476324,0.000451497,0.000644843,0.000610241,0.00014586,0.000747258,0.000244026,0.00025482,0.00045285,0.000616326  …  0.000647596,0.000436155,0.000556951,0.000408106,0.000431994,0.000480692,0.00068523,0.000567123,0.000489184,0.000162876],[0.000476325,0.000451497,0.00064485,0.000610246,0.000145855,0.000747268,0.000244022,0.000254816,0.000452851,0.000616331  …  0.000647602,0.000436155,0.000556954,0.000408105,0.000431994,0.000480694,0.000685238,0.000567127,0.000489186,0.000162871],[0.000476325,0.000451498,0.000644853,0.000610249,0.000145853,0.000747272,0.00024402,0.000254814,0.000452851,0.000616334  …  0.000647605,0.000436155,0.000556956,0.000408105,0.000431994,0.000480694,0.000685241,0.000567128,0.000489187,0.000162869],[0.000476325,0.000451498,0.000644854,0.00061025,0.000145852,0.000747274,0.000244019,0.000254813,0.000452851,0.000616335  …  0.000647606,0.000436155,0.000556957,0.000408105,0.000431994,0.000480694,0.000685243,0.000567129,0.000489187,0.000162868],[0.000476326,0.000451498,0.000644855,0.00061025,0.000145852,0.000747276,0.000244019,0.000254812,0.000452851,0.000616335  …  0.000647607,0.000436155,0.000556957,0.000408105,0.000431994,0.000480695,0.000685244,0.00056713,0.000489188,0.000162868],[0.000476326,0.000451498,0.000644855,0.000610251,0.000145852,0.000747276,0.000244019,0.000254812,0.000452851,0.000616336  …  0.000647607,0.000436155,0.000556957,0.000408105,0.000431994,0.000480695,0.000685244,0.00056713,0.000489188,0.000162868],[0.000476326,0.000451498,0.000644855,0.000610251,0.000145851,0.000747276,0.000244019,0.000254812,0.000452851,0.000616336  …  0.000647607,0.000436155,0.000556958,0.000408105,0.000431994,0.000480695,0.000685244,0.00056713,0.000489188,0.000162868]]\n",
       " Any[[0.000445831,0.000445831,0.000445831,0.000445831,0.000445831,0.000445831,0.000445831,0.000445831,0.000445831,0.000445831  …  0.000445831,0.000445831,0.000445831,0.000445831,0.000445831,0.000445831,0.000445831,0.000445831,0.000445831,0.000445831],[0.000469149,0.000443609,0.000642116,0.000606662,0.0001245,0.000746915,0.000228372,0.000239671,0.000444998,0.000615834  …  0.000644934,0.000427844,0.000552073,0.000398929,0.000423491,0.000473806,0.000683468,0.00056245,0.000482037,0.000142717],[0.000477578,0.000453279,0.000642527,0.000608653,0.00015522,0.000742794,0.000250535,0.000261061,0.000454605,0.000613923  …  0.000645221,0.000438273,0.000556482,0.000410824,0.000434205,0.000481825,0.000682075,0.000566444,0.000490036,0.000171648],[0.000473124,0.000448022,0.000643499,0.000608518,0.000138593,0.000747031,0.00023813,0.000249058,0.00044939,0.0006149  …  0.000646281,0.000432508,0.000554644,0.000404142,0.000428298,0.000477544,0.000684325,0.000564927,0.000486131,0.000155877],[0.000477198,0.000452708,0.000643445,0.000609307,0.000151516,0.000744488,0.000248139,0.000258775,0.000454043,0.000615247  …  0.00064616,0.000437575,0.000556736,0.000409916,0.000433474,0.00048152,0.000683292,0.00056677,0.000489897,0.000168243],[0.000474565,0.000449526,0.000644509,0.000609616,0.000141057,0.000747782,0.000240221,0.000251115,0.000450891,0.000615786  …  0.000647284,0.000434054,0.000555876,0.000405759,0.000429855,0.000478964,0.000685234,0.000566134,0.000487521,0.000158261],[0.000477016,0.000452413,0.000644031,0.000609736,0.000149722,0.000745539,0.000246864,0.000257553,0.000453754,0.000615754  …  0.000646759,0.000437208,0.000556922,0.000409418,0.000433087,0.000481354,0.000684061,0.000567002,0.000489773,0.000166547],[0.000475251,0.000450269,0.000644818,0.000610002,0.000142566,0.000747864,0.000241455,0.000252322,0.000451631,0.000616138  …  0.000647587,0.000434832,0.000556381,0.000406602,0.000430643,0.000479642,0.000685454,0.000566616,0.000488183,0.000159718],[0.000476859,0.000452184,0.000644363,0.000609969,0.000148543,0.000746166,0.000246014,0.000256736,0.000453529,0.000616009  …  0.000647099,0.000436935,0.000557,0.00040906,0.000432801,0.000481207,0.000684509,0.00056711,0.000489651,0.000165429],[0.000475636,0.000450697,0.000644915,0.000610157,0.00014357,0.000747787,0.000242256,0.000253102,0.000452056,0.000616278  …  0.000647679,0.000435286,0.000556627,0.000407106,0.000431105,0.000480021,0.000685482,0.000566845,0.000488549,0.000160684],[0.000476728,0.000452004,0.000644553,0.000610093,0.000147736,0.00074655,0.000245424,0.000256169,0.000453352,0.000616147  …  0.000647294,0.000436726,0.000557022,0.000408796,0.000432583,0.000481082,0.000684775,0.000567152,0.000489541,0.000164662],[0.00047587,0.000450962,0.000644936,0.000610222,0.000144258,0.00074768,0.000242795,0.000253626,0.00045232,0.000616332  …  0.000647697,0.000435571,0.000556759,0.000407428,0.000431395,0.00048025,0.000685452,0.000566964,0.000488768,0.000161343],[0.000476622,0.000451867,0.000644665,0.00061016,0.000147174,0.000746792,0.00024501,0.00025577,0.000453216,0.000616223  …  0.000647409,0.000436569,0.000557021,0.000408602,0.00043242,0.000480981,0.000684938,0.000567164,0.000489451,0.000164128],[0.000476018,0.000451134,0.00064493,0.000610248,0.000144735,0.000747582,0.000243165,0.000253985,0.00045249,0.00061635  …  0.000647688,0.000435756,0.000556834,0.00040764,0.000431585,0.000480396,0.00068541,0.000567029,0.000488907,0.0001618],[0.000476542,0.000451764,0.000644732,0.000610197,0.000146782,0.000746949,0.000244718,0.000255488,0.000453115,0.000616267  …  0.000647479,0.000436452,0.000557011,0.00040846,0.0004323,0.000480903,0.000685041,0.000567163,0.00048938,0.000163754],[0.000476116,0.000451248,0.000644917,0.000610257,0.000145068,0.000747501,0.000243421,0.000254234,0.000452603,0.000616354  …  0.000647673,0.00043588,0.000556878,0.000407783,0.000431712,0.000480491,0.00068537,0.000567067,0.000488997,0.000162119],[0.000476481,0.000451688,0.000644774,0.000610218,0.000146506,0.000747053,0.000244511,0.000255289,0.00045304,0.000616293  …  0.000647523,0.000436367,0.000557,0.000408357,0.000432213,0.000480845,0.000685107,0.000567158,0.000489327,0.000163492],[0.000476181,0.000451325,0.000644903,0.000610259,0.000145301,0.00074744,0.0002436,0.000254407,0.00045268,0.000616353  …  0.000647658,0.000435965,0.000556905,0.000407881,0.000431798,0.000480554,0.000685337,0.000567089,0.000489056,0.000162342],[0.000476437,0.000451634,0.000644801,0.000610231,0.000146312,0.000747123,0.000244366,0.000255148,0.000452986,0.000616308  …  0.000647551,0.000436306,0.00055699,0.000408284,0.000432149,0.000480803,0.000685151,0.000567152,0.000489288,0.000163307],[0.000476226,0.000451377,0.000644891,0.000610259,0.000145464,0.000747394,0.000243725,0.000254528,0.000452732,0.00061635  …  0.000647645,0.000436023,0.000556922,0.000407948,0.000431858,0.000480597,0.000685312,0.000567103,0.000489097,0.000162498]]     Any[[0.000445831,0.000445831,0.000445831,0.000445831,0.000445831,0.000445831,0.000445831,0.000445831,0.000445831,0.000445831  …  0.000445831,0.000445831,0.000445831,0.000445831,0.000445831,0.000445831,0.000445831,0.000445831,0.000445831,0.000445831],[0.000457962,0.000444675,0.000547943,0.000529499,0.000278668,0.000602461,0.000332705,0.000338583,0.000445398,0.00053427  …  0.000549409,0.000436474,0.000501101,0.000421432,0.000434209,0.000460385,0.000569455,0.000506499,0.000464666,0.000288145],[0.000468124,0.000448804,0.000598997,0.000572161,0.000208028,0.000678348,0.000286292,0.000294813,0.000449856,0.000577819  …  0.00060113,0.000436881,0.000530828,0.000415015,0.000433606,0.000471593,0.000630305,0.0005387,0.000477928,0.000221739],[0.000472683,0.000450465,0.000623265,0.000592374,0.0001745,0.000714638,0.000263956,0.000273716,0.000451676,0.000598317  …  0.000625721,0.00043675,0.000544792,0.000411616,0.000432999,0.00047663,0.000659311,0.000553864,0.000484019,0.000190137],[0.000474666,0.000451063,0.000634729,0.000601881,0.000158764,0.000731911,0.000253239,0.000263571,0.000452349,0.000607921  …  0.000637341,0.000436486,0.000551288,0.000409795,0.000432513,0.000478838,0.000673061,0.000560939,0.000486769,0.000175237],[0.000475562,0.000451306,0.000640111,0.000606335,0.000151618,0.000740056,0.000248252,0.000258841,0.000452629,0.000612406  …  0.000642797,0.000436323,0.000554314,0.000408904,0.000432247,0.000479839,0.000679529,0.00056424,0.000488046,0.000168431],[0.000475974,0.000451413,0.000642632,0.000608419,0.000148421,0.000743884,0.00024596,0.000256663,0.000452752,0.000614499  …  0.000645353,0.000436239,0.000555724,0.000408481,0.000432117,0.000480299,0.000682564,0.000565781,0.000488647,0.000165365],[0.000476163,0.00045146,0.000643813,0.000609393,0.000146995,0.000745682,0.000244908,0.000255662,0.000452807,0.000615477  …  0.000646551,0.000436197,0.000556382,0.000408282,0.000432053,0.000480511,0.000683986,0.0005665,0.000488931,0.000163988],[0.00047625,0.000451481,0.000644366,0.000609849,0.00014636,0.000746526,0.000244426,0.000255202,0.000452831,0.000615933  …  0.000647111,0.000436175,0.000556688,0.000408187,0.000432022,0.000480609,0.000684653,0.000566835,0.000489065,0.00016337],[0.00047629,0.00045149,0.000644625,0.000610062,0.000146078,0.000746923,0.000244205,0.000254991,0.000452842,0.000616147  …  0.000647374,0.000436165,0.000556831,0.000408143,0.000432007,0.000480655,0.000684966,0.000566991,0.000489129,0.000163092],[0.000476309,0.000451494,0.000644747,0.000610162,0.000145952,0.000747109,0.000244104,0.000254894,0.000452846,0.000616247  …  0.000647497,0.000436159,0.000556898,0.000408122,0.000432,0.000480676,0.000685113,0.000567065,0.000489159,0.000162968],[0.000476318,0.000451496,0.000644804,0.000610209,0.000145896,0.000747197,0.000244057,0.000254849,0.000452849,0.000616294  …  0.000647555,0.000436157,0.000556929,0.000408112,0.000431996,0.000480685,0.000685182,0.000567099,0.000489174,0.000162912],[0.000476322,0.000451497,0.000644831,0.000610231,0.000145871,0.000747239,0.000244036,0.000254829,0.00045285,0.000616316  …  0.000647583,0.000436156,0.000556944,0.000408108,0.000431995,0.00048069,0.000685215,0.000567115,0.000489181,0.000162888],[0.000476324,0.000451497,0.000644843,0.000610241,0.00014586,0.000747258,0.000244026,0.00025482,0.00045285,0.000616326  …  0.000647596,0.000436155,0.000556951,0.000408106,0.000431994,0.000480692,0.00068523,0.000567123,0.000489184,0.000162876],[0.000476325,0.000451497,0.00064485,0.000610246,0.000145855,0.000747268,0.000244022,0.000254816,0.000452851,0.000616331  …  0.000647602,0.000436155,0.000556954,0.000408105,0.000431994,0.000480694,0.000685238,0.000567127,0.000489186,0.000162871],[0.000476325,0.000451498,0.000644853,0.000610249,0.000145853,0.000747272,0.00024402,0.000254814,0.000452851,0.000616334  …  0.000647605,0.000436155,0.000556956,0.000408105,0.000431994,0.000480694,0.000685241,0.000567128,0.000489187,0.000162869],[0.000476325,0.000451498,0.000644854,0.00061025,0.000145852,0.000747274,0.000244019,0.000254813,0.000452851,0.000616335  …  0.000647606,0.000436155,0.000556957,0.000408105,0.000431994,0.000480694,0.000685243,0.000567129,0.000489187,0.000162868],[0.000476326,0.000451498,0.000644855,0.00061025,0.000145852,0.000747276,0.000244019,0.000254812,0.000452851,0.000616335  …  0.000647607,0.000436155,0.000556957,0.000408105,0.000431994,0.000480695,0.000685244,0.00056713,0.000489188,0.000162868],[0.000476326,0.000451498,0.000644855,0.000610251,0.000145852,0.000747276,0.000244019,0.000254812,0.000452851,0.000616336  …  0.000647607,0.000436155,0.000556957,0.000408105,0.000431994,0.000480695,0.000685244,0.00056713,0.000489188,0.000162868],[0.000476326,0.000451498,0.000644855,0.000610251,0.000145851,0.000747276,0.000244019,0.000254812,0.000452851,0.000616336  …  0.000647607,0.000436155,0.000556958,0.000408105,0.000431994,0.000480695,0.000685244,0.00056713,0.000489188,0.000162868]]"
      ]
     },
     "execution_count": 49,
     "metadata": {},
     "output_type": "execute_result"
    }
   ],
   "source": [
    "n = 20\n",
    "@time wns = [\n",
    "collect(take(iterate(w->project(pseudoeuler(w, h=h)), w0), n))\n",
    "for project in [projectscale, GynC.projectsimplex],\n",
    "    h = [0.1, 0.01, 0.001, 0.0001, 0.00001]]"
   ]
  },
  {
   "cell_type": "code",
   "execution_count": 61,
   "metadata": {
    "collapsed": false
   },
   "outputs": [
    {
     "data": {
      "text/html": [
       "<img src=\"data:image/png;base64,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\" />"
      ]
     },
     "execution_count": 61,
     "metadata": {},
     "output_type": "execute_result"
    }
   ],
   "source": [
    "test = map(hz, wns[2,2])\n",
    "plot(test)"
   ]
  },
  {
   "cell_type": "code",
   "execution_count": 67,
   "metadata": {
    "collapsed": false
   },
   "outputs": [
    {
     "data": {
      "text/plain": [
       "false"
      ]
     },
     "execution_count": 67,
     "metadata": {},
     "output_type": "execute_result"
    }
   ],
   "source": [
    "any(wns[2,2][2] .< 0)"
   ]
  },
  {
   "cell_type": "code",
   "execution_count": 63,
   "metadata": {
    "collapsed": false
   },
   "outputs": [
    {
     "data": {
      "text/plain": [
       "20-element Array{Any,1}:\n",
       "  6.66717\n",
       " 14.1447 \n",
       " 11.9976 \n",
       " 13.6787 \n",
       " 12.3229 \n",
       " 13.4543 \n",
       " 12.5213 \n",
       " 13.3028 \n",
       " 12.6538 \n",
       " 13.1978 \n",
       " 12.7444 \n",
       " 13.1245 \n",
       " 12.8072 \n",
       " 13.0731 \n",
       " 12.8509 \n",
       " 13.0371 \n",
       " 12.8814 \n",
       " 13.0118 \n",
       " 12.9027 \n",
       " 12.9941 "
      ]
     },
     "execution_count": 63,
     "metadata": {},
     "output_type": "execute_result"
    }
   ],
   "source": [
    "map(hz,wns[2,2])"
   ]
  },
  {
   "cell_type": "code",
   "execution_count": 51,
   "metadata": {
    "collapsed": false
   },
   "outputs": [
    {
     "data": {
      "text/html": [
       "<img src=\"data:image/png;base64,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\" />"
      ]
     },
     "execution_count": 51,
     "metadata": {},
     "output_type": "execute_result"
    }
   ],
   "source": []
  },
  {
   "cell_type": "code",
   "execution_count": null,
   "metadata": {
    "collapsed": true
   },
   "outputs": [],
   "source": [
    "weightedhist(v::Array{T<:Any,1}, w::Array{T<:Any,1}, nbins) at /home/numerik/bzfsikor/.julia/v0.5/GynC/src/plot.jl:104()"
   ]
  },
  {
   "cell_type": "code",
   "execution_count": 69,
   "metadata": {
    "collapsed": false
   },
   "outputs": [
    {
     "data": {
      "text/html": [
       "<img src=\"data:image/png;base64,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\" />"
      ]
     },
     "execution_count": 69,
     "metadata": {},
     "output_type": "execute_result"
    }
   ],
   "source": [
    "plot(wns[2,2][2])"
   ]
  },
  {
   "cell_type": "code",
   "execution_count": 68,
   "metadata": {
    "collapsed": false
   },
   "outputs": [
    {
     "data": {
      "text/html": [
       "<img src=\"data:image/png;base64,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\" />"
      ]
     },
     "execution_count": 68,
     "metadata": {},
     "output_type": "execute_result"
    }
   ],
   "source": [
    "bar(GynC.weightedhist(s[:,8], wns[2,2][2], 1000)...)"
   ]
  },
  {
   "cell_type": "code",
   "execution_count": 48,
   "metadata": {
    "collapsed": false
   },
   "outputs": [
    {
     "data": {
      "text/html": [
       "<img src=\"data:image/png;base64,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\" />"
      ]
     },
     "execution_count": 48,
     "metadata": {},
     "output_type": "execute_result"
    }
   ],
   "source": [
    "\n",
    "bar(GynC.weightedhist(s[:,8], w0, 1000)...)"
   ]
  }
 ],
 "metadata": {
  "anaconda-cloud": {},
  "kernelspec": {
   "display_name": "Julia 0.5.0",
   "language": "julia",
   "name": "julia-0.5"
  },
  "language_info": {
   "file_extension": ".jl",
   "mimetype": "application/julia",
   "name": "julia",
   "version": "0.5.0"
  }
 },
 "nbformat": 4,
 "nbformat_minor": 1
}
