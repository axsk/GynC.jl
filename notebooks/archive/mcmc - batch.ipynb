{
 "cells": [
  {
   "cell_type": "code",
   "execution_count": null,
   "metadata": {
    "collapsed": true
   },
   "outputs": [],
   "source": [
    "using GynC"
   ]
  },
  {
   "cell_type": "code",
   "execution_count": null,
   "metadata": {
    "collapsed": true
   },
   "outputs": [],
   "source": [
    "scalings = [2.0 ^ (i * 2/5) for i in -10:5]\n",
    "scalings = [2.0 ^ (i) for i in -10:0]\n",
    "\n",
    "cs = Config[Config(propvar=x*GynC.defaultpropvar, adapt=a, thin=10) for x in scalings, a in [true,false]] |> vec"
   ]
  },
  {
   "cell_type": "code",
   "execution_count": null,
   "metadata": {
    "collapsed": false,
    "scrolled": false
   },
   "outputs": [
    {
     "name": "stdout",
     "output_type": "stream",
     "text": [
      "connecting to worker 1 out of 12\r"
     ]
    }
   ],
   "source": [
    "# compare different isotropic proposals\n",
    "cs = Config[Config(Lausanne(p), propvar=GynC.uniformpropvar(v), adapt=true, thin=100) for p in 1:3, v in [0.1, 0.01, 0.001, 0.0001]]\n",
    "cs = cs[:]\n",
    "\n",
    "dir = \"/nfs/datanumerik/bzfsikor/gync/0729\"\n",
    "\n",
    "steps = [1, 10, 100, 500, 1_000, 2_000, 5_000, 10_000, 20_000, 30_000] * 1_000\n",
    "\n",
    "@time batch(cs,  steps, dir=dir)"
   ]
  },
  {
   "cell_type": "code",
   "execution_count": 11,
   "metadata": {
    "collapsed": false
   },
   "outputs": [],
   "source": [
    "JLD.save(\"data/0729/t.jld\", \"a\", [1,2])"
   ]
  }
 ],
 "metadata": {
  "anaconda-cloud": {},
  "kernelspec": {
   "display_name": "Julia 0.5.0",
   "language": "julia",
   "name": "julia-0.5"
  },
  "language_info": {
   "file_extension": ".jl",
   "mimetype": "application/julia",
   "name": "julia",
   "version": "0.5.0"
  }
 },
 "nbformat": 4,
 "nbformat_minor": 0
}
