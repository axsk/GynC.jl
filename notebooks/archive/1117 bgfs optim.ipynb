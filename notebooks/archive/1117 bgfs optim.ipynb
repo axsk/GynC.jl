{
 "cells": [
  {
   "cell_type": "code",
   "execution_count": 1,
   "metadata": {
    "collapsed": false
   },
   "outputs": [
    {
     "name": "stdout",
     "output_type": "stream",
     "text": [
      "cookie: Igr95rIySeVNcyuC\n",
      "VERSION: 0.5.0\n"
     ]
    },
    {
     "name": "stderr",
     "output_type": "stream",
     "text": [
      "WARNING: Method definition (::Type{Graphs.KeyVertex})(Int64, #K<:Any) in module Graphs at /home/numerik/bzfsikor/.julia/v0.5/Graphs/src/common.jl:12 overwritten at /home/numerik/bzfsikor/.julia/v0.5/Graphs/src/common.jl:16.\n",
      "WARNING: Method definition (::Type{Graphs.Edge})(Int64, #V<:Any, #V<:Any) in module Graphs at /home/numerik/bzfsikor/.julia/v0.5/Graphs/src/common.jl:54 overwritten at /home/numerik/bzfsikor/.julia/v0.5/Graphs/src/common.jl:60.\n",
      "WARNING: Method definition (::Type{Graphs.ExEdge})(Int64, #V<:Any, #V<:Any, Base.Dict{String, Any}) in module Graphs at /home/numerik/bzfsikor/.julia/v0.5/Graphs/src/common.jl:72 overwritten at /home/numerik/bzfsikor/.julia/v0.5/Graphs/src/common.jl:83.\n",
      "WARNING: Method definition (::Type{Graphs.TargetIterator})(#G<:Graphs.AbstractGraph, #EList<:Any) in module Graphs at /home/numerik/bzfsikor/.julia/v0.5/Graphs/src/common.jl:123 overwritten at /home/numerik/bzfsikor/.julia/v0.5/Graphs/src/common.jl:127.\n",
      "WARNING: Method definition (::Type{Graphs.SourceIterator})(#G<:Graphs.AbstractGraph, #EList<:Any) in module Graphs at /home/numerik/bzfsikor/.julia/v0.5/Graphs/src/common.jl:141 overwritten at /home/numerik/bzfsikor/.julia/v0.5/Graphs/src/common.jl:145.\n",
      "WARNING: Method definition edge_property_requirement(Graphs.AbstractEdgePropertyInspector{#T<:Any}, Graphs.AbstractGraph{#V<:Any, E<:Any}) in module Graphs at /home/numerik/bzfsikor/.julia/v0.5/Graphs/src/common.jl:164 overwritten at /home/numerik/bzfsikor/.julia/v0.5/Graphs/src/common.jl:179.\n",
      "WARNING: Method definition vertex_index(#V<:Union{Graphs.KeyVertex, Graphs.ExVertex}, Graphs.GenericGraph{#V<:Union{Graphs.KeyVertex, Graphs.ExVertex}, E<:Any, VList<:Any, EList<:Any, IncList<:Any}) in module Graphs at /home/numerik/bzfsikor/.julia/v0.5/Graphs/src/graph.jl:65 overwritten at /home/numerik/bzfsikor/.julia/v0.5/Graphs/src/graph.jl:67.\n",
      "WARNING: Method definition (::Type{Graphs.GDistanceVisitor})(#G<:Graphs.AbstractGraph, #DMap<:Any) in module Graphs at /home/numerik/bzfsikor/.julia/v0.5/Graphs/src/breadth_first_visit.jl:107 overwritten at /home/numerik/bzfsikor/.julia/v0.5/Graphs/src/breadth_first_visit.jl:111.\n"
     ]
    },
    {
     "name": "stdout",
     "output_type": "stream",
     "text": [
      "worker_arg: `--worker Igr95rIySeVNcyuC`\n"
     ]
    },
    {
     "name": "stderr",
     "output_type": "stream",
     "text": [
      "WARNING: using Plots.density in module GynC conflicts with an existing identifier.\n",
      "WARNING: Method definition require(Symbol) in module Base at loading.jl:345 overwritten in module GynC at /home/numerik/bzfsikor/.julia/v0.5/Requires/src/require.jl:12.\n"
     ]
    }
   ],
   "source": [
    "using Optim\n",
    "using GynC"
   ]
  },
  {
   "cell_type": "code",
   "execution_count": 2,
   "metadata": {
    "collapsed": false
   },
   "outputs": [
    {
     "data": {
      "text/plain": [
       "GynC.LikelihoodModel([1.0,1.33333,1.66667,2.0,2.33333,2.66667,3.0,3.33333,3.66667,4.0  …  47.0,47.3333,47.6667,48.0,48.3333,48.6667,49.0,49.3333,49.6667,50.0],[-3.66791,-1.89511,-0.277585,1.19228,2.52192,3.7185,4.78898,5.73997,6.57797,7.30911  …  3.33572,3.60772,3.87575,4.13963,4.39918,4.65423,4.90459,5.15012,5.3907,5.62618],[-3.19886,-1.11023,0.057883,1.09125,4.26642,1.65566,5.75127,6.65963,6.24926,7.14667  …  4.3628,2.74408,3.58425,5.58945,5.69783,2.82444,4.85371,4.6721,6.28832,4.40111],[6.25913,-3.27291,4.39384,-0.856715,-11.7081,-3.04486,7.10583,5.91669,-11.0163,-4.80375  …  -10.8812,-4.67865,0.283584,4.1266,-9.45304,2.75902,-9.32641,-7.66154,-8.41943,2.75543],Distributions.Normal{Float64}(μ=0.0, σ=1.0),Distributions.Normal{Float64}(μ=0.0, σ=1.0))"
      ]
     },
     "execution_count": 2,
     "metadata": {},
     "output_type": "execute_result"
    }
   ],
   "source": [
    "xs = collect(1:1/3:50)\n",
    "phi(k) = (GynC.Federn.odeohnetreatment(k))[1]\n",
    "measerr = Normal(0,1)\n",
    "ndata = 300\n",
    "augz = 100\n",
    "prior = GynC.Federn.prior\n",
    "\n",
    "m = GynC.syntheticmodel(xs, phi, prior, ndata, augz, measerr)"
   ]
  },
  {
   "cell_type": "code",
   "execution_count": 14,
   "metadata": {
    "collapsed": false
   },
   "outputs": [
    {
     "name": "stderr",
     "output_type": "stream",
     "text": [
      "WARNING: Method definition grado!(Any, Any) in module Main at In[12]:7 overwritten at In[14]:7.\n"
     ]
    },
    {
     "ename": "LoadError",
     "evalue": "LoadError: DomainError:\nwhile loading In[14], in expression starting on line 10",
     "output_type": "error",
     "traceback": [
      "LoadError: DomainError:\nwhile loading In[14], in expression starting on line 10",
      "",
      " in nan_dom_err at ./math.jl:196 [inlined]",
      " in log(::Float64) at ./math.jl:202",
      " in dhzloop2(::Array{Float64,2}, ::Array{Float64,1}, ::Array{Float64,1}) at /home/numerik/bzfsikor/.julia/v0.5/GynC/src/eb/regularizers.jl:101",
      " in dhz(::Array{Float64,1}, ::Array{Float64,1}, ::Array{Float64,1}, ::Distributions.Normal{Float64}) at /home/numerik/bzfsikor/.julia/v0.5/GynC/src/eb/regularizers.jl:71",
      " in (::GynC.##85#88{GynC.LikelihoodModel,Float64})(::Array{Float64,1}) at /home/numerik/bzfsikor/.julia/v0.5/GynC/src/eb/likelihoodmodel.jl:46",
      " in grado! at ./In[14]:7 [inlined]",
      " in (::Optim.#fg!#4{GynC.##79#82{GynC.LikelihoodModel,Float64},#grado!})(::Array{Float64,1}, ::Array{Float64,1}) at /home/numerik/bzfsikor/.julia/v0.5/Optim/src/types.jl:200",
      " in linefunc!(::Optim.DifferentiableFunction, ::Array{Float64,1}, ::Array{Float64,1}, ::Float64, ::Array{Float64,1}, ::Array{Float64,1}, ::Bool) at /home/numerik/bzfsikor/.julia/v0.5/LineSearches/src/hagerzhang.jl:496",
      " in hagerzhang!(::Optim.DifferentiableFunction, ::Array{Float64,1}, ::Array{Float64,1}, ::Array{Float64,1}, ::Array{Float64,1}, ::LineSearches.LineSearchResults{Float64}, ::Float64, ::Bool, ::Float64, ::Float64, ::Float64, ::Float64, ::Float64, ::Float64, ::Int64, ::Float64, ::Int64, ::Int64) at /home/numerik/bzfsikor/.julia/v0.5/LineSearches/src/hagerzhang.jl:87",
      " in hagerzhang!(::Optim.DifferentiableFunction, ::Array{Float64,1}, ::Array{Float64,1}, ::Array{Float64,1}, ::Array{Float64,1}, ::LineSearches.LineSearchResults{Float64}, ::Float64, ::Bool, ::Float64, ::Float64, ::Float64, ::Float64, ::Float64, ::Float64, ::Int64, ::Float64, ::Int64) at /home/numerik/bzfsikor/.julia/v0.5/LineSearches/src/hagerzhang.jl:75 (repeats 4 times)",
      " in update_state!(::Optim.DifferentiableFunction, ::Optim.BFGSState{Float64}, ::Optim.BFGS) at /home/numerik/bzfsikor/.julia/v0.5/Optim/src/bfgs.jl:76",
      " in optimize(::Optim.DifferentiableFunction, ::Array{Float64,1}, ::Optim.BFGS, ::Optim.OptimizationOptions{Void}) at /home/numerik/bzfsikor/.julia/v0.5/Optim/src/optimize.jl:241",
      " in optimize(::Function, ::Function, ::Array{Float64,1}, ::Optim.BFGS) at /home/numerik/bzfsikor/.julia/v0.5/Optim/src/optimize.jl:123"
     ]
    }
   ],
   "source": [
    "w0 = ones(xs) / length(xs)\n",
    "\n",
    "o = GynC.mple_obj(m, 0.9)\n",
    "grado = GynC.dmple_obj(m, 0.9)\n",
    "\n",
    "function grado!(x, d)\n",
    "    d[:] = grado(x)\n",
    "end\n",
    "\n",
    "optimize(o, grado!, w0, BFGS())"
   ]
  },
  {
   "cell_type": "code",
   "execution_count": null,
   "metadata": {
    "collapsed": true
   },
   "outputs": [],
   "source": [
    "BFGS()"
   ]
  }
 ],
 "metadata": {
  "kernelspec": {
   "display_name": "Julia 0.5.0",
   "language": "julia",
   "name": "julia-0.5"
  },
  "language_info": {
   "file_extension": ".jl",
   "mimetype": "application/julia",
   "name": "julia",
   "version": "0.5.0"
  }
 },
 "nbformat": 4,
 "nbformat_minor": 1
}
