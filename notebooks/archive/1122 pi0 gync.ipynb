{
 "cells": [
  {
   "cell_type": "code",
   "execution_count": 1,
   "metadata": {
    "collapsed": false
   },
   "outputs": [
    {
     "name": "stdout",
     "output_type": "stream",
     "text": [
      "cookie: xoXpWCaukYnfawRk\n",
      "VERSION: "
     ]
    },
    {
     "name": "stderr",
     "output_type": "stream",
     "text": [
      "WARNING: Method definition (::Type{Graphs.KeyVertex})(Int64, #K<:Any) in module Graphs at /home/numerik/bzfsikor/.julia/v0.5/Graphs/src/common.jl:12 overwritten at /home/numerik/bzfsikor/.julia/v0.5/Graphs/src/common.jl:16.\n",
      "WARNING: Method definition (::Type{Graphs.Edge})(Int64, #V<:Any, #V<:Any) in module Graphs at /home/numerik/bzfsikor/.julia/v0.5/Graphs/src/common.jl:54 overwritten at /home/numerik/bzfsikor/.julia/v0.5/Graphs/src/common.jl:60.\n",
      "WARNING: Method definition (::Type{Graphs.ExEdge})(Int64, #V<:Any, #V<:Any, Base.Dict{String, Any}) in module Graphs at /home/numerik/bzfsikor/.julia/v0.5/Graphs/src/common.jl:72 overwritten at /home/numerik/bzfsikor/.julia/v0.5/Graphs/src/common.jl:83.\n",
      "WARNING: Method definition (::Type{Graphs.TargetIterator})(#G<:Graphs.AbstractGraph, #EList<:Any) in module Graphs at /home/numerik/bzfsikor/.julia/v0.5/Graphs/src/common.jl:123 overwritten at /home/numerik/bzfsikor/.julia/v0.5/Graphs/src/common.jl:127.\n",
      "WARNING: Method definition (::Type{Graphs.SourceIterator})(#G<:Graphs.AbstractGraph, #EList<:Any) in module Graphs at /home/numerik/bzfsikor/.julia/v0.5/Graphs/src/common.jl:141 overwritten at /home/numerik/bzfsikor/.julia/v0.5/Graphs/src/common.jl:145.\n",
      "WARNING: Method definition edge_property_requirement(Graphs.AbstractEdgePropertyInspector{#T<:Any}, Graphs.AbstractGraph{#V<:Any, E<:Any}) in module Graphs at /home/numerik/bzfsikor/.julia/v0.5/Graphs/src/common.jl:164 overwritten at /home/numerik/bzfsikor/.julia/v0.5/Graphs/src/common.jl:179.\n",
      "WARNING: Method definition vertex_index(#V<:Union{Graphs.KeyVertex, Graphs.ExVertex}, Graphs.GenericGraph{#V<:Union{Graphs.KeyVertex, Graphs.ExVertex}, E<:Any, VList<:Any, EList<:Any, IncList<:Any}) in module Graphs at /home/numerik/bzfsikor/.julia/v0.5/Graphs/src/graph.jl:65 overwritten at /home/numerik/bzfsikor/.julia/v0.5/Graphs/src/graph.jl:67.\n",
      "WARNING: Method definition (::Type{Graphs.GDistanceVisitor})(#G<:Graphs.AbstractGraph, #DMap<:Any) in module Graphs at /home/numerik/bzfsikor/.julia/v0.5/Graphs/src/breadth_first_visit.jl:107 overwritten at /home/numerik/bzfsikor/.julia/v0.5/Graphs/src/breadth_first_visit.jl:111.\n"
     ]
    },
    {
     "name": "stdout",
     "output_type": "stream",
     "text": [
      "0.5.0\n",
      "worker_arg: `--worker xoXpWCaukYnfawRk`\n"
     ]
    },
    {
     "name": "stderr",
     "output_type": "stream",
     "text": [
      "WARNING: using Plots.density in module GynC conflicts with an existing identifier.\n",
      "WARNING: Method definition require(Symbol) in module Base at loading.jl:345 overwritten in module GynC at /home/numerik/bzfsikor/.julia/v0.5/Requires/src/require.jl:12.\n"
     ]
    }
   ],
   "source": [
    "using GynC"
   ]
  },
  {
   "cell_type": "code",
   "execution_count": 59,
   "metadata": {
    "collapsed": false
   },
   "outputs": [
    {
     "data": {
      "text/plain": [
       "1000-element Array{Array{Float64,1},1}:\n",
       " [1778.72,1038.61,178.164,0.799595,0.00333117,0.0465978,8.24737e-5,1.3394,0.425799,24.88  …  36.8051,-1.90213,1.52393,49.0684,44.0574,0.0185189,0.00888333,0.000921367,-2.0526e-5,1.54989e-5]       \n",
       " [187.35,1616.04,87.8781,2.29028,0.000145564,0.0496089,0.000209892,3.03765,0.19599,68.961  …  -45.3592,-0.179716,6.39692,64.6598,77.503,0.00866571,0.00947633,0.00100108,-3.79881e-5,6.88627e-5]    \n",
       " [6567.43,1731.08,181.236,1.95789,0.00116774,0.0565062,0.000299127,1.92235,1.25705,26.8401  …  70.2955,-4.96813,5.63625,29.8541,16.5261,0.0201641,0.0088177,0.000905323,0.000108019,7.41487e-5]     \n",
       " [2863.3,3347.47,34.4149,1.65366,0.0046923,0.0232599,2.16092e-5,3.9879,1.68806,32.4336  …  -14.8206,8.35181,-0.740255,30.4976,118.504,0.0266992,0.00910228,0.00100098,0.000110221,-4.38313e-5]      \n",
       " [3499.83,2838.15,77.6281,2.25339,0.00148482,0.00263263,3.22671e-5,3.75526,0.259713,0.430105  …  27.6981,-1.43876,1.69126,86.7706,86.6869,-0.00227776,0.00905777,0.00103028,0.000192062,0.000182699]\n",
       " [1834.3,4122.94,160.755,1.49385,0.00354641,0.124208,0.000281037,0.0857425,0.416457,22.4981  …  -29.5325,7.05432,1.19497,67.6102,70.3207,0.00813369,0.00885612,0.00100814,0.000121107,9.28683e-5]   \n",
       " [3008.86,5664.19,124.239,1.72104,0.00313127,0.131133,1.5909e-5,4.61461,1.35453,31.8597  …  -3.85152,1.73256,-1.28526,70.5799,45.1214,0.0275091,0.00905283,0.000914747,6.2052e-5,-1.53807e-5]       \n",
       " [2784.88,6477.58,130.436,0.11968,0.000813236,0.105793,0.00018793,2.46249,1.54128,24.6777  …  60.0064,2.06806,2.37032,33.7882,-38.3743,0.0099262,0.00913394,0.000908959,-7.85739e-6,2.23862e-5]     \n",
       " [5721.7,609.412,186.005,1.77126,0.00257783,0.0656304,0.000204161,2.48092,1.56088,38.9783  …  71.932,6.57409,2.25959,61.5604,76.3084,0.0195206,0.00942536,0.000899016,3.1935e-5,0.000143418]        \n",
       " [2976.0,6373.51,66.6045,1.57784,0.00205452,0.054488,0.000162284,1.6484,1.02295,31.2209  …  -33.5203,3.02071,-4.46539,37.4866,18.6098,0.0155623,0.00893602,0.000968752,0.000170907,4.98901e-5]      \n",
       " [2407.84,13.5076,178.558,1.93539,0.00357385,0.15299,4.80829e-5,2.18345,1.9884,27.4356  …  10.9612,7.72225,2.70835,70.9312,86.6375,0.0252018,0.00839433,0.0010274,5.53919e-5,6.05671e-5]            \n",
       " [5873.19,4937.36,192.098,0.984091,0.00439196,0.145867,7.9916e-5,1.54703,1.68848,3.76349  …  154.865,2.79128,2.0042,33.5805,66.1625,0.0226747,0.00889055,0.000862187,-5.80339e-5,0.000177195]       \n",
       " [6011.37,6288.6,39.8572,1.93583,0.00467329,0.0233001,0.000130694,2.23671,1.47753,55.1028  …  33.1419,-7.19883,3.19615,24.9974,31.2335,0.0129766,0.00894428,0.000975743,-5.98571e-6,-3.5622e-5]     \n",
       " ⋮                                                                                                                                                                                                  \n",
       " [6706.76,502.081,41.4386,0.225755,9.26358e-6,0.103324,4.47253e-5,3.46488,1.65367,74.8128  …  9.43143,1.86058,-1.78567,62.3381,107.786,0.0478831,0.00842032,0.000893144,-4.05793e-5,1.30473e-5]     \n",
       " [1912.5,1353.18,103.041,1.58547,0.00340578,0.116012,9.67612e-5,4.9515,2.10435,33.2059  …  57.1242,-7.82225,-0.975243,19.1839,26.4153,-0.00617584,0.00884586,0.000882092,0.000107812,0.000180144]   \n",
       " [5751.46,6835.71,151.6,1.78836,0.0033082,0.0814304,7.91671e-5,4.9474,1.24332,25.8123  …  112.298,6.33399,2.2411,-29.2525,28.9874,0.0369276,0.00885365,0.00102629,-2.3908e-5,1.84423e-5]            \n",
       " [3831.07,5471.47,174.69,0.297099,0.00325759,0.167601,0.000141426,4.59341,1.26196,67.3797  …  104.655,3.99303,1.28194,76.4574,104.732,0.0116867,0.00913298,0.000906866,0.000136823,6.15689e-5]      \n",
       " [5365.82,926.573,6.03115,1.375,0.00420853,0.149113,0.000283766,0.678916,1.9419,62.0064  …  101.353,9.20182,-4.84796,43.5985,43.5633,0.0227554,0.00950684,0.000981101,-1.74643e-5,0.000152785]      \n",
       " [6467.48,237.45,174.157,2.04393,0.00108408,0.0098834,3.59964e-5,2.73585,1.24908,36.9627  …  86.2818,2.77793,1.15245,93.0725,78.5731,0.00742103,0.00864547,0.000885138,2.50601e-5,1.93918e-5]       \n",
       " [4959.98,1208.86,103.939,1.39151,0.00141505,0.138391,0.000187698,3.93692,0.786511,47.2651  …  31.3939,5.11283,-3.73673,-17.349,-6.78174,0.037347,0.0093747,0.000902099,0.000122434,0.000113114]    \n",
       " [6815.0,4676.29,25.5637,2.2933,0.00265552,0.0531529,0.000140658,3.38206,1.1971,49.5404  …  82.6335,2.71617,-0.99741,2.93025,84.3398,-0.00594634,0.00878945,0.000971194,1.88486e-5,0.000205768]     \n",
       " [1002.55,3635.83,69.2034,0.560059,0.00409146,0.149633,0.00027553,4.95526,0.4573,56.7172  …  -12.3825,-5.04244,-1.58722,65.3535,80.6051,0.0355405,0.0086556,0.000958326,3.27945e-5,0.000182733]     \n",
       " [1568.46,526.768,156.504,0.190804,0.00113835,0.145781,4.69236e-6,0.687194,0.658475,60.9123  …  23.0585,4.81073,-5.1666,112.833,109.859,0.0282817,0.00890236,0.000909212,2.00797e-5,9.18447e-5]     \n",
       " [3277.16,2086.72,20.2971,1.3739,0.0030537,0.0158814,1.62553e-5,1.36354,1.13322,21.7999  …  -2.76592,0.349409,0.648042,103.623,68.2475,0.0165072,0.00892348,0.00097338,0.000115086,4.00123e-5]      \n",
       " [4721.03,803.105,114.955,1.0506,0.00281755,0.184709,4.49289e-5,2.0983,1.85237,44.5572  …  95.3727,2.47958,-0.403681,70.6927,71.1455,0.00301037,0.00885801,0.000915388,0.000101449,5.07119e-5]      "
      ]
     },
     "execution_count": 59,
     "metadata": {},
     "output_type": "execute_result"
    }
   ],
   "source": [
    "function sampleuniform(nsamples)\n",
    "  yprior = GynC.priory0(1)\n",
    "  xsuni = Vector{Float64}[]\n",
    "  for i = 1:10000\n",
    "      trial = vcat(GynC.refparms.* rand(82), rand(yprior))\n",
    "      !any(isnan(GynC.forwardsol(trial))) && push!(xsuni, trial)\n",
    "      length(xsuni) == 1000 && break\n",
    "  end\n",
    "  xsuni\n",
    "end\n",
    "\n",
    "#xsuni = filter(x->!any(isnan(x)), map(GynC.forwardsol, xsuni))"
   ]
  },
  {
   "cell_type": "code",
   "execution_count": null,
   "metadata": {
    "collapsed": true
   },
   "outputs": [],
   "source": []
  }
 ],
 "metadata": {
  "kernelspec": {
   "display_name": "Julia 0.5.0",
   "language": "julia",
   "name": "julia-0.5"
  },
  "language_info": {
   "file_extension": ".jl",
   "mimetype": "application/julia",
   "name": "julia",
   "version": "0.5.0"
  }
 },
 "nbformat": 4,
 "nbformat_minor": 1
}
