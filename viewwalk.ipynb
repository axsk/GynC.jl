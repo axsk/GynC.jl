{
 "cells": [
  {
   "cell_type": "code",
   "execution_count": null,
   "metadata": {
    "collapsed": false
   },
   "outputs": [],
   "source": [
    "using JLD, Mamba\n",
    "using Pipe\n",
    "include(\"gyncycle.jl\")\n",
    "\n",
    "acceptance(mc::Array) = mapslices(mc,[1,2]) do mc\n",
    "    n = size(mc,1)\n",
    "    sum([mc[i,:,:] != mc[i+1,:,:] for i in 1:n-1]) / (n-1);\n",
    "  end |> vec\n",
    "\n",
    "acceptance(c::AbstractChains) = acceptance(c.value)\n",
    "\n",
    "mergeparms!(aparms, sparms) = (aparms[SAMPLEPARMS]=sparms; aparms)\n",
    "\n",
    "mergeparms(aparms,sparms) = mergeparms!(copy(aparms), sparms)\n",
    "\n",
    "function loglikelihood(mc::Array{Float64,3}, data::Matrix)\n",
    "    mapslices(mc.value, 2) do modelparms\n",
    "        aparms = mergeparms(parms, modelparms[1:length(SAMPLEPARMS)])\n",
    "        y0 = modelparms[length(SAMPLEPARMS)+1:end]\n",
    "        loglikelihood(data, aparms, y0)\n",
    "    end\n",
    "end\n",
    "\n",
    "mergepersons(mcs) = cat(3,map(x->x[1:minimum(map(x->size(x,1), mcs)),:,:],mcs)...);\n",
    "\n",
    "loglikelihood(mc::AbstractChains, data::Matrix) = loglikelihood(mc.value, data);\n",
    "\n",
    "function newestjld(dir)\n",
    "    jlds = filter(x->endswith(x, \"jld\"), readdir(dir))\n",
    "    file = jlds[indmax(map(ctime, jlds))]\n",
    "    joinpath(dir, file)\n",
    "end;"
   ]
  },
  {
   "cell_type": "code",
   "execution_count": null,
   "metadata": {
    "collapsed": false,
    "scrolled": false
   },
   "outputs": [],
   "source": [
    "file = newestjld(\"out\")\n",
    "@time mcs = load(file)[\"mc\"] |> mergepersons\n",
    "mcs = Chains(mcs, names = vcat(parameternames[SAMPLEPARMS], speciesnames))\n",
    "println(\"file: \", file)\n",
    "println(\"size: \", size(mcs))\n",
    "println(\"acc:  \", map(x->round(x,2),acceptance(mcs)))\n",
    "draw(plot(mcs[:,[1:10,83:92],:]), ask=false, fmt=:png)"
   ]
  }
 ],
 "metadata": {
  "kernelspec": {
   "display_name": "Julia 0.4.0",
   "language": "julia",
   "name": "julia-0.4"
  },
  "language_info": {
   "file_extension": ".jl",
   "mimetype": "application/julia",
   "name": "julia",
   "version": "0.4.1"
  }
 },
 "nbformat": 4,
 "nbformat_minor": 0
}
